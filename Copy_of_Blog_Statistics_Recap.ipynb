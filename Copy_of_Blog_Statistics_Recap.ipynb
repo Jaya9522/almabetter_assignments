{
  "nbformat": 4,
  "nbformat_minor": 0,
  "metadata": {
    "colab": {
      "name": "Copy of Blog - Statistics Recap.ipynb",
      "provenance": [],
      "collapsed_sections": [],
      "include_colab_link": true
    },
    "kernelspec": {
      "name": "python3",
      "display_name": "Python 3"
    }
  },
  "cells": [
    {
      "cell_type": "markdown",
      "metadata": {
        "id": "view-in-github",
        "colab_type": "text"
      },
      "source": [
        "<a href=\"https://colab.research.google.com/github/Jaya9522/almabetter_assignments/blob/main/Copy_of_Blog_Statistics_Recap.ipynb\" target=\"_parent\"><img src=\"https://colab.research.google.com/assets/colab-badge.svg\" alt=\"Open In Colab\"/></a>"
      ]
    },
    {
      "cell_type": "markdown",
      "metadata": {
        "id": "Oq9OIkpjU3hr"
      },
      "source": [
        "# <b> In this assignment, you need to put up notes around the topics which have been covered in Probability & Statistics so far. You should first create handwritten summary notes and then upload the photos in this assignment notebook. Please keep your summary elaborate so that you can refer to them at some later point of time as well. \n",
        "\n"
      ]
    },
    {
      "cell_type": "markdown",
      "source": [
        "Probability denotes the possibility of the outcome of any random event. The meaning of this term is to check the extent to which any event is likely to happen. For example, when we flip a coin in the air, what is the possibility of getting a head? The answer to this question is based on the number of possible outcomes. Here the possibility is either head or tail will be the outcome. So, the probability of a head to come as a result is 1/2.\n",
        "\n",
        "The probability is the measure of the likelihood of an event to happen. It measures the certainty of the event. The formula for probability is given by;\n",
        "\n",
        "P(E) = Number of Favourable Outcomes/Number of total outcomes\n",
        "\n",
        "P(E) = n(E)/n(S)\n",
        "\n",
        "Here,\n",
        "\n",
        "n(E) = Number of event favourable to event E\n",
        "\n",
        "n(S) = Total number of outcome\n",
        "\n",
        "What is Statistics?\n",
        "Statistics is the study of the collection, analysis, interpretation, presentation, and organization of data. It is a method of collecting and summarising the data. This has many applications from a small scale to large scale. Whether it is the study of the population of the country or its economy, stats are used for all such data analysis.\n",
        "\n",
        "Statistics has a huge scope in many fields such as sociology, psychology, geology, weather forecasting, etc. The data collected here for analysis could be quantitative or qualitative. Quantitative data are also of two types such as: discrete and continuous. Discrete data has a fixed value whereas continuous data is not a fixed data but has a range. There are many terms and formulas used in this concept. See the below table to understand them.\n",
        "\n",
        "Terms Used in Probability and Statistics\n",
        "There are various terms utilised in the probability and statistics concepts, Such as:\n",
        "\n",
        "Random Experiment\n",
        "Sample Sample\n",
        "Random variables\n",
        "Expected Value\n",
        "Independence\n",
        "Variance\n",
        "Mean"
      ],
      "metadata": {
        "id": "xBUxyJYeeGU7"
      }
    }
  ]
}