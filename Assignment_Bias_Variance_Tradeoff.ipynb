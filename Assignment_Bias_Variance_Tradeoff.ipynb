{
  "nbformat": 4,
  "nbformat_minor": 0,
  "metadata": {
    "colab": {
      "name": "Assignment - Bias-Variance Tradeoff.ipynb",
      "provenance": [],
      "collapsed_sections": [],
      "include_colab_link": true
    },
    "kernelspec": {
      "name": "python3",
      "display_name": "Python 3"
    }
  },
  "cells": [
    {
      "cell_type": "markdown",
      "metadata": {
        "id": "view-in-github",
        "colab_type": "text"
      },
      "source": [
        "<a href=\"https://colab.research.google.com/github/Jaya9522/almabetter_assignments/blob/main/Assignment_Bias_Variance_Tradeoff.ipynb\" target=\"_parent\"><img src=\"https://colab.research.google.com/assets/colab-badge.svg\" alt=\"Open In Colab\"/></a>"
      ]
    },
    {
      "cell_type": "markdown",
      "metadata": {
        "id": "Oq9OIkpjU3hr"
      },
      "source": [
        "# <b> The Boston Housing Dataset is a derived from information collected by the U.S. Census Service concerning housing in the area of Boston MA. The following describes the dataset columns:\n",
        "\n",
        "* CRIM - per capita crime rate by town\n",
        "* ZN - proportion of residential land zoned for lots over 25,000 sq.ft.\n",
        "* INDUS - proportion of non-retail business acres per town.\n",
        "* CHAS - Charles River dummy variable (1 if tract bounds river; 0 otherwise)\n",
        "* NOX - nitric oxides concentration (parts per 10 million)\n",
        "* RM - average number of rooms per dwelling\n",
        "* AGE - proportion of owner-occupied units built prior to 1940\n",
        "* DIS - weighted distances to five Boston employment centres\n",
        "* RAD - index of accessibility to radial highways\n",
        "* TAX - full-value property-tax rate per \\$10,000\n",
        "* PTRATIO - pupil-teacher ratio by town\n",
        "* B - 1000(Bk - 0.63)^2 where Bk is the proportion of blacks by town\n",
        "* LSTAT - % lower status of the population\n",
        "* MEDV - Median value of owner-occupied homes in $1000's\n",
        "\n",
        "## <b>MEDV is the dependent variable.\n",
        "\n",
        "## Fit polynomial regression on this dataset for degrees 1 to 10. To do such a regression, consider only one variable and then run polynomial fit and plot the train and test errors w.r.t model complexity. You can also repeat this experiment for all the other variables. Also do not use <code>np.polyfit</code>function, but use the <code>LinearRegression()</code> using the scikit-learn library.</b>"
      ]
    },
    {
      "cell_type": "code",
      "metadata": {
        "id": "tkMhzOURjCxF"
      },
      "source": [
        "# Importing the libraries\n",
        "import numpy as np\n",
        "import pandas as pd\n",
        "from numpy import math\n",
        "\n",
        "from sklearn.preprocessing import MinMaxScaler\n",
        "from sklearn.model_selection import train_test_split\n",
        "from sklearn.linear_model import LinearRegression\n",
        "from sklearn.metrics import r2_score\n",
        "from sklearn.metrics import mean_squared_error\n",
        "\n",
        "import matplotlib.pyplot as plt"
      ],
      "execution_count": 1,
      "outputs": []
    }
  ]
}