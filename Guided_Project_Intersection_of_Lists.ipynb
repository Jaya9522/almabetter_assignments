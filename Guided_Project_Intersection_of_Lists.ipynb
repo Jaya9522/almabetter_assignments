{
  "nbformat": 4,
  "nbformat_minor": 0,
  "metadata": {
    "kernelspec": {
      "display_name": "Python 3",
      "language": "python",
      "name": "python3"
    },
    "language_info": {
      "codemirror_mode": {
        "name": "ipython",
        "version": 3
      },
      "file_extension": ".py",
      "mimetype": "text/x-python",
      "name": "python",
      "nbconvert_exporter": "python",
      "pygments_lexer": "ipython3",
      "version": "3.7.1"
    },
    "colab": {
      "name": "Guided Project - Intersection of Lists.ipynb",
      "provenance": [],
      "collapsed_sections": [],
      "include_colab_link": true
    }
  },
  "cells": [
    {
      "cell_type": "markdown",
      "metadata": {
        "id": "view-in-github",
        "colab_type": "text"
      },
      "source": [
        "<a href=\"https://colab.research.google.com/github/Jaya9522/almabetter_assignments/blob/main/Guided_Project_Intersection_of_Lists.ipynb\" target=\"_parent\"><img src=\"https://colab.research.google.com/assets/colab-badge.svg\" alt=\"Open In Colab\"/></a>"
      ]
    },
    {
      "cell_type": "markdown",
      "metadata": {
        "id": "rtBrwN-Aexbo"
      },
      "source": [
        "Given a list of n lists, write a function which returns the intersection of all the n lists. Each list can have any number of elements.\n",
        "\n",
        "Example 1:\n",
        "\n",
        "```\n",
        "input = [[5, 5, 5, 8, 10], \n",
        "      [5, 5, 7, 8], \n",
        "      [5, 5, 8, 9, 11]]\n",
        "```\n",
        "\n",
        "```\n",
        "output = [5, 5, 8]\n",
        "```\n",
        "\n",
        "Example 2:\n",
        "\n",
        "```\n",
        "input = [[5, 6], \n",
        "      [5, 5, 7, 8], \n",
        "      [5, 5, 8, 9]]\n",
        "```\n",
        "\n",
        "\n",
        "```\n",
        "output = [5]\n",
        "```"
      ]
    },
    {
      "cell_type": "code",
      "source": [
        "input1 = [[5, 5, 5, 8, 10,6], \n",
        "      [5, 5, 7, 8,6], \n",
        "      [5, 5, 8, 9, 11,6],\n",
        "      [5,5,8,9,10,6],\n",
        "      [5,5,8,9,18,6],\n",
        "      [5,5,8,9,9,6]]\n",
        "input2 = [[5, 6], \n",
        "      [5, 5, 7, 8], \n",
        "      [5, 5, 8, 9]]   \n",
        "input3=[[1,1,1,2,3,3,5],\n",
        "        [1,1,3,6,7]]         "
      ],
      "metadata": {
        "id": "6LeE1eId2o_N"
      },
      "execution_count": 2,
      "outputs": []
    },
    {
      "cell_type": "code",
      "source": [
        "#converting to set"
      ],
      "metadata": {
        "id": "hXsmbC948PLj"
      },
      "execution_count": null,
      "outputs": []
    },
    {
      "cell_type": "code",
      "source": [
        "lst1=input1[0]\n",
        "lst2=input1[1]\n",
        "inter_lst=set(lst1).intersection(set(lst2))\n",
        "inter_lst"
      ],
      "metadata": {
        "id": "nAdqq8P14OHH",
        "outputId": "59c41d69-6a9f-4ee3-f1b3-7f4c87382b1e",
        "colab": {
          "base_uri": "https://localhost:8080/"
        }
      },
      "execution_count": 4,
      "outputs": [
        {
          "output_type": "execute_result",
          "data": {
            "text/plain": [
              "{5, 6, 8}"
            ]
          },
          "metadata": {},
          "execution_count": 4
        }
      ]
    },
    {
      "cell_type": "code",
      "source": [
        "# intersection using frequency\n",
        "#step 1 get the smallest list"
      ],
      "metadata": {
        "id": "_EwGIydR8Sim"
      },
      "execution_count": null,
      "outputs": []
    },
    {
      "cell_type": "code",
      "source": [
        "lst1=sorted(input1,key=len)\n",
        "lst1"
      ],
      "metadata": {
        "id": "TArioq317n2x",
        "outputId": "1c4e1c25-5e8e-4268-c2ab-159b66d8a5b6",
        "colab": {
          "base_uri": "https://localhost:8080/"
        }
      },
      "execution_count": 5,
      "outputs": [
        {
          "output_type": "execute_result",
          "data": {
            "text/plain": [
              "[[5, 5, 7, 8, 6],\n",
              " [5, 5, 5, 8, 10, 6],\n",
              " [5, 5, 8, 9, 11, 6],\n",
              " [5, 5, 8, 9, 10, 6],\n",
              " [5, 5, 8, 9, 18, 6],\n",
              " [5, 5, 8, 9, 9, 6]]"
            ]
          },
          "metadata": {},
          "execution_count": 5
        }
      ]
    },
    {
      "cell_type": "code",
      "source": [
        "# step 2 getting the frequency of element"
      ],
      "metadata": {
        "id": "ZwH4cPmC8A6h"
      },
      "execution_count": null,
      "outputs": []
    },
    {
      "cell_type": "code",
      "source": [
        "freq={}\n",
        "\n",
        "for i in lst1[0]:\n",
        "  if i in freq:\n",
        "    freq[i]+=1\n",
        "  else:\n",
        "    freq[i]=1\n",
        "freq      "
      ],
      "metadata": {
        "id": "av4XXDkk77Oa",
        "outputId": "eafac80e-7f1f-4a93-a59b-3da08086b96e",
        "colab": {
          "base_uri": "https://localhost:8080/"
        }
      },
      "execution_count": 6,
      "outputs": [
        {
          "output_type": "execute_result",
          "data": {
            "text/plain": [
              "{5: 2, 6: 1, 7: 1, 8: 1}"
            ]
          },
          "metadata": {},
          "execution_count": 6
        }
      ]
    },
    {
      "cell_type": "code",
      "source": [
        "# compare the freq with all the lists\n",
        "for key,value in freq.items():\n",
        "  for i in lst1:\n",
        "    if value > i.count(key):\n",
        "      freq[key]=i.count(key)\n",
        "freq           "
      ],
      "metadata": {
        "id": "Xz7zB4Dp-8Fi",
        "outputId": "ab72a089-73e3-4410-8c94-e603881a8655",
        "colab": {
          "base_uri": "https://localhost:8080/"
        }
      },
      "execution_count": 9,
      "outputs": [
        {
          "output_type": "execute_result",
          "data": {
            "text/plain": [
              "{5: 2, 6: 1, 7: 0, 8: 1}"
            ]
          },
          "metadata": {},
          "execution_count": 9
        }
      ]
    },
    {
      "cell_type": "code",
      "source": [
        "# return the output as a list\n",
        "res = []\n",
        "for key in freq:\n",
        "  for j in range(freq[key]):\n",
        "    res.append(key)\n",
        "res    "
      ],
      "metadata": {
        "id": "0FXjqOvbACDQ",
        "outputId": "3fe916ec-dc5a-47e8-f0f6-d4f9110c3b9a",
        "colab": {
          "base_uri": "https://localhost:8080/"
        }
      },
      "execution_count": 10,
      "outputs": [
        {
          "output_type": "execute_result",
          "data": {
            "text/plain": [
              "[5, 5, 8, 6]"
            ]
          },
          "metadata": {},
          "execution_count": 10
        }
      ]
    },
    {
      "cell_type": "code",
      "source": [
        "def intrsct(lst):\n",
        "  #sort the list\n",
        "  lst1 = sorted(lst, key = len)\n",
        "  #create the freq dict\n",
        "  freq = {}\n",
        "  for i in lst1[0]:\n",
        "    if i in freq:\n",
        "      freq[i] += 1\n",
        "    else:\n",
        "      freq[i] = 1\n",
        "  # compare the freq\n",
        "  for key,value in freq.items():\n",
        "    for i in lst1:\n",
        "      if value > i.count(key):\n",
        "        freq[key] = i.count(key)\n",
        "  # get the result\n",
        "  res = []\n",
        "  for key in freq:\n",
        "    for j in range(freq[key]):\n",
        "      res.append(key)\n",
        "  return res"
      ],
      "metadata": {
        "id": "p9dgiHnjEZSm"
      },
      "execution_count": 16,
      "outputs": []
    },
    {
      "cell_type": "code",
      "source": [
        "intrsct(input3)"
      ],
      "metadata": {
        "id": "zYLYm6ahCz13",
        "outputId": "74412f27-6b66-4d9f-e5bc-7eb6dd7d7948",
        "colab": {
          "base_uri": "https://localhost:8080/"
        }
      },
      "execution_count": 18,
      "outputs": [
        {
          "output_type": "execute_result",
          "data": {
            "text/plain": [
              "[1, 1, 3]"
            ]
          },
          "metadata": {},
          "execution_count": 18
        }
      ]
    },
    {
      "cell_type": "code",
      "source": [
        "intrsct(input1)"
      ],
      "metadata": {
        "id": "-j9uL5w3EmbW",
        "outputId": "b5bc23e2-5820-42ea-fb24-1cce7c36e18a",
        "colab": {
          "base_uri": "https://localhost:8080/"
        }
      },
      "execution_count": 19,
      "outputs": [
        {
          "output_type": "execute_result",
          "data": {
            "text/plain": [
              "[5, 5, 8, 6]"
            ]
          },
          "metadata": {},
          "execution_count": 19
        }
      ]
    },
    {
      "cell_type": "code",
      "source": [
        "intrsct(input2)"
      ],
      "metadata": {
        "id": "O0yb1RDAEp5Z",
        "outputId": "93e3687a-0b87-4106-ddee-34c383b581bc",
        "colab": {
          "base_uri": "https://localhost:8080/"
        }
      },
      "execution_count": 20,
      "outputs": [
        {
          "output_type": "execute_result",
          "data": {
            "text/plain": [
              "[5]"
            ]
          },
          "metadata": {},
          "execution_count": 20
        }
      ]
    }
  ]
}