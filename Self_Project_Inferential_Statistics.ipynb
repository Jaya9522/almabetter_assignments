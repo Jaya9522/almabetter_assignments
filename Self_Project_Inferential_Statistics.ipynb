{
  "nbformat": 4,
  "nbformat_minor": 0,
  "metadata": {
    "colab": {
      "name": "Self Project - Inferential Statistics.ipynb",
      "provenance": [],
      "collapsed_sections": [],
      "include_colab_link": true
    },
    "kernelspec": {
      "name": "python3",
      "display_name": "Python 3"
    }
  },
  "cells": [
    {
      "cell_type": "markdown",
      "metadata": {
        "id": "view-in-github",
        "colab_type": "text"
      },
      "source": [
        "<a href=\"https://colab.research.google.com/github/Jaya9522/almabetter_assignments/blob/main/Self_Project_Inferential_Statistics.ipynb\" target=\"_parent\"><img src=\"https://colab.research.google.com/assets/colab-badge.svg\" alt=\"Open In Colab\"/></a>"
      ]
    },
    {
      "cell_type": "code",
      "metadata": {
        "id": "3esVBW4i70f9"
      },
      "source": [
        "from scipy.stats import uniform\n",
        "from scipy.stats import norm\n",
        "from scipy.stats import chi2\n",
        "from scipy.stats import t\n",
        "from scipy.stats import f"
      ],
      "execution_count": 1,
      "outputs": []
    },
    {
      "cell_type": "markdown",
      "metadata": {
        "id": "3qjmg__vWv1-"
      },
      "source": [
        "# <b> <u> Use only these imported functions to check the confidence intervals or to obtain P-values </b>"
      ]
    },
    {
      "cell_type": "markdown",
      "metadata": {
        "id": "Oq9OIkpjU3hr"
      },
      "source": [
        "# <b><u> Problem 1 </u> </b>\n",
        "\n",
        "## <b>The average IQ of a sample of $N$ university students was found to be $\\bar{x}$. Write a Python function which performs a statistical test to determine whether the average IQ of university students is greater than $\\mu$, assuming that IQs are normally distributed. It is known from previous studies that the standard deviation of IQs among students is approximately $\\sigma$. This function can take the above parameters as arguments along with the significance level. Check the function outputs for the following input combinations. Also use only the functions imported above to perform the tests.</b>"
      ]
    },
    {
      "cell_type": "code",
      "metadata": {
        "id": "U7kH7roOPgCb"
      },
      "source": [
        "input_list = [{'sample_size' : 50 , 'sample_mean' : 105 , 'hypothesis_mean' : 100, 'population_std_deviation' : 20, 'significance_level' : 0.05},\n",
        "              {'sample_size' : 100 , 'sample_mean' : 102 , 'hypothesis_mean' : 100, 'population_std_deviation' : 30, 'significance_level' : 0.05},\n",
        "              {'sample_size' : 500 , 'sample_mean' : 110 , 'hypothesis_mean' : 100, 'population_std_deviation' : 10, 'significance_level' : 0.01}]"
      ],
      "execution_count": 2,
      "outputs": []
    },
    {
      "cell_type": "code",
      "metadata": {
        "id": "vl1JlMDqZUVl"
      },
      "source": [
        "# Your code here\n",
        "def hypothesis_test(n,sample_mean,hypothesis_mean,S_D,significance):\n",
        "  sqr_rt_n = (n)**0.5\n",
        "  z = (sample_mean - hypothesis_mean)/(S_D/sqr_rt_n)\n",
        "  p_value = 1-norm.cdf(z,0,1)\n",
        "  if p_value <= significance:\n",
        "    return 'we fail to reject null hypothesis'\n",
        "  else:\n",
        "    return 'we reject null hypothesis'"
      ],
      "execution_count": 3,
      "outputs": []
    },
    {
      "cell_type": "code",
      "source": [
        "hypothesis_test(50,105,100,20,0.05)"
      ],
      "metadata": {
        "id": "4A6bxJvEZZbo",
        "outputId": "12c9bc5d-b658-41de-ed80-782922491fa5",
        "colab": {
          "base_uri": "https://localhost:8080/",
          "height": 36
        }
      },
      "execution_count": 4,
      "outputs": [
        {
          "output_type": "execute_result",
          "data": {
            "text/plain": [
              "'we fail to reject null hypothesis'"
            ],
            "application/vnd.google.colaboratory.intrinsic+json": {
              "type": "string"
            }
          },
          "metadata": {},
          "execution_count": 4
        }
      ]
    },
    {
      "cell_type": "code",
      "source": [
        "hypothesis_test(100,102,100,30,0.05)"
      ],
      "metadata": {
        "id": "jDpJ3U8pZjuO",
        "outputId": "3df3243e-0a1b-4542-f401-8be67930fe39",
        "colab": {
          "base_uri": "https://localhost:8080/",
          "height": 36
        }
      },
      "execution_count": 5,
      "outputs": [
        {
          "output_type": "execute_result",
          "data": {
            "text/plain": [
              "'we reject null hypothesis'"
            ],
            "application/vnd.google.colaboratory.intrinsic+json": {
              "type": "string"
            }
          },
          "metadata": {},
          "execution_count": 5
        }
      ]
    },
    {
      "cell_type": "code",
      "source": [
        "hypothesis_test(500,110,100,10,0.01)"
      ],
      "metadata": {
        "id": "XrtouOEJZlkw",
        "outputId": "c14b311c-963a-426a-afaa-903ac110dff9",
        "colab": {
          "base_uri": "https://localhost:8080/",
          "height": 36
        }
      },
      "execution_count": 6,
      "outputs": [
        {
          "output_type": "execute_result",
          "data": {
            "text/plain": [
              "'we fail to reject null hypothesis'"
            ],
            "application/vnd.google.colaboratory.intrinsic+json": {
              "type": "string"
            }
          },
          "metadata": {},
          "execution_count": 6
        }
      ]
    },
    {
      "cell_type": "markdown",
      "metadata": {
        "id": "1ECG-HvyQ01v"
      },
      "source": [
        "# <b><u> Problem 2 </u> </b>\n",
        "\n",
        "## <b>Write a Python function to perform a statistical test to assess whether the standard deviation of the heights of 10- year-old children is equal to $\\sigma$ cm, based on the random sample of $N$ where $N$ < 20 heights in cm. You can use numpy functionality to generate the list of N heights between 120 and 140 which follow the normal distribution. You can use <code>np.randn() </code> to generate the sample heights. Your code should print all the possible conclusions based on the tests. Check the function outputs for N = 10, 15, 18. Also you can take values of $\\sigma$ to be 3, 4 and 5 respectively </b>"
      ]
    },
    {
      "cell_type": "code",
      "metadata": {
        "id": "Cg8Um9lnSHtB"
      },
      "source": [
        "# Your code here \n",
        "input_list = [{'sample_size' : 10 , 'hypothesis_std_dev' : 3,  'significance_level' : 0.05},\n",
        "              {'sample_size' : 15 , 'hypothesis_std_dev' : 4,  'significance_level' : 0.05},\n",
        "              {'sample_size' : 18  , 'hypothesis_std_dev' : 5,  'significance_level' : 0.01}]"
      ],
      "execution_count": 7,
      "outputs": []
    },
    {
      "cell_type": "code",
      "metadata": {
        "id": "210rPbjq_Ymo"
      },
      "source": [
        "def mean(any_list):\n",
        "\n",
        "  '''This function takes list and returns mean'''\n",
        "\n",
        "  sum = 0\n",
        "  for heights in any_list:\n",
        "    sum = sum + heights\n",
        "  return sum/len(any_list)"
      ],
      "execution_count": 8,
      "outputs": []
    },
    {
      "cell_type": "code",
      "metadata": {
        "id": "peNCOHWpAfkh"
      },
      "source": [
        "def variance(any_list):\n",
        "\n",
        "  '''This function takes list and returns variance'''\n",
        "\n",
        "  var = 0\n",
        "  for heights in any_list:\n",
        "    var = var + (heights - sample_mean)**2\n",
        "  return var/(len(any_list)-1)\n"
      ],
      "execution_count": 9,
      "outputs": []
    },
    {
      "cell_type": "code",
      "metadata": {
        "id": "jp8GbIQjCk3g"
      },
      "source": [
        "def hypothesis_test_chi(sample_size,hypothesis_std_dev,significance_level):\n",
        "\n",
        "  '''This function returns whether given proposed explanation for given claim'''\n",
        "  \n",
        "  # create random heights\n",
        "  lower_limit = 120\n",
        "  upper_limit = 140\n",
        "  random_height_list = list(np.random.randint(lower_limit,upper_limit,size=(sample_size)))\n",
        "\n",
        "  # find sample statistics\n",
        "  sample_mean = mean(random_height_list)\n",
        "  variance_ = variance(random_height_list)\n",
        "\n",
        "  # find test statistics\n",
        "  chi_square = ((sample_size-1) * variance_) / hypothesis_std_dev**2\n",
        "  df = sample_size-1\n",
        "  'chi-square distribution is asymetric distribution we should use confidence interval to express our hypothesis'\n",
        "\n",
        "  # find the confidence interval\n",
        "  confidence = 1-significance_level\n",
        "  lower_bound = significance_level/2\n",
        "  upper_bound = confidence + significance_level/2\n",
        "\n",
        "  lower_bound_ppf = chi2.ppf(lower_bound,sample_size,df)\n",
        "  upper_bound_ppf = chi2.ppf(upper_bound,sample_size,df)\n",
        "\n",
        "  if lower_bound_ppf<chi_square<upper_bound_ppf:\n",
        "    return 'we fail to reject null hypothesis'\n",
        "  else:\n",
        "    return 'we reject null hypothesis'"
      ],
      "execution_count": 10,
      "outputs": []
    },
    {
      "cell_type": "code",
      "source": [
        "hypothesis_test_chi(10,3,0.05)"
      ],
      "metadata": {
        "id": "XgXHdVnrZ_fn",
        "outputId": "0c3c5f05-65ec-4a81-da10-bd833c16ea32",
        "colab": {
          "base_uri": "https://localhost:8080/",
          "height": 287
        }
      },
      "execution_count": 12,
      "outputs": [
        {
          "output_type": "error",
          "ename": "NameError",
          "evalue": "ignored",
          "traceback": [
            "\u001b[0;31m---------------------------------------------------------------------------\u001b[0m",
            "\u001b[0;31mNameError\u001b[0m                                 Traceback (most recent call last)",
            "\u001b[0;32m<ipython-input-12-aca9a8ae6bd9>\u001b[0m in \u001b[0;36m<module>\u001b[0;34m()\u001b[0m\n\u001b[0;32m----> 1\u001b[0;31m \u001b[0mhypothesis_test_chi\u001b[0m\u001b[0;34m(\u001b[0m\u001b[0;36m10\u001b[0m\u001b[0;34m,\u001b[0m\u001b[0;36m3\u001b[0m\u001b[0;34m,\u001b[0m\u001b[0;36m0.05\u001b[0m\u001b[0;34m)\u001b[0m\u001b[0;34m\u001b[0m\u001b[0;34m\u001b[0m\u001b[0m\n\u001b[0m",
            "\u001b[0;32m<ipython-input-10-b3d112f9f038>\u001b[0m in \u001b[0;36mhypothesis_test_chi\u001b[0;34m(sample_size, hypothesis_std_dev, significance_level)\u001b[0m\n\u001b[1;32m      6\u001b[0m   \u001b[0mlower_limit\u001b[0m \u001b[0;34m=\u001b[0m \u001b[0;36m120\u001b[0m\u001b[0;34m\u001b[0m\u001b[0;34m\u001b[0m\u001b[0m\n\u001b[1;32m      7\u001b[0m   \u001b[0mupper_limit\u001b[0m \u001b[0;34m=\u001b[0m \u001b[0;36m140\u001b[0m\u001b[0;34m\u001b[0m\u001b[0;34m\u001b[0m\u001b[0m\n\u001b[0;32m----> 8\u001b[0;31m   \u001b[0mrandom_height_list\u001b[0m \u001b[0;34m=\u001b[0m \u001b[0mlist\u001b[0m\u001b[0;34m(\u001b[0m\u001b[0mnp\u001b[0m\u001b[0;34m.\u001b[0m\u001b[0mrandom\u001b[0m\u001b[0;34m.\u001b[0m\u001b[0mrandint\u001b[0m\u001b[0;34m(\u001b[0m\u001b[0mlower_limit\u001b[0m\u001b[0;34m,\u001b[0m\u001b[0mupper_limit\u001b[0m\u001b[0;34m,\u001b[0m\u001b[0msize\u001b[0m\u001b[0;34m=\u001b[0m\u001b[0;34m(\u001b[0m\u001b[0msample_size\u001b[0m\u001b[0;34m)\u001b[0m\u001b[0;34m)\u001b[0m\u001b[0;34m)\u001b[0m\u001b[0;34m\u001b[0m\u001b[0;34m\u001b[0m\u001b[0m\n\u001b[0m\u001b[1;32m      9\u001b[0m \u001b[0;34m\u001b[0m\u001b[0m\n\u001b[1;32m     10\u001b[0m   \u001b[0;31m# find sample statistics\u001b[0m\u001b[0;34m\u001b[0m\u001b[0;34m\u001b[0m\u001b[0;34m\u001b[0m\u001b[0m\n",
            "\u001b[0;31mNameError\u001b[0m: name 'np' is not defined"
          ]
        }
      ]
    },
    {
      "cell_type": "code",
      "source": [
        "hypothesis_test_chi(15,4,0.05)"
      ],
      "metadata": {
        "id": "aNXyNWNCaJIj",
        "outputId": "79d68c8e-2a15-4032-8879-921df11f6122",
        "colab": {
          "base_uri": "https://localhost:8080/",
          "height": 287
        }
      },
      "execution_count": 13,
      "outputs": [
        {
          "output_type": "error",
          "ename": "NameError",
          "evalue": "ignored",
          "traceback": [
            "\u001b[0;31m---------------------------------------------------------------------------\u001b[0m",
            "\u001b[0;31mNameError\u001b[0m                                 Traceback (most recent call last)",
            "\u001b[0;32m<ipython-input-13-e408a2048bec>\u001b[0m in \u001b[0;36m<module>\u001b[0;34m()\u001b[0m\n\u001b[0;32m----> 1\u001b[0;31m \u001b[0mhypothesis_test_chi\u001b[0m\u001b[0;34m(\u001b[0m\u001b[0;36m15\u001b[0m\u001b[0;34m,\u001b[0m\u001b[0;36m4\u001b[0m\u001b[0;34m,\u001b[0m\u001b[0;36m0.05\u001b[0m\u001b[0;34m)\u001b[0m\u001b[0;34m\u001b[0m\u001b[0;34m\u001b[0m\u001b[0m\n\u001b[0m",
            "\u001b[0;32m<ipython-input-10-b3d112f9f038>\u001b[0m in \u001b[0;36mhypothesis_test_chi\u001b[0;34m(sample_size, hypothesis_std_dev, significance_level)\u001b[0m\n\u001b[1;32m      6\u001b[0m   \u001b[0mlower_limit\u001b[0m \u001b[0;34m=\u001b[0m \u001b[0;36m120\u001b[0m\u001b[0;34m\u001b[0m\u001b[0;34m\u001b[0m\u001b[0m\n\u001b[1;32m      7\u001b[0m   \u001b[0mupper_limit\u001b[0m \u001b[0;34m=\u001b[0m \u001b[0;36m140\u001b[0m\u001b[0;34m\u001b[0m\u001b[0;34m\u001b[0m\u001b[0m\n\u001b[0;32m----> 8\u001b[0;31m   \u001b[0mrandom_height_list\u001b[0m \u001b[0;34m=\u001b[0m \u001b[0mlist\u001b[0m\u001b[0;34m(\u001b[0m\u001b[0mnp\u001b[0m\u001b[0;34m.\u001b[0m\u001b[0mrandom\u001b[0m\u001b[0;34m.\u001b[0m\u001b[0mrandint\u001b[0m\u001b[0;34m(\u001b[0m\u001b[0mlower_limit\u001b[0m\u001b[0;34m,\u001b[0m\u001b[0mupper_limit\u001b[0m\u001b[0;34m,\u001b[0m\u001b[0msize\u001b[0m\u001b[0;34m=\u001b[0m\u001b[0;34m(\u001b[0m\u001b[0msample_size\u001b[0m\u001b[0;34m)\u001b[0m\u001b[0;34m)\u001b[0m\u001b[0;34m)\u001b[0m\u001b[0;34m\u001b[0m\u001b[0;34m\u001b[0m\u001b[0m\n\u001b[0m\u001b[1;32m      9\u001b[0m \u001b[0;34m\u001b[0m\u001b[0m\n\u001b[1;32m     10\u001b[0m   \u001b[0;31m# find sample statistics\u001b[0m\u001b[0;34m\u001b[0m\u001b[0;34m\u001b[0m\u001b[0;34m\u001b[0m\u001b[0m\n",
            "\u001b[0;31mNameError\u001b[0m: name 'np' is not defined"
          ]
        }
      ]
    },
    {
      "cell_type": "code",
      "source": [
        "hypothesis_test_chi(18,5,0.01)"
      ],
      "metadata": {
        "id": "_fnCuv_AaL7S"
      },
      "execution_count": null,
      "outputs": []
    },
    {
      "cell_type": "markdown",
      "metadata": {
        "id": "X7bIJKrivZ_T"
      },
      "source": [
        "# <b><u> Problem 3 </u></b>\n",
        "\n",
        "# <b> In a one-year mortality investigation, $m$ of the $M$ ninety-year-old males and $f$ of the $F$ ninety-year-old females present at the start of the investigation died before the end of the year. Assuming that the numbers of deaths follow binomial distributions, write a Python function to test whether there is a difference between male and female mortality rates at this age.</b>"
      ]
    },
    {
      "cell_type": "code",
      "metadata": {
        "id": "-cGOyeDnTqyH"
      },
      "source": [
        "# Your code here \n",
        "input_list = [{'dead_males' : 25 , 'males' : 100,  'dead_females' : 20, 'females' : 150 ,  'significance_level' : 0.05},\n",
        "              {'dead_males' : 30 , 'males' : 110,  'dead_females' : 20, 'females' : 160 ,  'significance_level' : 0.05},\n",
        "              {'dead_males' : 20 , 'males' : 100,  'dead_females' : 20, 'females' : 120 ,  'significance_level' : 0.01}]\n"
      ],
      "execution_count": 14,
      "outputs": []
    },
    {
      "cell_type": "code",
      "metadata": {
        "id": "Xo-hbvRmRhK7"
      },
      "source": [
        "def prop_hypothesis_testing(dead_males,males,dead_females,females,significance_level):\n",
        "  p_males = dead_males / males\n",
        "  q_males = 1 - p_males\n",
        "\n",
        "  p_females = dead_females / females\n",
        "  q_females = 1 - p_females\n",
        "\n",
        "  denom = ((p_males*q_males/males) + (p_females*q_females/females))**0.5\n",
        "\n",
        "  z = (p_males - p_females) / denom\n",
        "\n",
        "  p_value = 2*(1-norm.cdf(z,0,1))\n",
        "\n",
        "  p_value\n",
        "\n",
        "  if p_value <= significance_level:\n",
        "    return 'we fail to reject null hypothesis'\n",
        "  else:\n",
        "    return 'we reject null hypothesis'"
      ],
      "execution_count": 16,
      "outputs": []
    },
    {
      "cell_type": "code",
      "source": [
        "prop_hypothesis_testing(25,100,20,150,0.05)"
      ],
      "metadata": {
        "id": "JS_pMyj5biMO",
        "outputId": "4737207d-af39-4b6d-df54-bbdf9b21f968",
        "colab": {
          "base_uri": "https://localhost:8080/",
          "height": 36
        }
      },
      "execution_count": 17,
      "outputs": [
        {
          "output_type": "execute_result",
          "data": {
            "text/plain": [
              "'we fail to reject null hypothesis'"
            ],
            "application/vnd.google.colaboratory.intrinsic+json": {
              "type": "string"
            }
          },
          "metadata": {},
          "execution_count": 17
        }
      ]
    },
    {
      "cell_type": "code",
      "source": [
        "prop_hypothesis_testing(30,110,20,160,0.05)"
      ],
      "metadata": {
        "id": "yVsv9RkCbo7p",
        "outputId": "b2e9d818-473b-4fd1-d7f4-f2a393cedb37",
        "colab": {
          "base_uri": "https://localhost:8080/",
          "height": 36
        }
      },
      "execution_count": 18,
      "outputs": [
        {
          "output_type": "execute_result",
          "data": {
            "text/plain": [
              "'we fail to reject null hypothesis'"
            ],
            "application/vnd.google.colaboratory.intrinsic+json": {
              "type": "string"
            }
          },
          "metadata": {},
          "execution_count": 18
        }
      ]
    },
    {
      "cell_type": "code",
      "source": [
        "prop_hypothesis_testing(30,100,20,120,0.01)"
      ],
      "metadata": {
        "id": "egTB7SL-brR2",
        "outputId": "20997c2a-2518-46da-9b0c-a8b51f854bfd",
        "colab": {
          "base_uri": "https://localhost:8080/",
          "height": 36
        }
      },
      "execution_count": 19,
      "outputs": [
        {
          "output_type": "execute_result",
          "data": {
            "text/plain": [
              "'we reject null hypothesis'"
            ],
            "application/vnd.google.colaboratory.intrinsic+json": {
              "type": "string"
            }
          },
          "metadata": {},
          "execution_count": 19
        }
      ]
    }
  ]
}