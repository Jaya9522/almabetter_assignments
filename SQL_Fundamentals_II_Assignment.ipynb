{
  "nbformat": 4,
  "nbformat_minor": 0,
  "metadata": {
    "colab": {
      "name": "SQL Fundamentals  II - Assignment.ipynb",
      "provenance": [],
      "collapsed_sections": [],
      "include_colab_link": true
    },
    "kernelspec": {
      "name": "python3",
      "display_name": "Python 3"
    }
  },
  "cells": [
    {
      "cell_type": "markdown",
      "metadata": {
        "id": "view-in-github",
        "colab_type": "text"
      },
      "source": [
        "<a href=\"https://colab.research.google.com/github/Jaya9522/almabetter_assignments/blob/main/SQL_Fundamentals_II_Assignment.ipynb\" target=\"_parent\"><img src=\"https://colab.research.google.com/assets/colab-badge.svg\" alt=\"Open In Colab\"/></a>"
      ]
    },
    {
      "cell_type": "markdown",
      "metadata": {
        "id": "LSx52toYvkE0"
      },
      "source": [
        "# <b> Question 1 : Return the customer IDs of customers who have spent at least $110 with the staff member who has an ID of 2.\n"
      ]
    },
    {
      "cell_type": "markdown",
      "source": [
        "SELECT customer_id, SUM(amount) FROM payment\n",
        "WHERE staff_id=2\n",
        "GROUP BY customer_id,staff_id\n",
        "HAVING SUM(amount) >= 110\n",
        "ORDER BY customer_id\n",
        "\n",
        "OUTPUT\n",
        "    customer_id  sum\n",
        " 1  148\t         110.78\n",
        " 2  187\t         110.81"
      ],
      "metadata": {
        "id": "SQqcz8VcSMxf"
      }
    },
    {
      "cell_type": "markdown",
      "metadata": {
        "id": "grhpLeadvkHP"
      },
      "source": [
        "# <b> Question 2 :  How many films begin with the letter J?\n"
      ]
    },
    {
      "cell_type": "markdown",
      "source": [
        "SELECT COUNT(title)\n",
        "FROM film\n",
        "WHERE title LIKE 'J%'\n",
        "\n",
        "\n",
        "OUTPUT\n",
        "  COUNT\n",
        "1 20"
      ],
      "metadata": {
        "id": "87sqLj3lS-9q"
      }
    },
    {
      "cell_type": "markdown",
      "metadata": {
        "id": "7ADgnW_VvkJg"
      },
      "source": [
        "# <b> Question 3 : What customer has the highest customer ID number whose name starts with an 'E' and has an address ID lower than 500?"
      ]
    },
    {
      "cell_type": "code",
      "metadata": {
        "id": "NGneZu8nxXN9"
      },
      "source": [
        ""
      ],
      "execution_count": null,
      "outputs": []
    },
    {
      "cell_type": "markdown",
      "source": [
        "SELECT customer_id, first_name, address_id FROM customer\n",
        "WHERE first_name ILIKE 'E%'\n",
        "GROUP BY customer_id\n",
        "HAVING address_id < 500\n",
        "ORDER BY customer_id DESC\n",
        "\n",
        "\n",
        "OUTPUT\n",
        "customer_id  first_name  address_id\n",
        "434\t         \"Eddie\"\t   439\n",
        "432\t         \"Edwin\"\t   437\n",
        "396          \"Earl\"\t     401\n",
        "384\t         \"Ernest\"\t   389\n",
        "378\t         \"Eugene\"\t   383\n",
        "331\t         \"Eric\"\t     336\n",
        "317\t         \"Edward\"\t   322\n",
        "298\t         \"Erika\"     303"
      ],
      "metadata": {
        "id": "DR1Z60g7TR-K"
      }
    }
  ]
}