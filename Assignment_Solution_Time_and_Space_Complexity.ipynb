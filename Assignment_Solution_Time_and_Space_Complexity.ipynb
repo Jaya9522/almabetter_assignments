{
  "nbformat": 4,
  "nbformat_minor": 0,
  "metadata": {
    "colab": {
      "name": "Assignment  Solution- Time and Space Complexity.ipynb",
      "provenance": [],
      "collapsed_sections": [],
      "include_colab_link": true
    },
    "kernelspec": {
      "name": "python3",
      "display_name": "Python 3"
    }
  },
  "cells": [
    {
      "cell_type": "markdown",
      "metadata": {
        "id": "view-in-github",
        "colab_type": "text"
      },
      "source": [
        "<a href=\"https://colab.research.google.com/github/Jaya9522/almabetter_assignments/blob/main/Assignment_Solution_Time_and_Space_Complexity.ipynb\" target=\"_parent\"><img src=\"https://colab.research.google.com/assets/colab-badge.svg\" alt=\"Open In Colab\"/></a>"
      ]
    },
    {
      "cell_type": "markdown",
      "metadata": {
        "id": "2jnw9mA7ZmdB"
      },
      "source": [
        "## <u>While doing this assignment only use those concepts which have been taught till now</u>"
      ]
    },
    {
      "cell_type": "markdown",
      "metadata": {
        "id": "OUYGTTD6Q2i_"
      },
      "source": [
        "# Problem 1\n",
        "\n",
        "Write a Python function which takes a string as an input and returns the reversed string as an output. \n",
        "\n",
        "\n",
        "*   Do not use any inbuilt funtion or method. Use `for` loops only.\n",
        "*   Also, do the time and space complexity analysis.\n",
        "\n"
      ]
    },
    {
      "cell_type": "code",
      "metadata": {
        "id": "jef509dzQxBU",
        "colab": {
          "base_uri": "https://localhost:8080/",
          "height": 35
        },
        "outputId": "87b177af-d132-4bc2-c5ff-29b0dcc816ac"
      },
      "source": [
        "# Write your code here\n",
        "\n",
        "\n",
        "def recerse_string(my_string):\n",
        "    '''Reverse the string'''\n",
        "    rev_string=''\n",
        "    for char in range(len(my_string)-1,-1,-1):                                  #concatenates string from last\n",
        "        rev_string+=my_string[char]\n",
        "    return rev_string\n",
        "\n",
        "my_string='While doing this assignment only use those concepts which have been taught till now'\n",
        "recerse_string(my_string)\n",
        "\n",
        "# Time Complexity : O(N)\n",
        "# Space Complexity : O(N)\n",
        "# Auxiliary Space : O(N)"
      ],
      "execution_count": null,
      "outputs": [
        {
          "output_type": "execute_result",
          "data": {
            "application/vnd.google.colaboratory.intrinsic+json": {
              "type": "string"
            },
            "text/plain": [
              "'won llit thguat neeb evah hcihw stpecnoc esoht esu ylno tnemngissa siht gniod elihW'"
            ]
          },
          "metadata": {
            "tags": []
          },
          "execution_count": 1
        }
      ]
    },
    {
      "cell_type": "markdown",
      "metadata": {
        "id": "wfeWSBcTgO6y"
      },
      "source": [
        "# Problem 2\n",
        "\n",
        "Write a Python function which takes a list of `n` lists as an input. Each of the `n` lists have `m` non-zero integers each. The function should return a list which contains `n` integers corresponding to the square of the maximum of each of the `n` lists in the list of lists.\n",
        "\n",
        "Example:\n",
        "Inputs\n",
        "```\n",
        "n = 2\n",
        "m = 3\n",
        "list_of_lists = [[1, 2, 3], [5, 7, 6]]\n",
        "```\n",
        "Output:\n",
        "```\n",
        "[9, 49]\n",
        "```\n",
        "\n",
        "*   Do not use any inbuilt funtion or method. Use `for` loops only.\n",
        "*   Also, do the time and space complexity analysis.\n"
      ]
    },
    {
      "cell_type": "code",
      "metadata": {
        "id": "x2rY4yMChDPM"
      },
      "source": [
        "# Write your code here\n",
        "def max_square(list_of_list):\n",
        "    '''Finds the square of maximums in iinner lists'''\n",
        "    output_list=[]                                                              #output list \n",
        "    for inner_list in list_of_list:\n",
        "        maximum=0\n",
        "        for num in inner_list:\n",
        "            if num> maximum :                                                   # calculates maximum\n",
        "                maximum=num\n",
        "        output_list.append(maximum**2)\n",
        "    return output_list\n",
        "        \n",
        "\n",
        "\n",
        "\n",
        "# Time Complexity : O(m*n)\n",
        "# Space Complexity : O(N*M)\n",
        "# Auxiliary Space : O(N)"
      ],
      "execution_count": null,
      "outputs": []
    },
    {
      "cell_type": "code",
      "metadata": {
        "id": "MaS_o-rfZghK",
        "colab": {
          "base_uri": "https://localhost:8080/",
          "height": 34
        },
        "outputId": "bb1bb237-5e64-4e68-c520-9088818a8868"
      },
      "source": [
        "max_square([[1, 2, 3],[1, 2, 13], [4,15, 7, 6], [5, 7, 6]])"
      ],
      "execution_count": null,
      "outputs": [
        {
          "output_type": "execute_result",
          "data": {
            "text/plain": [
              "[9, 169, 225, 49]"
            ]
          },
          "metadata": {
            "tags": []
          },
          "execution_count": 3
        }
      ]
    },
    {
      "cell_type": "code",
      "metadata": {
        "id": "J3ZazCtLghe2"
      },
      "source": [
        ""
      ],
      "execution_count": null,
      "outputs": []
    }
  ]
}