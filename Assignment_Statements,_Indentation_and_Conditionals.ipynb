{
  "nbformat": 4,
  "nbformat_minor": 0,
  "metadata": {
    "kernelspec": {
      "display_name": "Python 3",
      "language": "python",
      "name": "python3"
    },
    "language_info": {
      "codemirror_mode": {
        "name": "ipython",
        "version": 3
      },
      "file_extension": ".py",
      "mimetype": "text/x-python",
      "name": "python",
      "nbconvert_exporter": "python",
      "pygments_lexer": "ipython3",
      "version": "3.7.4"
    },
    "colab": {
      "provenance": [],
      "collapsed_sections": [],
      "include_colab_link": true
    }
  },
  "cells": [
    {
      "cell_type": "markdown",
      "metadata": {
        "id": "view-in-github",
        "colab_type": "text"
      },
      "source": [
        "<a href=\"https://colab.research.google.com/github/Jaya9522/almabetter_assignments/blob/main/Assignment_Statements%2C_Indentation_and_Conditionals.ipynb\" target=\"_parent\"><img src=\"https://colab.research.google.com/assets/colab-badge.svg\" alt=\"Open In Colab\"/></a>"
      ]
    },
    {
      "cell_type": "markdown",
      "metadata": {
        "id": "8WbUJEVzs8Bx"
      },
      "source": [
        "## <u>While doing this assignment only use those concepts which have been taught till now</u>"
      ]
    },
    {
      "cell_type": "markdown",
      "metadata": {
        "id": "KjPWYK0Rs8By"
      },
      "source": [
        "## <u>Problem 1</u>\n",
        "\n",
        "### As an analyst, you had to present the quarterly performance results of your client. The data which you were provided was on daily basis. To complete this task, you needed to extract the quarter from a given date. For example:\n",
        "\n",
        "* if the date lies between 1st Jan, 2020 - 31st March, 2020, you need to extract the corresponding quarter as '2020-Q1'\n",
        "\n",
        "* if the date lies between 1st April, 2020 - 30th June, 2020, the extracted quarter will be '2020-Q2'\n",
        "\n",
        "* if the date lies between 1st July, 2020 - 30th September, 2020, the extracted quarter will be '2020-Q3' \n",
        "\n",
        "* if the date lies between 1st October, 2020 - 31st Decemeber, 2020 then the extracted quarter will be '2020-Q4'\n"
      ]
    },
    {
      "cell_type": "code",
      "metadata": {
        "id": "RxVZTrenzfHC",
        "outputId": "f43eda99-f7cb-40e4-9642-b6ed393832a6",
        "colab": {
          "base_uri": "https://localhost:8080/"
        }
      },
      "source": [
        "# Take a proper date input from the user in the format YYYY-MM-DD. Consider this date as a string\n",
        "user_date = input()"
      ],
      "execution_count": 1,
      "outputs": [
        {
          "name": "stdout",
          "output_type": "stream",
          "text": [
            "2020-08-26\n"
          ]
        }
      ]
    },
    {
      "cell_type": "code",
      "metadata": {
        "id": "N1Yhpkiws8B3"
      },
      "source": [
        "# Write your code using if else statements to extract the quarter\n",
        "date_year = user_date[:4]\n",
        "date_month = user_date[5:7]\n",
        "\n",
        "# Store the quarter value in a string variable named quarter\n",
        "if (date_month>='01')&(date_month<='03'):\n",
        "  quarter=date_year + '-Q1'\n",
        "elif (date_month>='04')&(date_month<='06'):\n",
        "  quarter=date_year + '-Q2' \n",
        "elif (date_month>='07')&(date_month<='09'):\n",
        "  quarter=date_year + '-Q3' \n",
        "else:\n",
        "  quarter=date_year + '-Q4'  "
      ],
      "execution_count": 3,
      "outputs": []
    },
    {
      "cell_type": "code",
      "metadata": {
        "id": "KpMdlB5Fs8B8",
        "outputId": "5c7d0378-6130-4af4-e2e6-b1f5084f5bed",
        "colab": {
          "base_uri": "https://localhost:8080/"
        }
      },
      "source": [
        "# Print the extracted quarter\n",
        "print(quarter)"
      ],
      "execution_count": 4,
      "outputs": [
        {
          "output_type": "stream",
          "name": "stdout",
          "text": [
            "2020-Q3\n"
          ]
        }
      ]
    },
    {
      "cell_type": "markdown",
      "metadata": {
        "id": "5qd8g8UUs8CM"
      },
      "source": [
        "## <u>Problem 2 </u>\n",
        "\n",
        "* You went out in your local neighbourhood to collect the data of people residing in the locale. You surveyed 5 people and collected some data and stored that in a dictionary. You recorded their names, their age, their sex, their heights(in cms) and their weights(in kgs)"
      ]
    },
    {
      "cell_type": "code",
      "metadata": {
        "id": "FBJy9Sq_s8CN"
      },
      "source": [
        "# Surveyed data \n",
        "\n",
        "locality_data = {'Name' : ['Abhinav','Sohail','Dheeraj','Rashmi','Vaishali'],\n",
        "                  'Age' : [42,29,35,28,32],\n",
        "                  'Sex' : ['Male', 'Male','Male','Female','Female'] , \n",
        "                  'Height' : [172,175,170,168,170],\n",
        "                  'Weight' : [70,82,60,55,64]\n",
        "                 }"
      ],
      "execution_count": 5,
      "outputs": []
    },
    {
      "cell_type": "markdown",
      "metadata": {
        "id": "2_rBSgqz5Ums"
      },
      "source": [
        "* Find the mean and median heights and weights of the people in your locality"
      ]
    },
    {
      "cell_type": "code",
      "metadata": {
        "id": "zywXa51d6Eev",
        "outputId": "562c8f9b-cff6-4c77-9929-03ea4ad0a20d",
        "colab": {
          "base_uri": "https://localhost:8080/"
        }
      },
      "source": [
        "# Calculate the mean height and print it\n",
        "heights = locality_data['Height']\n",
        "mean_heights = sum(heights)/len(heights)\n",
        "mean_heights\n",
        "\n"
      ],
      "execution_count": 6,
      "outputs": [
        {
          "output_type": "execute_result",
          "data": {
            "text/plain": [
              "171.0"
            ]
          },
          "metadata": {},
          "execution_count": 6
        }
      ]
    },
    {
      "cell_type": "code",
      "source": [
        "# Calculate the mean weight and print it\n",
        "weight = locality_data['Weight']\n",
        "mean_weight = sum(weight)/len(weight)\n",
        "mean_weight"
      ],
      "metadata": {
        "id": "apIEmgqXgIGu",
        "outputId": "0317ee69-8d6b-4d1f-e82b-341637e40a74",
        "colab": {
          "base_uri": "https://localhost:8080/"
        }
      },
      "execution_count": 7,
      "outputs": [
        {
          "output_type": "execute_result",
          "data": {
            "text/plain": [
              "66.2"
            ]
          },
          "metadata": {},
          "execution_count": 7
        }
      ]
    },
    {
      "cell_type": "code",
      "source": [
        "# Calculate the median height and print it\n",
        "height = sorted(heights)\n",
        "N = len(heights)\n",
        "N%2\n"
      ],
      "metadata": {
        "id": "NJNpyI84f8Us",
        "outputId": "8dd0d113-0aa0-42a0-d48e-6364fa6327ff",
        "colab": {
          "base_uri": "https://localhost:8080/"
        }
      },
      "execution_count": 9,
      "outputs": [
        {
          "output_type": "execute_result",
          "data": {
            "text/plain": [
              "1"
            ]
          },
          "metadata": {},
          "execution_count": 9
        }
      ]
    },
    {
      "cell_type": "code",
      "source": [
        "median_height = height[int(N+1/2)-1]\n",
        "median_height"
      ],
      "metadata": {
        "id": "371P2JoBhEpp",
        "outputId": "6699e156-a447-476e-f95d-0105e028c074",
        "colab": {
          "base_uri": "https://localhost:8080/"
        }
      },
      "execution_count": 13,
      "outputs": [
        {
          "output_type": "execute_result",
          "data": {
            "text/plain": [
              "175"
            ]
          },
          "metadata": {},
          "execution_count": 13
        }
      ]
    },
    {
      "cell_type": "code",
      "source": [
        "# Calculate the median weight and print it\n",
        "weights = sorted(weight)\n",
        "Nn = len(weight)\n",
        "Nn%2"
      ],
      "metadata": {
        "id": "NvxHsRO0gh0F",
        "outputId": "69569cc2-a210-4d09-df50-e631c9fa6d03",
        "colab": {
          "base_uri": "https://localhost:8080/"
        }
      },
      "execution_count": 18,
      "outputs": [
        {
          "output_type": "execute_result",
          "data": {
            "text/plain": [
              "1"
            ]
          },
          "metadata": {},
          "execution_count": 18
        }
      ]
    },
    {
      "cell_type": "code",
      "source": [
        "median_weight = weights[int(Nn+1/2)-1]\n",
        "median_weight"
      ],
      "metadata": {
        "id": "65VHTM7VjVvO",
        "outputId": "77da5b18-ebc8-4ab3-a4f9-1d43f17ebd69",
        "colab": {
          "base_uri": "https://localhost:8080/"
        }
      },
      "execution_count": 19,
      "outputs": [
        {
          "output_type": "execute_result",
          "data": {
            "text/plain": [
              "82"
            ]
          },
          "metadata": {},
          "execution_count": 19
        }
      ]
    },
    {
      "cell_type": "markdown",
      "metadata": {
        "id": "yLb5awgPQeYA"
      },
      "source": [
        "* Write a Python code to print the first three elements from the list of age values corresponding to the key 'Age'"
      ]
    },
    {
      "cell_type": "code",
      "metadata": {
        "id": "wef2fVgx6Gji",
        "outputId": "0eb0aa98-87aa-480c-b098-24f261ad7142",
        "colab": {
          "base_uri": "https://localhost:8080/"
        }
      },
      "source": [
        "# Python code to print the first three elements for the key 'Age'\n",
        "\n",
        "ages = locality_data['Age']\n",
        "ages[:3]"
      ],
      "execution_count": 20,
      "outputs": [
        {
          "output_type": "execute_result",
          "data": {
            "text/plain": [
              "[42, 29, 35]"
            ]
          },
          "metadata": {},
          "execution_count": 20
        }
      ]
    },
    {
      "cell_type": "markdown",
      "metadata": {
        "id": "NGrZaqulRIM1"
      },
      "source": [
        "* Write a Python code to print the last two elements of the name list if the list of values corresponding to the key 'Name' contains the element 'Rashmi' else print 'Name not found'"
      ]
    },
    {
      "cell_type": "code",
      "metadata": {
        "id": "TBRZzwAcRTNL",
        "outputId": "f555f8e7-e20f-40cc-c2d9-40d5e1f05e81",
        "colab": {
          "base_uri": "https://localhost:8080/"
        }
      },
      "source": [
        "# Your code below\n",
        "names = locality_data['Name'][-2:]\n",
        "if 'Rashmi' in names:\n",
        "  print(\"list contain name Rashmi'\")\n",
        "else:\n",
        "  print('Name not found')\n",
        "\n"
      ],
      "execution_count": 24,
      "outputs": [
        {
          "output_type": "stream",
          "name": "stdout",
          "text": [
            "list contain name Rashmi'\n"
          ]
        }
      ]
    },
    {
      "cell_type": "code",
      "source": [],
      "metadata": {
        "id": "fGWB3SxSkpEg"
      },
      "execution_count": null,
      "outputs": []
    },
    {
      "cell_type": "markdown",
      "metadata": {
        "id": "ejRCi-vTs8CU"
      },
      "source": [
        "## <u> Problem 3 </u>\n",
        "\n",
        "A student will not be allowed to sit in exam if his/her attendence is less than 75%.\n",
        "\n",
        "Take following input from user\n",
        "* Number of classes held\n",
        "* Number of classes attended."
      ]
    },
    {
      "cell_type": "code",
      "metadata": {
        "id": "C5olNuDGs8CU",
        "outputId": "05257f31-2c53-48db-cbfa-3402df3f567f",
        "colab": {
          "base_uri": "https://localhost:8080/"
        }
      },
      "source": [
        "# Enter your input\n",
        "\n",
        "print(\"Number of classes held\")\n",
        "classes_held = int(input())\n",
        "\n",
        "print(\"Number of classes attended\")\n",
        "classes_attended = int(input())"
      ],
      "execution_count": 25,
      "outputs": [
        {
          "name": "stdout",
          "output_type": "stream",
          "text": [
            "Number of classes held\n",
            "100\n",
            "Number of classes attended\n",
            "80\n"
          ]
        }
      ]
    },
    {
      "cell_type": "code",
      "metadata": {
        "id": "i553Hqamm2jR",
        "outputId": "354ea289-cd03-4b6b-f0e0-767ffe57d29b",
        "colab": {
          "base_uri": "https://localhost:8080/"
        }
      },
      "source": [
        "# Calculate the attendance percentage\n",
        "attendance = classes_attended*100/classes_held\n",
        "\n",
        "print(f'The attendance is {attendance}')"
      ],
      "execution_count": 26,
      "outputs": [
        {
          "output_type": "stream",
          "name": "stdout",
          "text": [
            "The attendance is 80.0\n"
          ]
        }
      ]
    },
    {
      "cell_type": "markdown",
      "metadata": {
        "id": "QYDpXSANnKxV"
      },
      "source": [
        "And print the following statements based on the condition above\n",
        "\n",
        "* percentage of class attended\n",
        "* Is student is allowed to sit in exam or not."
      ]
    },
    {
      "cell_type": "code",
      "metadata": {
        "id": "SoQ3P0yym2ts",
        "outputId": "a652cda5-df36-4ac5-a8bb-4f0e1d27f9a5",
        "colab": {
          "base_uri": "https://localhost:8080/"
        }
      },
      "source": [
        "# Your code here \n",
        "if attendance < 75:\n",
        "  print('she/he would not able to sit in the exam')\n",
        "else:\n",
        "  print('congratulation you can sit in the exam')  "
      ],
      "execution_count": 28,
      "outputs": [
        {
          "output_type": "stream",
          "name": "stdout",
          "text": [
            "congratulation you can sit in the exam\n"
          ]
        }
      ]
    },
    {
      "cell_type": "markdown",
      "metadata": {
        "id": "P1rOYC8Is8Cf"
      },
      "source": [
        "## <u>Problem 4</u>\n",
        "\n",
        "### A school has following rules for grading system:\n",
        "* Below 25 - F\n",
        "* 25 to 45 - E\n",
        "* 45 to 50 - D\n",
        "* 50 to 60 - C\n",
        "* 60 to 80 - B\n",
        "* Above 80 - A\n",
        "\n",
        "Keep the left number inclusive and the right number exclusive, something like [25,45) for grade E where the set is closed at 25 and open at 45.\n",
        "\n",
        "Write a Python code which takes marks as inputs from the user and print the corresponding grade."
      ]
    },
    {
      "cell_type": "code",
      "metadata": {
        "id": "ySeGyCtCs8Cg",
        "outputId": "6f68a99f-b038-4c97-dfc9-9d2725ad7020",
        "colab": {
          "base_uri": "https://localhost:8080/"
        }
      },
      "source": [
        "# Your input here \n",
        "print(\"Enter your marks\")\n",
        "marks = int(input())"
      ],
      "execution_count": 29,
      "outputs": [
        {
          "name": "stdout",
          "output_type": "stream",
          "text": [
            "Enter your marks\n",
            "74\n"
          ]
        }
      ]
    },
    {
      "cell_type": "code",
      "metadata": {
        "id": "MI7mOHaqs8Cj",
        "outputId": "0096887d-a50f-4672-95db-df57c43db9c6",
        "colab": {
          "base_uri": "https://localhost:8080/"
        }
      },
      "source": [
        "# Your code here to print the corresponding grade\n",
        "if marks < 25:\n",
        "  print('your grade is F')\n",
        "elif (marks >=25) & (marks < 45):\n",
        "  print('your grade is E')\n",
        "elif(marks>=45) & (marks < 50):\n",
        "  print('your grade is D')\n",
        "elif (marks >=50) & (marks < 60):\n",
        "  print('your grade is C')\n",
        "elif(marks>=60) & (marks < 80):\n",
        "  print('your grade is B')\n",
        "else:\n",
        "  print('your grade is A')"
      ],
      "execution_count": 30,
      "outputs": [
        {
          "output_type": "stream",
          "name": "stdout",
          "text": [
            "your grade is B\n"
          ]
        }
      ]
    }
  ]
}