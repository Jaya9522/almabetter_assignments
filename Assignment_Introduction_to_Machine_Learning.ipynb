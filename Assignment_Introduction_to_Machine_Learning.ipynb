{
  "nbformat": 4,
  "nbformat_minor": 0,
  "metadata": {
    "colab": {
      "name": "Assignment - Introduction to Machine Learning.ipynb",
      "provenance": [],
      "collapsed_sections": [],
      "include_colab_link": true
    },
    "kernelspec": {
      "name": "python3",
      "display_name": "Python 3"
    }
  },
  "cells": [
    {
      "cell_type": "markdown",
      "metadata": {
        "id": "view-in-github",
        "colab_type": "text"
      },
      "source": [
        "<a href=\"https://colab.research.google.com/github/Jaya9522/almabetter_assignments/blob/main/Assignment_Introduction_to_Machine_Learning.ipynb\" target=\"_parent\"><img src=\"https://colab.research.google.com/assets/colab-badge.svg\" alt=\"Open In Colab\"/></a>"
      ]
    },
    {
      "cell_type": "markdown",
      "metadata": {
        "id": "Oq9OIkpjU3hr"
      },
      "source": [
        "# <b> Write a detailed blog on the introduction to machine learning wherein you will discuss about ideas of supervised, unsupervised and reinforcement learning. Also elaborate these ideas by expanding upon your understanding of classification, regression and clustering. Also lay down the steps involved in supervised learning. Use relevant and unique examples for discussing each ML technique.</b>"
      ]
    },
    {
      "cell_type": "markdown",
      "source": [
        "Machine learning (ML) is a type of artificial intelligence (AI) that allows software applications to become more accurate at predicting outcomes without being explicitly programmed to do so. Machine learning algorithms use historical data as input to predict new output values."
      ],
      "metadata": {
        "id": "jPAvUDx-Ej0o"
      }
    },
    {
      "cell_type": "markdown",
      "source": [
        "Supervised learning, also known as supervised machine learning, is a subcategory of machine learning and artificial intelligence. It is defined by its use of labeled datasets to train algorithms that to classify data or predict outcomes accurately."
      ],
      "metadata": {
        "id": "RPaNXa5oEmaH"
      }
    },
    {
      "cell_type": "markdown",
      "source": [
        "Unsupervised learning, also known as unsupervised machine learning, uses machine learning algorithms to analyze and cluster unlabeled datasets. These algorithms discover hidden patterns or data groupings without the need for human intervention."
      ],
      "metadata": {
        "id": "s4z5TixIEv9S"
      }
    },
    {
      "cell_type": "markdown",
      "source": [
        "Reinforcement learning is a machine learning training method based on rewarding desired behaviors and/or punishing undesired ones. In general, a reinforcement learning agent is able to perceive and interpret its environment, take actions and learn through trial and error."
      ],
      "metadata": {
        "id": "pE9ngkUdE-JX"
      }
    },
    {
      "cell_type": "markdown",
      "source": [
        "What is Classification In Machine Learning. Classification is a process of categorizing a given set of data into classes, It can be performed on both structured or unstructured data. The process starts with predicting the class of given data points. The classes are often referred to as target, label or categories."
      ],
      "metadata": {
        "id": "Vhp4EQbuFKAI"
      }
    },
    {
      "cell_type": "markdown",
      "source": [
        "Regression is a technique for investigating the relationship between independent variables or features and a dependent variable or outcome. It's used as a method for predictive modelling in machine learning, in which an algorithm is used to predict continuous outcomes."
      ],
      "metadata": {
        "id": "V1CwPQXqFTBO"
      }
    },
    {
      "cell_type": "markdown",
      "source": [
        "In machine learning too, we often group examples as a first step to understand a subject (data set) in a machine learning system. Grouping unlabeled examples is called clustering. As the examples are unlabeled, clustering relies on unsupervised machine learning."
      ],
      "metadata": {
        "id": "yhw-SXNgFUa-"
      }
    },
    {
      "cell_type": "markdown",
      "source": [
        "The steps for supervised learning are:\n",
        ".Prepare Data\n",
        "\n",
        ".Choose an Algorithm.\n",
        "\n",
        ".Fit a Model.\n",
        "\n",
        ".Choose a Validation Method.\n",
        "\n",
        ".Examine Fit and Update Until Satisfied.\n",
        "\n",
        ".Use Fitted Model for Predictions.\n",
        "\n",
        "\n"
      ],
      "metadata": {
        "id": "A99bkb4CFtVv"
      }
    },
    {
      "cell_type": "code",
      "metadata": {
        "id": "p0gkUooyR6Ix"
      },
      "source": [
        ""
      ],
      "execution_count": null,
      "outputs": []
    }
  ]
}