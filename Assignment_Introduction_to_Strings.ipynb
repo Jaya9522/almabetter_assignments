{
  "nbformat": 4,
  "nbformat_minor": 0,
  "metadata": {
    "kernelspec": {
      "display_name": "Python 3",
      "language": "python",
      "name": "python3"
    },
    "language_info": {
      "codemirror_mode": {
        "name": "ipython",
        "version": 3
      },
      "file_extension": ".py",
      "mimetype": "text/x-python",
      "name": "python",
      "nbconvert_exporter": "python",
      "pygments_lexer": "ipython3",
      "version": "3.7.4"
    },
    "colab": {
      "provenance": [],
      "collapsed_sections": [],
      "include_colab_link": true
    }
  },
  "cells": [
    {
      "cell_type": "markdown",
      "metadata": {
        "id": "view-in-github",
        "colab_type": "text"
      },
      "source": [
        "<a href=\"https://colab.research.google.com/github/Jaya9522/almabetter_assignments/blob/main/Assignment_Introduction_to_Strings.ipynb\" target=\"_parent\"><img src=\"https://colab.research.google.com/assets/colab-badge.svg\" alt=\"Open In Colab\"/></a>"
      ]
    },
    {
      "cell_type": "markdown",
      "metadata": {
        "id": "uoGoqLiHFo3U"
      },
      "source": [
        "## <u>While doing this assignment only use those concepts which have been taught till now</u>"
      ]
    },
    {
      "cell_type": "markdown",
      "metadata": {
        "id": "LJJbprE6Fo3V"
      },
      "source": [
        "## <u>Problem 1</u>\n",
        "\n",
        "You are given a sentence which reads <b>\"Wikipedia is a free online encyclopedia, created and edited by volunteers around the world and hosted by the Wikimedia Foundation.\"</b>\n",
        "\n",
        "Find the number of words in the given sentence."
      ]
    },
    {
      "cell_type": "code",
      "metadata": {
        "id": "bNs1w7lDFo3W"
      },
      "source": [
        "# Store the given sentence in a variable\n",
        "sentence = \"Wikipedia is a free online encyclopedia, created and edited by volunteers around the world and hosted by the Wikimedia Foundation.\""
      ],
      "execution_count": 1,
      "outputs": []
    },
    {
      "cell_type": "code",
      "metadata": {
        "id": "0pwUoE0VFo3b"
      },
      "source": [
        "# Calculate the total number of words in the sentence.  Hint : Use the count() method\n",
        "num_of_words =sentence.split(' ')\n"
      ],
      "execution_count": 4,
      "outputs": []
    },
    {
      "cell_type": "code",
      "metadata": {
        "id": "Fb7lWgHY0g_X",
        "outputId": "c78b27d7-4061-4c63-9efa-e40608b8a359",
        "colab": {
          "base_uri": "https://localhost:8080/"
        }
      },
      "source": [
        "# Print the variable num_of_words\n",
        "num_of_words"
      ],
      "execution_count": 5,
      "outputs": [
        {
          "output_type": "execute_result",
          "data": {
            "text/plain": [
              "['Wikipedia',\n",
              " 'is',\n",
              " 'a',\n",
              " 'free',\n",
              " 'online',\n",
              " 'encyclopedia,',\n",
              " 'created',\n",
              " 'and',\n",
              " 'edited',\n",
              " 'by',\n",
              " 'volunteers',\n",
              " 'around',\n",
              " 'the',\n",
              " 'world',\n",
              " 'and',\n",
              " 'hosted',\n",
              " 'by',\n",
              " 'the',\n",
              " 'Wikimedia',\n",
              " 'Foundation.']"
            ]
          },
          "metadata": {},
          "execution_count": 5
        }
      ]
    },
    {
      "cell_type": "code",
      "source": [
        "len(num_of_words)"
      ],
      "metadata": {
        "id": "584ssYmROXBt",
        "outputId": "7b5e7e6e-d8f5-4b54-870d-cd227a8618bb",
        "colab": {
          "base_uri": "https://localhost:8080/"
        }
      },
      "execution_count": 6,
      "outputs": [
        {
          "output_type": "execute_result",
          "data": {
            "text/plain": [
              "20"
            ]
          },
          "metadata": {},
          "execution_count": 6
        }
      ]
    },
    {
      "cell_type": "markdown",
      "metadata": {
        "id": "KNwy8gqZFo3h"
      },
      "source": [
        "## <u>Problem 2 </u>\n",
        "\n",
        "Write a Python code which takes a number and returns a corresponding string of hyphens. For example if the number is 3, it will return '---' , if the number is 5 it will return '-----'"
      ]
    },
    {
      "cell_type": "code",
      "metadata": {
        "id": "pA80LvUtFo3i",
        "colab": {
          "base_uri": "https://localhost:8080/"
        },
        "outputId": "9ff4d88c-bceb-4cd6-97a4-a3066145e55b"
      },
      "source": [
        "# Store the user input in a variable\n",
        "inputted_number = int(input())"
      ],
      "execution_count": 7,
      "outputs": [
        {
          "name": "stdout",
          "output_type": "stream",
          "text": [
            "5\n"
          ]
        }
      ]
    },
    {
      "cell_type": "code",
      "metadata": {
        "id": "tX6VPyrQFo3m"
      },
      "source": [
        "# Create a string of equivalent number of hyphens. Hint : remember what happens when we multiply string by a number?\n",
        "string_of_hyphens = '-'*inputted_number"
      ],
      "execution_count": 8,
      "outputs": []
    },
    {
      "cell_type": "code",
      "metadata": {
        "id": "AfJ1TmZVFo3s",
        "outputId": "5dedc9c5-5702-4356-ef27-cfcc5f65f9f5",
        "colab": {
          "base_uri": "https://localhost:8080/",
          "height": 36
        }
      },
      "source": [
        "# Print the string of hyphens\n",
        "string_of_hyphens"
      ],
      "execution_count": 9,
      "outputs": [
        {
          "output_type": "execute_result",
          "data": {
            "text/plain": [
              "'-----'"
            ],
            "application/vnd.google.colaboratory.intrinsic+json": {
              "type": "string"
            }
          },
          "metadata": {},
          "execution_count": 9
        }
      ]
    },
    {
      "cell_type": "markdown",
      "metadata": {
        "id": "hCG8HmhRFo3u"
      },
      "source": [
        "## <u> Problem 3 </u>\n",
        "\n",
        "A string can be called a safe bridge if it has no gaps in it i.e, no spaces. You are supposed to take an input from the user and print whether the string is a safe bridge or not."
      ]
    },
    {
      "cell_type": "code",
      "metadata": {
        "id": "QLoggGagFo3x",
        "outputId": "46efc9a0-7128-49b0-ab5c-7fafb880c631",
        "colab": {
          "base_uri": "https://localhost:8080/"
        }
      },
      "source": [
        "# Store the user input in a variable\n",
        "bridge = input()"
      ],
      "execution_count": 10,
      "outputs": [
        {
          "name": "stdout",
          "output_type": "stream",
          "text": [
            "Monopoly Man\n"
          ]
        }
      ]
    },
    {
      "cell_type": "code",
      "metadata": {
        "id": "Zv5UgGr8Fo31",
        "outputId": "e2e31cb0-93b5-4450-fdf8-3f0a01f743b5",
        "colab": {
          "base_uri": "https://localhost:8080/"
        }
      },
      "source": [
        "# Return True if the bridge is safe and False if the bridge is not safe. Hint : Use the find() method\n",
        "is_safe_bridge = bridge.find(' ') == -1\n",
        "is_safe_bridge"
      ],
      "execution_count": 15,
      "outputs": [
        {
          "output_type": "execute_result",
          "data": {
            "text/plain": [
              "False"
            ]
          },
          "metadata": {},
          "execution_count": 15
        }
      ]
    },
    {
      "cell_type": "code",
      "metadata": {
        "id": "TBCckeOXFo35",
        "outputId": "4c2801e5-6ba5-4b94-c14f-48c16a68b339",
        "colab": {
          "base_uri": "https://localhost:8080/"
        }
      },
      "source": [
        "# Fill in the blanks\n",
        "print(f\"It is {is_safe_bridge} that the bridge is a safe bridge\" )"
      ],
      "execution_count": 16,
      "outputs": [
        {
          "output_type": "stream",
          "name": "stdout",
          "text": [
            "It is False that the bridge is a safe bridge\n"
          ]
        }
      ]
    },
    {
      "cell_type": "markdown",
      "metadata": {
        "id": "IO-p2ILHFo37"
      },
      "source": [
        "## <u>Problem 4</u>\n",
        "\n",
        "Count the number of D's in a string inputted by the user. This will be <b>case insensitive</b>."
      ]
    },
    {
      "cell_type": "code",
      "metadata": {
        "id": "CBqgtmkhFo38"
      },
      "source": [
        "# Store the user input in a variable\n",
        "user_string = 'Debris was scattered all over the yard in the densest region of Denmark'"
      ],
      "execution_count": 17,
      "outputs": []
    },
    {
      "cell_type": "code",
      "metadata": {
        "id": "-nKePpRMFo3-"
      },
      "source": [
        "# Store the count of letter D in the inputted string. Note this will be a case insensitive search\n",
        "D_counts = user_string.upper().count('D')"
      ],
      "execution_count": 20,
      "outputs": []
    },
    {
      "cell_type": "code",
      "metadata": {
        "id": "N9IXUH5AFo4A",
        "outputId": "ff4f746a-df26-49e5-dbcf-36c1250af8ff",
        "colab": {
          "base_uri": "https://localhost:8080/"
        }
      },
      "source": [
        "# Fill in the blanks\n",
        "print(f\"The total occurrence of D in the user_string is {D_counts}\")"
      ],
      "execution_count": 21,
      "outputs": [
        {
          "output_type": "stream",
          "name": "stdout",
          "text": [
            "The total occurrence of D in the user_string is 5\n"
          ]
        }
      ]
    },
    {
      "cell_type": "markdown",
      "metadata": {
        "id": "e40-mPXjFo4D"
      },
      "source": [
        "## <u>Problem 5</u>\n",
        "\n",
        "Check whether a given string is a palindrome. A palindrome is a word, number, phrase, or other sequence of characters which reads the same backward as forward, such as madam, racecar."
      ]
    },
    {
      "cell_type": "code",
      "metadata": {
        "id": "qs0ZYZkzFo4D",
        "colab": {
          "base_uri": "https://localhost:8080/"
        },
        "outputId": "667df4b6-9ef2-4d03-dfe4-7351e3b02958"
      },
      "source": [
        "# Store the user input in a variable\n",
        "user_string = input()"
      ],
      "execution_count": 22,
      "outputs": [
        {
          "name": "stdout",
          "output_type": "stream",
          "text": [
            "civic\n"
          ]
        }
      ]
    },
    {
      "cell_type": "code",
      "metadata": {
        "id": "OTVGL16NFo4G",
        "outputId": "bf6a1fa0-11d2-4491-dc3f-c50adcaedfa5",
        "colab": {
          "base_uri": "https://localhost:8080/"
        }
      },
      "source": [
        "# Print True if a string is a Palindrome else print false\n",
        "user_string[::]==user_string[::-1]"
      ],
      "execution_count": 23,
      "outputs": [
        {
          "output_type": "execute_result",
          "data": {
            "text/plain": [
              "True"
            ]
          },
          "metadata": {},
          "execution_count": 23
        }
      ]
    }
  ]
}