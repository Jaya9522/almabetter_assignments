{
  "nbformat": 4,
  "nbformat_minor": 0,
  "metadata": {
    "colab": {
      "name": "Assignment - Discrete Distributions.ipynb",
      "provenance": [],
      "collapsed_sections": [],
      "include_colab_link": true
    },
    "kernelspec": {
      "name": "python3",
      "display_name": "Python 3"
    }
  },
  "cells": [
    {
      "cell_type": "markdown",
      "metadata": {
        "id": "view-in-github",
        "colab_type": "text"
      },
      "source": [
        "<a href=\"https://colab.research.google.com/github/Jaya9522/almabetter_assignments/blob/main/Assignment_Discrete_Distributions.ipynb\" target=\"_parent\"><img src=\"https://colab.research.google.com/assets/colab-badge.svg\" alt=\"Open In Colab\"/></a>"
      ]
    },
    {
      "cell_type": "markdown",
      "metadata": {
        "id": "AioAG-n5U_6S"
      },
      "source": [
        "**Complete these problems by hand in a piece of paper and then upload in a text cell.**"
      ]
    },
    {
      "cell_type": "markdown",
      "metadata": {
        "id": "Oq9OIkpjU3hr"
      },
      "source": [
        "# Problem 1"
      ]
    },
    {
      "cell_type": "markdown",
      "metadata": {
        "id": "Z7v307bnPp1s"
      },
      "source": [
        "What is the probability that at least 9 out of a group of 10 people who have been infected by a serious disease will survive, if the survival probability for the disease is 70%?"
      ]
    },
    {
      "cell_type": "markdown",
      "source": [
        "the probability of survival is 7/10"
      ],
      "metadata": {
        "id": "_lTIWMJKkl3t"
      }
    },
    {
      "cell_type": "markdown",
      "metadata": {
        "id": "1ECG-HvyQ01v"
      },
      "source": [
        "# Problem 2"
      ]
    },
    {
      "cell_type": "markdown",
      "metadata": {
        "id": "J1wb3oY7P6RM"
      },
      "source": [
        "If the probability of having a male or female child is equal, what is the probability that a\n",
        "woman’s fourth child is her first son?"
      ]
    },
    {
      "cell_type": "markdown",
      "source": [
        "0.50\n",
        "as having a son, no matter fourth or fifth or whichever one are all independent moments"
      ],
      "metadata": {
        "id": "JCIgRK8SlgBd"
      }
    },
    {
      "cell_type": "markdown",
      "metadata": {
        "id": "Y7_9sh5XQ2ip"
      },
      "source": [
        "# Problem 3"
      ]
    },
    {
      "cell_type": "markdown",
      "metadata": {
        "id": "Ua9Oo4zckZ8e"
      },
      "source": [
        "If each of the 55 million people in the UK independently has probability $1\\times10^{-8}$ of\n",
        "being killed by a falling meteorite in a given year, calculate the probability of exactly 2\n",
        "such deaths occurring in a given year."
      ]
    },
    {
      "cell_type": "markdown",
      "source": [
        " (2×10−8)/(55*1000000)"
      ],
      "metadata": {
        "id": "FT_xmSyKnbqd"
      }
    },
    {
      "cell_type": "code",
      "source": [
        " ((2*(10/1000000000))/(55*1000000))"
      ],
      "metadata": {
        "id": "oaniXaNRoQ9a",
        "outputId": "3678f66b-501f-4bdd-9dde-cf3054b1287b",
        "colab": {
          "base_uri": "https://localhost:8080/"
        }
      },
      "execution_count": 5,
      "outputs": [
        {
          "output_type": "execute_result",
          "data": {
            "text/plain": [
              "3.6363636363636364e-16"
            ]
          },
          "metadata": {},
          "execution_count": 5
        }
      ]
    },
    {
      "cell_type": "markdown",
      "source": [
        ""
      ],
      "metadata": {
        "id": "QWEo29PynYPY"
      }
    },
    {
      "cell_type": "markdown",
      "metadata": {
        "id": "qpBaazJwVQTW"
      },
      "source": [
        "# Problem 4"
      ]
    },
    {
      "cell_type": "markdown",
      "metadata": {
        "id": "hN74icc0QFkp"
      },
      "source": [
        "The number of home insurance claims a company receives in a month is distributed as a Poisson random variable with mean 2. Calculate the probability that the company receives exactly 30 claims in a year."
      ]
    },
    {
      "cell_type": "markdown",
      "metadata": {
        "id": "J3WEy97UWZn-"
      },
      "source": [
        "# Problem 5"
      ]
    },
    {
      "cell_type": "markdown",
      "metadata": {
        "id": "IddmKm-CWN77"
      },
      "source": [
        "What is a negative binomial distribution? Write its PDF, mean and variance. (Internet Search)\n",
        "\n"
      ]
    },
    {
      "cell_type": "markdown",
      "source": [
        "Negative binomial distribution is a probability distribution of number of occurences of successes and failures in a sequence of independent trails before a specific number of success occurs. Following are the key points to be noted about a negative binomial experiment.\n",
        "\n",
        "The experiment should be of x repeated trials.\n",
        "\n",
        "Each trail have two possible outcome, one for success, another for failure.\n",
        "\n",
        "Probability of success is same on every trial.\n",
        "\n",
        "Output of one trial is independent of output of another trail.\n",
        "\n",
        "Experiment should be carried out until r successes are observed, where r is mentioned beforehand.\n",
        "\n",
        "Negative binomial distribution probability can be computed using following:\n",
        "\n",
        "Formula\n"
      ],
      "metadata": {
        "id": "WVLC3bsHp3Lb"
      }
    },
    {
      "cell_type": "markdown",
      "source": [
        "f(x;r,P)=x−1Cr−1×Pr×(1−P)x−r \n",
        "Where −\n",
        "\n",
        "x = Total number of trials.\n",
        "\n",
        "r = Number of occurences of success.\n",
        "\n",
        "P = Probability of success on each occurence.\n",
        "\n",
        "1−P = Probability of failure on each occurence.\n",
        "\n",
        "f(x;r,P) = Negative binomial probability, the probability that an x-trial negative binomial experiment results in the rth success on the xth trial, when the probability of success on each trial is P."
      ],
      "metadata": {
        "id": "PFeJSwPFp8CZ"
      }
    },
    {
      "cell_type": "markdown",
      "metadata": {
        "id": "srFKV49dWlXj"
      },
      "source": [
        "# Problem 6"
      ]
    },
    {
      "cell_type": "markdown",
      "metadata": {
        "id": "xY83neS2WoQn"
      },
      "source": [
        "What is a hypergeometric distribution? Write its PDF, mean and variance. (Internet Search)\n",
        "\n"
      ]
    },
    {
      "cell_type": "markdown",
      "source": [
        "The probability distribution of a hypergeometric random variable is called a hypergeometric distribution. This lesson describes how hypergeometric random variables, hypergeometric experiments, hypergeometric probability, and the hypergeometric distribution are all related.\n",
        "\n",
        "Notation\n",
        "The following notation is helpful, when we talk about hypergeometric distributions and hypergeometric probability.\n",
        "\n",
        "N: The number of items in the population.\n",
        "k: The number of items in the population that are classified as successes.\n",
        "n: The number of items in the sample.\n",
        "x: The number of items in the sample that are classified as successes.\n",
        "kCx: The number of combinations of k things, taken x at a time.\n",
        "h(x; N, n, k): hypergeometric probability - the probability that an n-trial hypergeometric experiment results in exactly x successes, when the population consists of N items, k of which are classified as successes."
      ],
      "metadata": {
        "id": "dBJkPFX1pKGV"
      }
    }
  ]
}