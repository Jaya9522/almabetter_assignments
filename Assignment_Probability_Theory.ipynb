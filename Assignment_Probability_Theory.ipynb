{
  "nbformat": 4,
  "nbformat_minor": 0,
  "metadata": {
    "colab": {
      "name": "Assignment - Probability Theory.ipynb",
      "provenance": [],
      "include_colab_link": true
    },
    "kernelspec": {
      "name": "python3",
      "display_name": "Python 3"
    }
  },
  "cells": [
    {
      "cell_type": "markdown",
      "metadata": {
        "id": "view-in-github",
        "colab_type": "text"
      },
      "source": [
        "<a href=\"https://colab.research.google.com/github/Jaya9522/almabetter_assignments/blob/main/Assignment_Probability_Theory.ipynb\" target=\"_parent\"><img src=\"https://colab.research.google.com/assets/colab-badge.svg\" alt=\"Open In Colab\"/></a>"
      ]
    },
    {
      "cell_type": "markdown",
      "metadata": {
        "id": "UnOZIRcik-30"
      },
      "source": [
        "Code is not mandatory. You can solve these problems on your own."
      ]
    },
    {
      "cell_type": "markdown",
      "metadata": {
        "id": "bzoDqJiIMmjk"
      },
      "source": [
        "# Problem 1\n",
        "\n",
        "In a group of 25 people, 18 have a mortgage, 13 own some shares and 2 people have neither a mortgage nor any shares. How many people have both?"
      ]
    },
    {
      "cell_type": "markdown",
      "source": [
        "## Solution\n",
        "\n",
        "M = Have a mortgage\n",
        "\n",
        "n(M) = 18\n",
        "\n",
        "S = Own some shares\n",
        "\n",
        "n(S) = 13\n",
        "\n",
        "Given, n(M U S) = 25 - 2 = 23\n",
        "\n",
        "Therefore, n(M intersection S) = n(M) + n(S) - n(M U S) = 18 + 13 - 23 = 8"
      ],
      "metadata": {
        "id": "apSxXF-obDmM"
      }
    },
    {
      "cell_type": "markdown",
      "metadata": {
        "id": "XIltCZuJMxj3"
      },
      "source": [
        "# Problem 2\n",
        "\n",
        "A contestant on a game show is asked two questions. The probability that she gets the first question correct is 0.3 and the probability that she gets the second question correct is 0.4. Given that the probability that she gets both questions correct is 0.1, calculate the probability that: \n",
        "1. She gets either the first, the second or both questions right \n",
        "2. She gets both questions wrong\n"
      ]
    },
    {
      "cell_type": "markdown",
      "source": [
        "## Solution\n",
        "\n",
        "1. Given,\n",
        "\n",
        "Probability of getting the first question correct: P(A) = 0.3\n",
        "\n",
        "Probability of getting the second question correct: P(B) = 0.4\n",
        "      \n",
        "Probability of getting both the questions correct: P(A and B) = 0.1\n",
        "\n",
        "Therefore,\n",
        "\n",
        "Probability of getting either first, second or both correct:\n",
        "\n",
        "P(A or B) = P(A) + P(B) - P(A and B) = 0.3 + 0.4 - 0.1 = 0.6\n",
        "\n",
        "2. Probability of getting both questions wrong = 1 - P(A or B) = 1 - 0.6 = 0.4\n"
      ],
      "metadata": {
        "id": "Q4F-5T_pa_Hc"
      }
    },
    {
      "cell_type": "markdown",
      "metadata": {
        "id": "BmdMTTUXNNDQ"
      },
      "source": [
        "# Problem 3\n",
        "\n",
        "A 4 digit PIN is selected. What is the probability that there are no repeated digits?\n"
      ]
    },
    {
      "cell_type": "code",
      "metadata": {
        "id": "jLOGMsXWd0R-"
      },
      "source": [
        "def factorial(n):\n",
        "  f = 1\n",
        "  for i in range(1, n+1):\n",
        "    f = f * i\n",
        "  return f"
      ],
      "execution_count": 1,
      "outputs": []
    },
    {
      "cell_type": "code",
      "metadata": {
        "id": "6VRQveOhd4qk"
      },
      "source": [
        "def P(n, r):\n",
        "  return int(factorial(n)/factorial(n-r))"
      ],
      "execution_count": 2,
      "outputs": []
    },
    {
      "cell_type": "code",
      "metadata": {
        "id": "MimNGH8yd7e4"
      },
      "source": [
        "possible_outcomes = P(10,4)"
      ],
      "execution_count": 3,
      "outputs": []
    },
    {
      "cell_type": "code",
      "metadata": {
        "colab": {
          "base_uri": "https://localhost:8080/"
        },
        "outputId": "2daf1422-079b-4390-e392-e5025ddbe2cb",
        "id": "TUmJwh71d-dU"
      },
      "source": [
        "print(f'The possible combinations are {possible_outcomes} and the probability percentage is {(possible_outcomes/10000)*100}')"
      ],
      "execution_count": 4,
      "outputs": [
        {
          "output_type": "stream",
          "name": "stdout",
          "text": [
            "The possible combinations are 5040 and the probability percentage is 50.4\n"
          ]
        }
      ]
    },
    {
      "cell_type": "markdown",
      "metadata": {
        "id": "f59ewP6DNTZX"
      },
      "source": [
        "# Problem 4\n",
        "In a certain state’s lottery, 48 balls numbered 1 through 48 are placed in a machine and six of them are drawn at random. If the six numbers drawn match the numbers that a player had chosen, the player wins $1,000,000. In this lottery, the order the numbers are drawn in doesn’t matter. Compute the probability that you win the million-dollar prize if you purchase a single lottery ticket."
      ]
    },
    {
      "cell_type": "code",
      "metadata": {
        "id": "33WxKPQ0NR8Z"
      },
      "source": [
        "# Total balls, n = 48\n",
        "# Number of balls drawn, r = 6"
      ],
      "execution_count": 5,
      "outputs": []
    },
    {
      "cell_type": "code",
      "metadata": {
        "id": "gLObzTZUNX_I"
      },
      "source": [
        "def C(n, r):\n",
        "  return int(factorial(n)/(factorial(r) * factorial(n-r)))"
      ],
      "execution_count": 6,
      "outputs": []
    },
    {
      "cell_type": "code",
      "metadata": {
        "id": "w0Tc8AK1NYTj",
        "outputId": "b4ca1539-8b05-4739-bd77-d1d37b672c5a",
        "colab": {
          "base_uri": "https://localhost:8080/"
        }
      },
      "source": [
        "possible_outcomes = C(48,6)\n",
        "possible_outcomes"
      ],
      "execution_count": 7,
      "outputs": [
        {
          "output_type": "execute_result",
          "data": {
            "text/plain": [
              "12271512"
            ]
          },
          "metadata": {},
          "execution_count": 7
        }
      ]
    },
    {
      "cell_type": "code",
      "metadata": {
        "id": "8gO2dHy-NYD1",
        "outputId": "fb86ca35-f2e0-4b1a-efce-32840d46e72e",
        "colab": {
          "base_uri": "https://localhost:8080/"
        }
      },
      "source": [
        "possible_lottery_number = C(6,6)\n",
        "possible_lottery_number"
      ],
      "execution_count": 8,
      "outputs": [
        {
          "output_type": "execute_result",
          "data": {
            "text/plain": [
              "1"
            ]
          },
          "metadata": {},
          "execution_count": 8
        }
      ]
    },
    {
      "cell_type": "code",
      "metadata": {
        "id": "covjN8gANX0X",
        "outputId": "34bedbdf-f097-4820-cfdc-ea2fdca58c93",
        "colab": {
          "base_uri": "https://localhost:8080/"
        }
      },
      "source": [
        "probability_of_getting_a_matching_number = possible_lottery_number/possible_outcomes\n",
        "probability_of_getting_a_matching_number"
      ],
      "execution_count": 9,
      "outputs": [
        {
          "output_type": "execute_result",
          "data": {
            "text/plain": [
              "8.148955075788542e-08"
            ]
          },
          "metadata": {},
          "execution_count": 9
        }
      ]
    },
    {
      "cell_type": "code",
      "metadata": {
        "id": "Uruh3ZggNdn9"
      },
      "source": [
        "print(f'The probability of winning lottery is {probability_of_getting_a_matching_number}')"
      ],
      "execution_count": null,
      "outputs": []
    },
    {
      "cell_type": "markdown",
      "metadata": {
        "id": "VgEPs_T29Pow"
      },
      "source": [
        "# Problem 5\n",
        "\n",
        "A person has three routes to get to work. The probability that he arrives on time using\n",
        "routes A, B and C are 60% , 62% and 70% respectively. If he is equally likely to\n",
        "choose any of the routes, and arrives at work on time, what is the probability that he\n",
        "chose route B?"
      ]
    },
    {
      "cell_type": "code",
      "metadata": {
        "id": "BaQ0G-FXNdhU"
      },
      "source": [
        "b=0.62\n",
        "total=0.6+0.62+0.7\n",
        "prob=b/total"
      ],
      "execution_count": 10,
      "outputs": []
    },
    {
      "cell_type": "code",
      "metadata": {
        "id": "6MR51kEG9zg7",
        "outputId": "15a54d1e-f64d-41d4-d4f2-2caac71a5b1e",
        "colab": {
          "base_uri": "https://localhost:8080/"
        }
      },
      "source": [
        "print(f\"The probability that he chose route B is {prob}\")"
      ],
      "execution_count": 11,
      "outputs": [
        {
          "output_type": "stream",
          "name": "stdout",
          "text": [
            "The probability that he chose route B is 0.3229166666666667\n"
          ]
        }
      ]
    }
  ]
}