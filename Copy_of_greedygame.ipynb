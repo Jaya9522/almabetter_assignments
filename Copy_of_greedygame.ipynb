{
  "nbformat": 4,
  "nbformat_minor": 0,
  "metadata": {
    "colab": {
      "provenance": [],
      "mount_file_id": "1Ipq4-W-jM9jVEn8tCD8YUpSeTup79Bl3",
      "authorship_tag": "ABX9TyMRAp4m5UW+JN/9UsqJFnPb",
      "include_colab_link": true
    },
    "kernelspec": {
      "name": "python3",
      "display_name": "Python 3"
    },
    "language_info": {
      "name": "python"
    }
  },
  "cells": [
    {
      "cell_type": "markdown",
      "metadata": {
        "id": "view-in-github",
        "colab_type": "text"
      },
      "source": [
        "<a href=\"https://colab.research.google.com/github/Jaya9522/almabetter_assignments/blob/main/Copy_of_greedygame.ipynb\" target=\"_parent\"><img src=\"https://colab.research.google.com/assets/colab-badge.svg\" alt=\"Open In Colab\"/></a>"
      ]
    },
    {
      "cell_type": "code",
      "execution_count": 6,
      "metadata": {
        "id": "GSqTLzBq3aJh"
      },
      "outputs": [],
      "source": [
        "import pandas as pd"
      ]
    },
    {
      "cell_type": "code",
      "source": [
        "import numpy as np\n"
      ],
      "metadata": {
        "id": "29HQHGJfDm9f"
      },
      "execution_count": 7,
      "outputs": []
    },
    {
      "cell_type": "code",
      "source": [
        "user_offer_complition_data=pd.read_csv(\"/content/drive/MyDrive/greedygame data/Q2_User offer completion data.csv\")"
      ],
      "metadata": {
        "id": "yDQjucMA4c_a"
      },
      "execution_count": 8,
      "outputs": []
    },
    {
      "cell_type": "code",
      "source": [
        "user_offer_data=pd.read_csv(\"/content/drive/MyDrive/greedygame data/Q2_User offer data.csv\")"
      ],
      "metadata": {
        "id": "YiqAoOum407c"
      },
      "execution_count": 9,
      "outputs": []
    },
    {
      "cell_type": "code",
      "source": [
        "rewards_details=pd.read_csv(\"/content/drive/MyDrive/greedygame data/Q2_rewards details.csv\")"
      ],
      "metadata": {
        "id": "ae7VokC95Efs"
      },
      "execution_count": 10,
      "outputs": []
    },
    {
      "cell_type": "code",
      "source": [
        "user_signup=pd.read_csv(\"/content/drive/MyDrive/greedygame data/Q2_users signup.csv\")"
      ],
      "metadata": {
        "id": "aDk3TcmG5Pdi"
      },
      "execution_count": 11,
      "outputs": []
    },
    {
      "cell_type": "code",
      "source": [
        "sikka_data=pd.read_csv(\"/content/drive/MyDrive/greedygame data/Q3_Sikka data.csv\")"
      ],
      "metadata": {
        "id": "4CN5iGH95b42"
      },
      "execution_count": 12,
      "outputs": []
    },
    {
      "cell_type": "markdown",
      "source": [
        "### **QUESTION 1**"
      ],
      "metadata": {
        "id": "1k9zdaq17S6h"
      }
    },
    {
      "cell_type": "code",
      "source": [
        "user_signup.head()"
      ],
      "metadata": {
        "colab": {
          "base_uri": "https://localhost:8080/",
          "height": 206
        },
        "id": "nSyK5OTXFubr",
        "outputId": "a70107e7-5cfd-4aa6-90fb-61e54cc5d53e"
      },
      "execution_count": 14,
      "outputs": [
        {
          "output_type": "execute_result",
          "data": {
            "text/plain": [
              "                                user_id app_id signed_up_on last_login_date\n",
              "0  c925ccad-98e7-4500-833e-a49aa066aeec  sikka   2022-11-26      2022-11-26\n",
              "1  7cdb9d2c-9644-42d0-8d44-50fa57747523  sikka   2022-11-26      2022-11-26\n",
              "2  e2dfd115-a8b0-4e3e-96e5-9b11e5f316f1  sikka   2022-11-26      2022-11-28\n",
              "3  f55000a3-dd68-44d8-b461-41c85d963ce2  sikka   2022-11-26      2022-11-27\n",
              "4  a6d5ed73-5c1c-4666-a592-f93ab4489cf5  sikka   2022-11-26      2022-11-26"
            ],
            "text/html": [
              "\n",
              "  <div id=\"df-db5e4164-05ce-4d30-b336-10db7f456152\">\n",
              "    <div class=\"colab-df-container\">\n",
              "      <div>\n",
              "<style scoped>\n",
              "    .dataframe tbody tr th:only-of-type {\n",
              "        vertical-align: middle;\n",
              "    }\n",
              "\n",
              "    .dataframe tbody tr th {\n",
              "        vertical-align: top;\n",
              "    }\n",
              "\n",
              "    .dataframe thead th {\n",
              "        text-align: right;\n",
              "    }\n",
              "</style>\n",
              "<table border=\"1\" class=\"dataframe\">\n",
              "  <thead>\n",
              "    <tr style=\"text-align: right;\">\n",
              "      <th></th>\n",
              "      <th>user_id</th>\n",
              "      <th>app_id</th>\n",
              "      <th>signed_up_on</th>\n",
              "      <th>last_login_date</th>\n",
              "    </tr>\n",
              "  </thead>\n",
              "  <tbody>\n",
              "    <tr>\n",
              "      <th>0</th>\n",
              "      <td>c925ccad-98e7-4500-833e-a49aa066aeec</td>\n",
              "      <td>sikka</td>\n",
              "      <td>2022-11-26</td>\n",
              "      <td>2022-11-26</td>\n",
              "    </tr>\n",
              "    <tr>\n",
              "      <th>1</th>\n",
              "      <td>7cdb9d2c-9644-42d0-8d44-50fa57747523</td>\n",
              "      <td>sikka</td>\n",
              "      <td>2022-11-26</td>\n",
              "      <td>2022-11-26</td>\n",
              "    </tr>\n",
              "    <tr>\n",
              "      <th>2</th>\n",
              "      <td>e2dfd115-a8b0-4e3e-96e5-9b11e5f316f1</td>\n",
              "      <td>sikka</td>\n",
              "      <td>2022-11-26</td>\n",
              "      <td>2022-11-28</td>\n",
              "    </tr>\n",
              "    <tr>\n",
              "      <th>3</th>\n",
              "      <td>f55000a3-dd68-44d8-b461-41c85d963ce2</td>\n",
              "      <td>sikka</td>\n",
              "      <td>2022-11-26</td>\n",
              "      <td>2022-11-27</td>\n",
              "    </tr>\n",
              "    <tr>\n",
              "      <th>4</th>\n",
              "      <td>a6d5ed73-5c1c-4666-a592-f93ab4489cf5</td>\n",
              "      <td>sikka</td>\n",
              "      <td>2022-11-26</td>\n",
              "      <td>2022-11-26</td>\n",
              "    </tr>\n",
              "  </tbody>\n",
              "</table>\n",
              "</div>\n",
              "      <button class=\"colab-df-convert\" onclick=\"convertToInteractive('df-db5e4164-05ce-4d30-b336-10db7f456152')\"\n",
              "              title=\"Convert this dataframe to an interactive table.\"\n",
              "              style=\"display:none;\">\n",
              "        \n",
              "  <svg xmlns=\"http://www.w3.org/2000/svg\" height=\"24px\"viewBox=\"0 0 24 24\"\n",
              "       width=\"24px\">\n",
              "    <path d=\"M0 0h24v24H0V0z\" fill=\"none\"/>\n",
              "    <path d=\"M18.56 5.44l.94 2.06.94-2.06 2.06-.94-2.06-.94-.94-2.06-.94 2.06-2.06.94zm-11 1L8.5 8.5l.94-2.06 2.06-.94-2.06-.94L8.5 2.5l-.94 2.06-2.06.94zm10 10l.94 2.06.94-2.06 2.06-.94-2.06-.94-.94-2.06-.94 2.06-2.06.94z\"/><path d=\"M17.41 7.96l-1.37-1.37c-.4-.4-.92-.59-1.43-.59-.52 0-1.04.2-1.43.59L10.3 9.45l-7.72 7.72c-.78.78-.78 2.05 0 2.83L4 21.41c.39.39.9.59 1.41.59.51 0 1.02-.2 1.41-.59l7.78-7.78 2.81-2.81c.8-.78.8-2.07 0-2.86zM5.41 20L4 18.59l7.72-7.72 1.47 1.35L5.41 20z\"/>\n",
              "  </svg>\n",
              "      </button>\n",
              "      \n",
              "  <style>\n",
              "    .colab-df-container {\n",
              "      display:flex;\n",
              "      flex-wrap:wrap;\n",
              "      gap: 12px;\n",
              "    }\n",
              "\n",
              "    .colab-df-convert {\n",
              "      background-color: #E8F0FE;\n",
              "      border: none;\n",
              "      border-radius: 50%;\n",
              "      cursor: pointer;\n",
              "      display: none;\n",
              "      fill: #1967D2;\n",
              "      height: 32px;\n",
              "      padding: 0 0 0 0;\n",
              "      width: 32px;\n",
              "    }\n",
              "\n",
              "    .colab-df-convert:hover {\n",
              "      background-color: #E2EBFA;\n",
              "      box-shadow: 0px 1px 2px rgba(60, 64, 67, 0.3), 0px 1px 3px 1px rgba(60, 64, 67, 0.15);\n",
              "      fill: #174EA6;\n",
              "    }\n",
              "\n",
              "    [theme=dark] .colab-df-convert {\n",
              "      background-color: #3B4455;\n",
              "      fill: #D2E3FC;\n",
              "    }\n",
              "\n",
              "    [theme=dark] .colab-df-convert:hover {\n",
              "      background-color: #434B5C;\n",
              "      box-shadow: 0px 1px 3px 1px rgba(0, 0, 0, 0.15);\n",
              "      filter: drop-shadow(0px 1px 2px rgba(0, 0, 0, 0.3));\n",
              "      fill: #FFFFFF;\n",
              "    }\n",
              "  </style>\n",
              "\n",
              "      <script>\n",
              "        const buttonEl =\n",
              "          document.querySelector('#df-db5e4164-05ce-4d30-b336-10db7f456152 button.colab-df-convert');\n",
              "        buttonEl.style.display =\n",
              "          google.colab.kernel.accessAllowed ? 'block' : 'none';\n",
              "\n",
              "        async function convertToInteractive(key) {\n",
              "          const element = document.querySelector('#df-db5e4164-05ce-4d30-b336-10db7f456152');\n",
              "          const dataTable =\n",
              "            await google.colab.kernel.invokeFunction('convertToInteractive',\n",
              "                                                     [key], {});\n",
              "          if (!dataTable) return;\n",
              "\n",
              "          const docLinkHtml = 'Like what you see? Visit the ' +\n",
              "            '<a target=\"_blank\" href=https://colab.research.google.com/notebooks/data_table.ipynb>data table notebook</a>'\n",
              "            + ' to learn more about interactive tables.';\n",
              "          element.innerHTML = '';\n",
              "          dataTable['output_type'] = 'display_data';\n",
              "          await google.colab.output.renderOutput(dataTable, element);\n",
              "          const docLink = document.createElement('div');\n",
              "          docLink.innerHTML = docLinkHtml;\n",
              "          element.appendChild(docLink);\n",
              "        }\n",
              "      </script>\n",
              "    </div>\n",
              "  </div>\n",
              "  "
            ]
          },
          "metadata": {},
          "execution_count": 14
        }
      ]
    },
    {
      "cell_type": "code",
      "source": [
        "user_offer_data.head()"
      ],
      "metadata": {
        "colab": {
          "base_uri": "https://localhost:8080/",
          "height": 206
        },
        "id": "2FXIY_5tFRp4",
        "outputId": "69ab206a-a2e7-4a50-8854-fabdb66bb2aa"
      },
      "execution_count": 15,
      "outputs": [
        {
          "output_type": "execute_result",
          "data": {
            "text/plain": [
              "   Unnamed: 0                               user_id  offer_id   status  \\\n",
              "0           0  44f9c9f1-1ce1-4b04-8042-ddb1c548c589       792  ONGOING   \n",
              "1           1  e5c792a3-9cd9-4d10-a7b5-e5ee0f0f5fad      3462  ONGOING   \n",
              "2           2  033c38d4-fd46-45a2-b09a-18d637c54129      3462  ONGOING   \n",
              "3           3  8a488246-83d3-4028-b216-85ee8c3e504d      2328  ONGOING   \n",
              "4           4  aff26172-41d6-4e69-9b02-48011fe35804      3467  ONGOING   \n",
              "\n",
              "                         started_at completed_at  \\\n",
              "0  2022-11-26 07:25:38.995614+00:00          NaN   \n",
              "1  2022-11-26 01:19:42.059483+00:00          NaN   \n",
              "2  2022-11-26 14:12:39.365453+00:00          NaN   \n",
              "3  2022-11-26 02:51:44.438026+00:00          NaN   \n",
              "4  2022-11-26 11:44:25.915581+00:00          NaN   \n",
              "\n",
              "                         expires_at  \n",
              "0         2022-11-27 18:29:59+00:00  \n",
              "1  2022-11-28 01:19:42.066140+00:00  \n",
              "2  2022-11-28 14:12:39.369689+00:00  \n",
              "3  2022-11-28 02:51:44.441869+00:00  \n",
              "4  2022-11-28 11:44:25.921249+00:00  "
            ],
            "text/html": [
              "\n",
              "  <div id=\"df-a1d6d4f3-7555-4c18-8d49-df608e73a49d\">\n",
              "    <div class=\"colab-df-container\">\n",
              "      <div>\n",
              "<style scoped>\n",
              "    .dataframe tbody tr th:only-of-type {\n",
              "        vertical-align: middle;\n",
              "    }\n",
              "\n",
              "    .dataframe tbody tr th {\n",
              "        vertical-align: top;\n",
              "    }\n",
              "\n",
              "    .dataframe thead th {\n",
              "        text-align: right;\n",
              "    }\n",
              "</style>\n",
              "<table border=\"1\" class=\"dataframe\">\n",
              "  <thead>\n",
              "    <tr style=\"text-align: right;\">\n",
              "      <th></th>\n",
              "      <th>Unnamed: 0</th>\n",
              "      <th>user_id</th>\n",
              "      <th>offer_id</th>\n",
              "      <th>status</th>\n",
              "      <th>started_at</th>\n",
              "      <th>completed_at</th>\n",
              "      <th>expires_at</th>\n",
              "    </tr>\n",
              "  </thead>\n",
              "  <tbody>\n",
              "    <tr>\n",
              "      <th>0</th>\n",
              "      <td>0</td>\n",
              "      <td>44f9c9f1-1ce1-4b04-8042-ddb1c548c589</td>\n",
              "      <td>792</td>\n",
              "      <td>ONGOING</td>\n",
              "      <td>2022-11-26 07:25:38.995614+00:00</td>\n",
              "      <td>NaN</td>\n",
              "      <td>2022-11-27 18:29:59+00:00</td>\n",
              "    </tr>\n",
              "    <tr>\n",
              "      <th>1</th>\n",
              "      <td>1</td>\n",
              "      <td>e5c792a3-9cd9-4d10-a7b5-e5ee0f0f5fad</td>\n",
              "      <td>3462</td>\n",
              "      <td>ONGOING</td>\n",
              "      <td>2022-11-26 01:19:42.059483+00:00</td>\n",
              "      <td>NaN</td>\n",
              "      <td>2022-11-28 01:19:42.066140+00:00</td>\n",
              "    </tr>\n",
              "    <tr>\n",
              "      <th>2</th>\n",
              "      <td>2</td>\n",
              "      <td>033c38d4-fd46-45a2-b09a-18d637c54129</td>\n",
              "      <td>3462</td>\n",
              "      <td>ONGOING</td>\n",
              "      <td>2022-11-26 14:12:39.365453+00:00</td>\n",
              "      <td>NaN</td>\n",
              "      <td>2022-11-28 14:12:39.369689+00:00</td>\n",
              "    </tr>\n",
              "    <tr>\n",
              "      <th>3</th>\n",
              "      <td>3</td>\n",
              "      <td>8a488246-83d3-4028-b216-85ee8c3e504d</td>\n",
              "      <td>2328</td>\n",
              "      <td>ONGOING</td>\n",
              "      <td>2022-11-26 02:51:44.438026+00:00</td>\n",
              "      <td>NaN</td>\n",
              "      <td>2022-11-28 02:51:44.441869+00:00</td>\n",
              "    </tr>\n",
              "    <tr>\n",
              "      <th>4</th>\n",
              "      <td>4</td>\n",
              "      <td>aff26172-41d6-4e69-9b02-48011fe35804</td>\n",
              "      <td>3467</td>\n",
              "      <td>ONGOING</td>\n",
              "      <td>2022-11-26 11:44:25.915581+00:00</td>\n",
              "      <td>NaN</td>\n",
              "      <td>2022-11-28 11:44:25.921249+00:00</td>\n",
              "    </tr>\n",
              "  </tbody>\n",
              "</table>\n",
              "</div>\n",
              "      <button class=\"colab-df-convert\" onclick=\"convertToInteractive('df-a1d6d4f3-7555-4c18-8d49-df608e73a49d')\"\n",
              "              title=\"Convert this dataframe to an interactive table.\"\n",
              "              style=\"display:none;\">\n",
              "        \n",
              "  <svg xmlns=\"http://www.w3.org/2000/svg\" height=\"24px\"viewBox=\"0 0 24 24\"\n",
              "       width=\"24px\">\n",
              "    <path d=\"M0 0h24v24H0V0z\" fill=\"none\"/>\n",
              "    <path d=\"M18.56 5.44l.94 2.06.94-2.06 2.06-.94-2.06-.94-.94-2.06-.94 2.06-2.06.94zm-11 1L8.5 8.5l.94-2.06 2.06-.94-2.06-.94L8.5 2.5l-.94 2.06-2.06.94zm10 10l.94 2.06.94-2.06 2.06-.94-2.06-.94-.94-2.06-.94 2.06-2.06.94z\"/><path d=\"M17.41 7.96l-1.37-1.37c-.4-.4-.92-.59-1.43-.59-.52 0-1.04.2-1.43.59L10.3 9.45l-7.72 7.72c-.78.78-.78 2.05 0 2.83L4 21.41c.39.39.9.59 1.41.59.51 0 1.02-.2 1.41-.59l7.78-7.78 2.81-2.81c.8-.78.8-2.07 0-2.86zM5.41 20L4 18.59l7.72-7.72 1.47 1.35L5.41 20z\"/>\n",
              "  </svg>\n",
              "      </button>\n",
              "      \n",
              "  <style>\n",
              "    .colab-df-container {\n",
              "      display:flex;\n",
              "      flex-wrap:wrap;\n",
              "      gap: 12px;\n",
              "    }\n",
              "\n",
              "    .colab-df-convert {\n",
              "      background-color: #E8F0FE;\n",
              "      border: none;\n",
              "      border-radius: 50%;\n",
              "      cursor: pointer;\n",
              "      display: none;\n",
              "      fill: #1967D2;\n",
              "      height: 32px;\n",
              "      padding: 0 0 0 0;\n",
              "      width: 32px;\n",
              "    }\n",
              "\n",
              "    .colab-df-convert:hover {\n",
              "      background-color: #E2EBFA;\n",
              "      box-shadow: 0px 1px 2px rgba(60, 64, 67, 0.3), 0px 1px 3px 1px rgba(60, 64, 67, 0.15);\n",
              "      fill: #174EA6;\n",
              "    }\n",
              "\n",
              "    [theme=dark] .colab-df-convert {\n",
              "      background-color: #3B4455;\n",
              "      fill: #D2E3FC;\n",
              "    }\n",
              "\n",
              "    [theme=dark] .colab-df-convert:hover {\n",
              "      background-color: #434B5C;\n",
              "      box-shadow: 0px 1px 3px 1px rgba(0, 0, 0, 0.15);\n",
              "      filter: drop-shadow(0px 1px 2px rgba(0, 0, 0, 0.3));\n",
              "      fill: #FFFFFF;\n",
              "    }\n",
              "  </style>\n",
              "\n",
              "      <script>\n",
              "        const buttonEl =\n",
              "          document.querySelector('#df-a1d6d4f3-7555-4c18-8d49-df608e73a49d button.colab-df-convert');\n",
              "        buttonEl.style.display =\n",
              "          google.colab.kernel.accessAllowed ? 'block' : 'none';\n",
              "\n",
              "        async function convertToInteractive(key) {\n",
              "          const element = document.querySelector('#df-a1d6d4f3-7555-4c18-8d49-df608e73a49d');\n",
              "          const dataTable =\n",
              "            await google.colab.kernel.invokeFunction('convertToInteractive',\n",
              "                                                     [key], {});\n",
              "          if (!dataTable) return;\n",
              "\n",
              "          const docLinkHtml = 'Like what you see? Visit the ' +\n",
              "            '<a target=\"_blank\" href=https://colab.research.google.com/notebooks/data_table.ipynb>data table notebook</a>'\n",
              "            + ' to learn more about interactive tables.';\n",
              "          element.innerHTML = '';\n",
              "          dataTable['output_type'] = 'display_data';\n",
              "          await google.colab.output.renderOutput(dataTable, element);\n",
              "          const docLink = document.createElement('div');\n",
              "          docLink.innerHTML = docLinkHtml;\n",
              "          element.appendChild(docLink);\n",
              "        }\n",
              "      </script>\n",
              "    </div>\n",
              "  </div>\n",
              "  "
            ]
          },
          "metadata": {},
          "execution_count": 15
        }
      ]
    },
    {
      "cell_type": "code",
      "source": [
        "rewards_details.head()"
      ],
      "metadata": {
        "colab": {
          "base_uri": "https://localhost:8080/",
          "height": 206
        },
        "id": "Qca9rkDd8UHS",
        "outputId": "1b5bcc8c-ae2a-4b71-efe9-64271a093a7e"
      },
      "execution_count": 16,
      "outputs": [
        {
          "output_type": "execute_result",
          "data": {
            "text/plain": [
              "   Unnamed: 0  offer_id  reward_id       label_in_english  \\\n",
              "0           0       369        451           Download APK   \n",
              "1           1       400        488               Download   \n",
              "2           2       402        491               Download   \n",
              "3           3       447        541        Register on App   \n",
              "4           4       478        586  Complete Registration   \n",
              "\n",
              "   total_payout_in_paise  total_revenue_in_paise  \n",
              "0                    500                       0  \n",
              "1                     30                       0  \n",
              "2                    500                       0  \n",
              "3                    500                       0  \n",
              "4                    500                       0  "
            ],
            "text/html": [
              "\n",
              "  <div id=\"df-6e564ae2-2fa2-46b4-ab99-a7770be96bed\">\n",
              "    <div class=\"colab-df-container\">\n",
              "      <div>\n",
              "<style scoped>\n",
              "    .dataframe tbody tr th:only-of-type {\n",
              "        vertical-align: middle;\n",
              "    }\n",
              "\n",
              "    .dataframe tbody tr th {\n",
              "        vertical-align: top;\n",
              "    }\n",
              "\n",
              "    .dataframe thead th {\n",
              "        text-align: right;\n",
              "    }\n",
              "</style>\n",
              "<table border=\"1\" class=\"dataframe\">\n",
              "  <thead>\n",
              "    <tr style=\"text-align: right;\">\n",
              "      <th></th>\n",
              "      <th>Unnamed: 0</th>\n",
              "      <th>offer_id</th>\n",
              "      <th>reward_id</th>\n",
              "      <th>label_in_english</th>\n",
              "      <th>total_payout_in_paise</th>\n",
              "      <th>total_revenue_in_paise</th>\n",
              "    </tr>\n",
              "  </thead>\n",
              "  <tbody>\n",
              "    <tr>\n",
              "      <th>0</th>\n",
              "      <td>0</td>\n",
              "      <td>369</td>\n",
              "      <td>451</td>\n",
              "      <td>Download APK</td>\n",
              "      <td>500</td>\n",
              "      <td>0</td>\n",
              "    </tr>\n",
              "    <tr>\n",
              "      <th>1</th>\n",
              "      <td>1</td>\n",
              "      <td>400</td>\n",
              "      <td>488</td>\n",
              "      <td>Download</td>\n",
              "      <td>30</td>\n",
              "      <td>0</td>\n",
              "    </tr>\n",
              "    <tr>\n",
              "      <th>2</th>\n",
              "      <td>2</td>\n",
              "      <td>402</td>\n",
              "      <td>491</td>\n",
              "      <td>Download</td>\n",
              "      <td>500</td>\n",
              "      <td>0</td>\n",
              "    </tr>\n",
              "    <tr>\n",
              "      <th>3</th>\n",
              "      <td>3</td>\n",
              "      <td>447</td>\n",
              "      <td>541</td>\n",
              "      <td>Register on App</td>\n",
              "      <td>500</td>\n",
              "      <td>0</td>\n",
              "    </tr>\n",
              "    <tr>\n",
              "      <th>4</th>\n",
              "      <td>4</td>\n",
              "      <td>478</td>\n",
              "      <td>586</td>\n",
              "      <td>Complete Registration</td>\n",
              "      <td>500</td>\n",
              "      <td>0</td>\n",
              "    </tr>\n",
              "  </tbody>\n",
              "</table>\n",
              "</div>\n",
              "      <button class=\"colab-df-convert\" onclick=\"convertToInteractive('df-6e564ae2-2fa2-46b4-ab99-a7770be96bed')\"\n",
              "              title=\"Convert this dataframe to an interactive table.\"\n",
              "              style=\"display:none;\">\n",
              "        \n",
              "  <svg xmlns=\"http://www.w3.org/2000/svg\" height=\"24px\"viewBox=\"0 0 24 24\"\n",
              "       width=\"24px\">\n",
              "    <path d=\"M0 0h24v24H0V0z\" fill=\"none\"/>\n",
              "    <path d=\"M18.56 5.44l.94 2.06.94-2.06 2.06-.94-2.06-.94-.94-2.06-.94 2.06-2.06.94zm-11 1L8.5 8.5l.94-2.06 2.06-.94-2.06-.94L8.5 2.5l-.94 2.06-2.06.94zm10 10l.94 2.06.94-2.06 2.06-.94-2.06-.94-.94-2.06-.94 2.06-2.06.94z\"/><path d=\"M17.41 7.96l-1.37-1.37c-.4-.4-.92-.59-1.43-.59-.52 0-1.04.2-1.43.59L10.3 9.45l-7.72 7.72c-.78.78-.78 2.05 0 2.83L4 21.41c.39.39.9.59 1.41.59.51 0 1.02-.2 1.41-.59l7.78-7.78 2.81-2.81c.8-.78.8-2.07 0-2.86zM5.41 20L4 18.59l7.72-7.72 1.47 1.35L5.41 20z\"/>\n",
              "  </svg>\n",
              "      </button>\n",
              "      \n",
              "  <style>\n",
              "    .colab-df-container {\n",
              "      display:flex;\n",
              "      flex-wrap:wrap;\n",
              "      gap: 12px;\n",
              "    }\n",
              "\n",
              "    .colab-df-convert {\n",
              "      background-color: #E8F0FE;\n",
              "      border: none;\n",
              "      border-radius: 50%;\n",
              "      cursor: pointer;\n",
              "      display: none;\n",
              "      fill: #1967D2;\n",
              "      height: 32px;\n",
              "      padding: 0 0 0 0;\n",
              "      width: 32px;\n",
              "    }\n",
              "\n",
              "    .colab-df-convert:hover {\n",
              "      background-color: #E2EBFA;\n",
              "      box-shadow: 0px 1px 2px rgba(60, 64, 67, 0.3), 0px 1px 3px 1px rgba(60, 64, 67, 0.15);\n",
              "      fill: #174EA6;\n",
              "    }\n",
              "\n",
              "    [theme=dark] .colab-df-convert {\n",
              "      background-color: #3B4455;\n",
              "      fill: #D2E3FC;\n",
              "    }\n",
              "\n",
              "    [theme=dark] .colab-df-convert:hover {\n",
              "      background-color: #434B5C;\n",
              "      box-shadow: 0px 1px 3px 1px rgba(0, 0, 0, 0.15);\n",
              "      filter: drop-shadow(0px 1px 2px rgba(0, 0, 0, 0.3));\n",
              "      fill: #FFFFFF;\n",
              "    }\n",
              "  </style>\n",
              "\n",
              "      <script>\n",
              "        const buttonEl =\n",
              "          document.querySelector('#df-6e564ae2-2fa2-46b4-ab99-a7770be96bed button.colab-df-convert');\n",
              "        buttonEl.style.display =\n",
              "          google.colab.kernel.accessAllowed ? 'block' : 'none';\n",
              "\n",
              "        async function convertToInteractive(key) {\n",
              "          const element = document.querySelector('#df-6e564ae2-2fa2-46b4-ab99-a7770be96bed');\n",
              "          const dataTable =\n",
              "            await google.colab.kernel.invokeFunction('convertToInteractive',\n",
              "                                                     [key], {});\n",
              "          if (!dataTable) return;\n",
              "\n",
              "          const docLinkHtml = 'Like what you see? Visit the ' +\n",
              "            '<a target=\"_blank\" href=https://colab.research.google.com/notebooks/data_table.ipynb>data table notebook</a>'\n",
              "            + ' to learn more about interactive tables.';\n",
              "          element.innerHTML = '';\n",
              "          dataTable['output_type'] = 'display_data';\n",
              "          await google.colab.output.renderOutput(dataTable, element);\n",
              "          const docLink = document.createElement('div');\n",
              "          docLink.innerHTML = docLinkHtml;\n",
              "          element.appendChild(docLink);\n",
              "        }\n",
              "      </script>\n",
              "    </div>\n",
              "  </div>\n",
              "  "
            ]
          },
          "metadata": {},
          "execution_count": 16
        }
      ]
    },
    {
      "cell_type": "code",
      "source": [
        "user_offer_complition_data=pd.merge(user_offer_complition_data, rewards_details, on='reward_id')"
      ],
      "metadata": {
        "id": "9BkfX-NR7ROu"
      },
      "execution_count": 17,
      "outputs": []
    },
    {
      "cell_type": "code",
      "source": [
        "user_offer_complition_data.head()"
      ],
      "metadata": {
        "colab": {
          "base_uri": "https://localhost:8080/",
          "height": 206
        },
        "id": "6SYUgDfJ9CDq",
        "outputId": "ded8353e-cf6e-4beb-f221-187c67d0e234"
      },
      "execution_count": 18,
      "outputs": [
        {
          "output_type": "execute_result",
          "data": {
            "text/plain": [
              "   Unnamed: 0_x  reward_id                               user_id        date  \\\n",
              "0             0       3712  4cb29e43-9f23-42fe-bab8-2422f42e7a91  2022-11-29   \n",
              "1             1        935  4cb29e43-9f23-42fe-bab8-2422f42e7a91  2022-11-29   \n",
              "2            16        935  c925ccad-98e7-4500-833e-a49aa066aeec  2022-11-26   \n",
              "3            32        935  3db62aad-421b-474e-9b1e-8a88ff370d4f  2022-11-26   \n",
              "4            37        935  805763d6-87b3-40c7-bb84-dd663669c836  2022-11-27   \n",
              "\n",
              "      app_id  Unnamed: 0_y  offer_id       label_in_english  \\\n",
              "0      sikka          2678      3520  Complete Registration   \n",
              "1      sikka           441       792  Complete Registration   \n",
              "2      sikka           441       792  Complete Registration   \n",
              "3      sikka           441       792  Complete Registration   \n",
              "4  sikka_pro           441       792  Complete Registration   \n",
              "\n",
              "   total_payout_in_paise  total_revenue_in_paise  \n",
              "0                    500                    1758  \n",
              "1                    200                       0  \n",
              "2                    200                       0  \n",
              "3                    200                       0  \n",
              "4                    200                       0  "
            ],
            "text/html": [
              "\n",
              "  <div id=\"df-9452f209-8e57-4e8d-9adc-0d34148c6a60\">\n",
              "    <div class=\"colab-df-container\">\n",
              "      <div>\n",
              "<style scoped>\n",
              "    .dataframe tbody tr th:only-of-type {\n",
              "        vertical-align: middle;\n",
              "    }\n",
              "\n",
              "    .dataframe tbody tr th {\n",
              "        vertical-align: top;\n",
              "    }\n",
              "\n",
              "    .dataframe thead th {\n",
              "        text-align: right;\n",
              "    }\n",
              "</style>\n",
              "<table border=\"1\" class=\"dataframe\">\n",
              "  <thead>\n",
              "    <tr style=\"text-align: right;\">\n",
              "      <th></th>\n",
              "      <th>Unnamed: 0_x</th>\n",
              "      <th>reward_id</th>\n",
              "      <th>user_id</th>\n",
              "      <th>date</th>\n",
              "      <th>app_id</th>\n",
              "      <th>Unnamed: 0_y</th>\n",
              "      <th>offer_id</th>\n",
              "      <th>label_in_english</th>\n",
              "      <th>total_payout_in_paise</th>\n",
              "      <th>total_revenue_in_paise</th>\n",
              "    </tr>\n",
              "  </thead>\n",
              "  <tbody>\n",
              "    <tr>\n",
              "      <th>0</th>\n",
              "      <td>0</td>\n",
              "      <td>3712</td>\n",
              "      <td>4cb29e43-9f23-42fe-bab8-2422f42e7a91</td>\n",
              "      <td>2022-11-29</td>\n",
              "      <td>sikka</td>\n",
              "      <td>2678</td>\n",
              "      <td>3520</td>\n",
              "      <td>Complete Registration</td>\n",
              "      <td>500</td>\n",
              "      <td>1758</td>\n",
              "    </tr>\n",
              "    <tr>\n",
              "      <th>1</th>\n",
              "      <td>1</td>\n",
              "      <td>935</td>\n",
              "      <td>4cb29e43-9f23-42fe-bab8-2422f42e7a91</td>\n",
              "      <td>2022-11-29</td>\n",
              "      <td>sikka</td>\n",
              "      <td>441</td>\n",
              "      <td>792</td>\n",
              "      <td>Complete Registration</td>\n",
              "      <td>200</td>\n",
              "      <td>0</td>\n",
              "    </tr>\n",
              "    <tr>\n",
              "      <th>2</th>\n",
              "      <td>16</td>\n",
              "      <td>935</td>\n",
              "      <td>c925ccad-98e7-4500-833e-a49aa066aeec</td>\n",
              "      <td>2022-11-26</td>\n",
              "      <td>sikka</td>\n",
              "      <td>441</td>\n",
              "      <td>792</td>\n",
              "      <td>Complete Registration</td>\n",
              "      <td>200</td>\n",
              "      <td>0</td>\n",
              "    </tr>\n",
              "    <tr>\n",
              "      <th>3</th>\n",
              "      <td>32</td>\n",
              "      <td>935</td>\n",
              "      <td>3db62aad-421b-474e-9b1e-8a88ff370d4f</td>\n",
              "      <td>2022-11-26</td>\n",
              "      <td>sikka</td>\n",
              "      <td>441</td>\n",
              "      <td>792</td>\n",
              "      <td>Complete Registration</td>\n",
              "      <td>200</td>\n",
              "      <td>0</td>\n",
              "    </tr>\n",
              "    <tr>\n",
              "      <th>4</th>\n",
              "      <td>37</td>\n",
              "      <td>935</td>\n",
              "      <td>805763d6-87b3-40c7-bb84-dd663669c836</td>\n",
              "      <td>2022-11-27</td>\n",
              "      <td>sikka_pro</td>\n",
              "      <td>441</td>\n",
              "      <td>792</td>\n",
              "      <td>Complete Registration</td>\n",
              "      <td>200</td>\n",
              "      <td>0</td>\n",
              "    </tr>\n",
              "  </tbody>\n",
              "</table>\n",
              "</div>\n",
              "      <button class=\"colab-df-convert\" onclick=\"convertToInteractive('df-9452f209-8e57-4e8d-9adc-0d34148c6a60')\"\n",
              "              title=\"Convert this dataframe to an interactive table.\"\n",
              "              style=\"display:none;\">\n",
              "        \n",
              "  <svg xmlns=\"http://www.w3.org/2000/svg\" height=\"24px\"viewBox=\"0 0 24 24\"\n",
              "       width=\"24px\">\n",
              "    <path d=\"M0 0h24v24H0V0z\" fill=\"none\"/>\n",
              "    <path d=\"M18.56 5.44l.94 2.06.94-2.06 2.06-.94-2.06-.94-.94-2.06-.94 2.06-2.06.94zm-11 1L8.5 8.5l.94-2.06 2.06-.94-2.06-.94L8.5 2.5l-.94 2.06-2.06.94zm10 10l.94 2.06.94-2.06 2.06-.94-2.06-.94-.94-2.06-.94 2.06-2.06.94z\"/><path d=\"M17.41 7.96l-1.37-1.37c-.4-.4-.92-.59-1.43-.59-.52 0-1.04.2-1.43.59L10.3 9.45l-7.72 7.72c-.78.78-.78 2.05 0 2.83L4 21.41c.39.39.9.59 1.41.59.51 0 1.02-.2 1.41-.59l7.78-7.78 2.81-2.81c.8-.78.8-2.07 0-2.86zM5.41 20L4 18.59l7.72-7.72 1.47 1.35L5.41 20z\"/>\n",
              "  </svg>\n",
              "      </button>\n",
              "      \n",
              "  <style>\n",
              "    .colab-df-container {\n",
              "      display:flex;\n",
              "      flex-wrap:wrap;\n",
              "      gap: 12px;\n",
              "    }\n",
              "\n",
              "    .colab-df-convert {\n",
              "      background-color: #E8F0FE;\n",
              "      border: none;\n",
              "      border-radius: 50%;\n",
              "      cursor: pointer;\n",
              "      display: none;\n",
              "      fill: #1967D2;\n",
              "      height: 32px;\n",
              "      padding: 0 0 0 0;\n",
              "      width: 32px;\n",
              "    }\n",
              "\n",
              "    .colab-df-convert:hover {\n",
              "      background-color: #E2EBFA;\n",
              "      box-shadow: 0px 1px 2px rgba(60, 64, 67, 0.3), 0px 1px 3px 1px rgba(60, 64, 67, 0.15);\n",
              "      fill: #174EA6;\n",
              "    }\n",
              "\n",
              "    [theme=dark] .colab-df-convert {\n",
              "      background-color: #3B4455;\n",
              "      fill: #D2E3FC;\n",
              "    }\n",
              "\n",
              "    [theme=dark] .colab-df-convert:hover {\n",
              "      background-color: #434B5C;\n",
              "      box-shadow: 0px 1px 3px 1px rgba(0, 0, 0, 0.15);\n",
              "      filter: drop-shadow(0px 1px 2px rgba(0, 0, 0, 0.3));\n",
              "      fill: #FFFFFF;\n",
              "    }\n",
              "  </style>\n",
              "\n",
              "      <script>\n",
              "        const buttonEl =\n",
              "          document.querySelector('#df-9452f209-8e57-4e8d-9adc-0d34148c6a60 button.colab-df-convert');\n",
              "        buttonEl.style.display =\n",
              "          google.colab.kernel.accessAllowed ? 'block' : 'none';\n",
              "\n",
              "        async function convertToInteractive(key) {\n",
              "          const element = document.querySelector('#df-9452f209-8e57-4e8d-9adc-0d34148c6a60');\n",
              "          const dataTable =\n",
              "            await google.colab.kernel.invokeFunction('convertToInteractive',\n",
              "                                                     [key], {});\n",
              "          if (!dataTable) return;\n",
              "\n",
              "          const docLinkHtml = 'Like what you see? Visit the ' +\n",
              "            '<a target=\"_blank\" href=https://colab.research.google.com/notebooks/data_table.ipynb>data table notebook</a>'\n",
              "            + ' to learn more about interactive tables.';\n",
              "          element.innerHTML = '';\n",
              "          dataTable['output_type'] = 'display_data';\n",
              "          await google.colab.output.renderOutput(dataTable, element);\n",
              "          const docLink = document.createElement('div');\n",
              "          docLink.innerHTML = docLinkHtml;\n",
              "          element.appendChild(docLink);\n",
              "        }\n",
              "      </script>\n",
              "    </div>\n",
              "  </div>\n",
              "  "
            ]
          },
          "metadata": {},
          "execution_count": 18
        }
      ]
    },
    {
      "cell_type": "code",
      "source": [
        "user_revenue=user_offer_complition_data.groupby('user_id')['total_revenue_in_paise'].sum()"
      ],
      "metadata": {
        "id": "AvnpxUI99Ljh"
      },
      "execution_count": 19,
      "outputs": []
    },
    {
      "cell_type": "code",
      "source": [
        "user_revenue.head()"
      ],
      "metadata": {
        "colab": {
          "base_uri": "https://localhost:8080/"
        },
        "id": "rslXEYx69dJ9",
        "outputId": "0758d389-c4a6-4e78-9864-99ad32fa1402"
      },
      "execution_count": 20,
      "outputs": [
        {
          "output_type": "execute_result",
          "data": {
            "text/plain": [
              "user_id\n",
              "033c38d4-fd46-45a2-b09a-18d637c54129     800\n",
              "0bdf2e4e-c610-4196-b8be-f08e24e97058    2600\n",
              "0e205d6d-d50b-4dba-a0cd-0355b4f2cc49    6200\n",
              "15129061-e4cc-4676-82b8-f9f78bb40fb0     604\n",
              "2c93173e-b325-47d9-bac5-6e21641f97bc       0\n",
              "Name: total_revenue_in_paise, dtype: int64"
            ]
          },
          "metadata": {},
          "execution_count": 20
        }
      ]
    },
    {
      "cell_type": "code",
      "source": [
        "user_data = pd.merge(user_signup, user_revenue, on='user_id')"
      ],
      "metadata": {
        "id": "DBvh92C59jRb"
      },
      "execution_count": 21,
      "outputs": []
    },
    {
      "cell_type": "code",
      "source": [
        "user_data.head()"
      ],
      "metadata": {
        "colab": {
          "base_uri": "https://localhost:8080/",
          "height": 206
        },
        "id": "HS85_atx9s4j",
        "outputId": "fd51535a-7c13-42f7-83d4-4b5a56f3d1b9"
      },
      "execution_count": 22,
      "outputs": [
        {
          "output_type": "execute_result",
          "data": {
            "text/plain": [
              "                                user_id     app_id signed_up_on  \\\n",
              "0  c925ccad-98e7-4500-833e-a49aa066aeec      sikka   2022-11-26   \n",
              "1  f55000a3-dd68-44d8-b461-41c85d963ce2      sikka   2022-11-26   \n",
              "2  55e70808-0ed9-44fd-9d87-819ba9dc4d3e      sikka   2022-11-26   \n",
              "3  44f9c9f1-1ce1-4b04-8042-ddb1c548c589      sikka   2022-11-26   \n",
              "4  4960fecc-a53a-4d08-99e6-5ef807d9f270  sikka_pro   2022-11-26   \n",
              "\n",
              "  last_login_date  total_revenue_in_paise  \n",
              "0      2022-11-26                       0  \n",
              "1      2022-11-27                     100  \n",
              "2      2022-11-29                    2700  \n",
              "3      2022-11-29                    5723  \n",
              "4      2022-11-29                    2900  "
            ],
            "text/html": [
              "\n",
              "  <div id=\"df-b9fd6e49-41cf-42e7-906c-822dcabdaa35\">\n",
              "    <div class=\"colab-df-container\">\n",
              "      <div>\n",
              "<style scoped>\n",
              "    .dataframe tbody tr th:only-of-type {\n",
              "        vertical-align: middle;\n",
              "    }\n",
              "\n",
              "    .dataframe tbody tr th {\n",
              "        vertical-align: top;\n",
              "    }\n",
              "\n",
              "    .dataframe thead th {\n",
              "        text-align: right;\n",
              "    }\n",
              "</style>\n",
              "<table border=\"1\" class=\"dataframe\">\n",
              "  <thead>\n",
              "    <tr style=\"text-align: right;\">\n",
              "      <th></th>\n",
              "      <th>user_id</th>\n",
              "      <th>app_id</th>\n",
              "      <th>signed_up_on</th>\n",
              "      <th>last_login_date</th>\n",
              "      <th>total_revenue_in_paise</th>\n",
              "    </tr>\n",
              "  </thead>\n",
              "  <tbody>\n",
              "    <tr>\n",
              "      <th>0</th>\n",
              "      <td>c925ccad-98e7-4500-833e-a49aa066aeec</td>\n",
              "      <td>sikka</td>\n",
              "      <td>2022-11-26</td>\n",
              "      <td>2022-11-26</td>\n",
              "      <td>0</td>\n",
              "    </tr>\n",
              "    <tr>\n",
              "      <th>1</th>\n",
              "      <td>f55000a3-dd68-44d8-b461-41c85d963ce2</td>\n",
              "      <td>sikka</td>\n",
              "      <td>2022-11-26</td>\n",
              "      <td>2022-11-27</td>\n",
              "      <td>100</td>\n",
              "    </tr>\n",
              "    <tr>\n",
              "      <th>2</th>\n",
              "      <td>55e70808-0ed9-44fd-9d87-819ba9dc4d3e</td>\n",
              "      <td>sikka</td>\n",
              "      <td>2022-11-26</td>\n",
              "      <td>2022-11-29</td>\n",
              "      <td>2700</td>\n",
              "    </tr>\n",
              "    <tr>\n",
              "      <th>3</th>\n",
              "      <td>44f9c9f1-1ce1-4b04-8042-ddb1c548c589</td>\n",
              "      <td>sikka</td>\n",
              "      <td>2022-11-26</td>\n",
              "      <td>2022-11-29</td>\n",
              "      <td>5723</td>\n",
              "    </tr>\n",
              "    <tr>\n",
              "      <th>4</th>\n",
              "      <td>4960fecc-a53a-4d08-99e6-5ef807d9f270</td>\n",
              "      <td>sikka_pro</td>\n",
              "      <td>2022-11-26</td>\n",
              "      <td>2022-11-29</td>\n",
              "      <td>2900</td>\n",
              "    </tr>\n",
              "  </tbody>\n",
              "</table>\n",
              "</div>\n",
              "      <button class=\"colab-df-convert\" onclick=\"convertToInteractive('df-b9fd6e49-41cf-42e7-906c-822dcabdaa35')\"\n",
              "              title=\"Convert this dataframe to an interactive table.\"\n",
              "              style=\"display:none;\">\n",
              "        \n",
              "  <svg xmlns=\"http://www.w3.org/2000/svg\" height=\"24px\"viewBox=\"0 0 24 24\"\n",
              "       width=\"24px\">\n",
              "    <path d=\"M0 0h24v24H0V0z\" fill=\"none\"/>\n",
              "    <path d=\"M18.56 5.44l.94 2.06.94-2.06 2.06-.94-2.06-.94-.94-2.06-.94 2.06-2.06.94zm-11 1L8.5 8.5l.94-2.06 2.06-.94-2.06-.94L8.5 2.5l-.94 2.06-2.06.94zm10 10l.94 2.06.94-2.06 2.06-.94-2.06-.94-.94-2.06-.94 2.06-2.06.94z\"/><path d=\"M17.41 7.96l-1.37-1.37c-.4-.4-.92-.59-1.43-.59-.52 0-1.04.2-1.43.59L10.3 9.45l-7.72 7.72c-.78.78-.78 2.05 0 2.83L4 21.41c.39.39.9.59 1.41.59.51 0 1.02-.2 1.41-.59l7.78-7.78 2.81-2.81c.8-.78.8-2.07 0-2.86zM5.41 20L4 18.59l7.72-7.72 1.47 1.35L5.41 20z\"/>\n",
              "  </svg>\n",
              "      </button>\n",
              "      \n",
              "  <style>\n",
              "    .colab-df-container {\n",
              "      display:flex;\n",
              "      flex-wrap:wrap;\n",
              "      gap: 12px;\n",
              "    }\n",
              "\n",
              "    .colab-df-convert {\n",
              "      background-color: #E8F0FE;\n",
              "      border: none;\n",
              "      border-radius: 50%;\n",
              "      cursor: pointer;\n",
              "      display: none;\n",
              "      fill: #1967D2;\n",
              "      height: 32px;\n",
              "      padding: 0 0 0 0;\n",
              "      width: 32px;\n",
              "    }\n",
              "\n",
              "    .colab-df-convert:hover {\n",
              "      background-color: #E2EBFA;\n",
              "      box-shadow: 0px 1px 2px rgba(60, 64, 67, 0.3), 0px 1px 3px 1px rgba(60, 64, 67, 0.15);\n",
              "      fill: #174EA6;\n",
              "    }\n",
              "\n",
              "    [theme=dark] .colab-df-convert {\n",
              "      background-color: #3B4455;\n",
              "      fill: #D2E3FC;\n",
              "    }\n",
              "\n",
              "    [theme=dark] .colab-df-convert:hover {\n",
              "      background-color: #434B5C;\n",
              "      box-shadow: 0px 1px 3px 1px rgba(0, 0, 0, 0.15);\n",
              "      filter: drop-shadow(0px 1px 2px rgba(0, 0, 0, 0.3));\n",
              "      fill: #FFFFFF;\n",
              "    }\n",
              "  </style>\n",
              "\n",
              "      <script>\n",
              "        const buttonEl =\n",
              "          document.querySelector('#df-b9fd6e49-41cf-42e7-906c-822dcabdaa35 button.colab-df-convert');\n",
              "        buttonEl.style.display =\n",
              "          google.colab.kernel.accessAllowed ? 'block' : 'none';\n",
              "\n",
              "        async function convertToInteractive(key) {\n",
              "          const element = document.querySelector('#df-b9fd6e49-41cf-42e7-906c-822dcabdaa35');\n",
              "          const dataTable =\n",
              "            await google.colab.kernel.invokeFunction('convertToInteractive',\n",
              "                                                     [key], {});\n",
              "          if (!dataTable) return;\n",
              "\n",
              "          const docLinkHtml = 'Like what you see? Visit the ' +\n",
              "            '<a target=\"_blank\" href=https://colab.research.google.com/notebooks/data_table.ipynb>data table notebook</a>'\n",
              "            + ' to learn more about interactive tables.';\n",
              "          element.innerHTML = '';\n",
              "          dataTable['output_type'] = 'display_data';\n",
              "          await google.colab.output.renderOutput(dataTable, element);\n",
              "          const docLink = document.createElement('div');\n",
              "          docLink.innerHTML = docLinkHtml;\n",
              "          element.appendChild(docLink);\n",
              "        }\n",
              "      </script>\n",
              "    </div>\n",
              "  </div>\n",
              "  "
            ]
          },
          "metadata": {},
          "execution_count": 22
        }
      ]
    },
    {
      "cell_type": "code",
      "source": [
        "user_data[['signed_up_on','last_login_date']] = user_data[['signed_up_on','last_login_date']].apply(pd.to_datetime)"
      ],
      "metadata": {
        "id": "dlz69OGjCuHa"
      },
      "execution_count": 23,
      "outputs": []
    },
    {
      "cell_type": "code",
      "source": [
        "user_data['days_since_signup'] =(user_data['last_login_date'] - user_data['signed_up_on']) / np.timedelta64(1, 'D')\n"
      ],
      "metadata": {
        "id": "dbI_cvu2-DtV"
      },
      "execution_count": 24,
      "outputs": []
    },
    {
      "cell_type": "code",
      "source": [
        "user_data.head()"
      ],
      "metadata": {
        "colab": {
          "base_uri": "https://localhost:8080/",
          "height": 206
        },
        "id": "hNqSeXO-Dt8L",
        "outputId": "bf306090-572c-495d-c61e-e32da0a1dfcc"
      },
      "execution_count": 25,
      "outputs": [
        {
          "output_type": "execute_result",
          "data": {
            "text/plain": [
              "                                user_id     app_id signed_up_on  \\\n",
              "0  c925ccad-98e7-4500-833e-a49aa066aeec      sikka   2022-11-26   \n",
              "1  f55000a3-dd68-44d8-b461-41c85d963ce2      sikka   2022-11-26   \n",
              "2  55e70808-0ed9-44fd-9d87-819ba9dc4d3e      sikka   2022-11-26   \n",
              "3  44f9c9f1-1ce1-4b04-8042-ddb1c548c589      sikka   2022-11-26   \n",
              "4  4960fecc-a53a-4d08-99e6-5ef807d9f270  sikka_pro   2022-11-26   \n",
              "\n",
              "  last_login_date  total_revenue_in_paise  days_since_signup  \n",
              "0      2022-11-26                       0                0.0  \n",
              "1      2022-11-27                     100                1.0  \n",
              "2      2022-11-29                    2700                3.0  \n",
              "3      2022-11-29                    5723                3.0  \n",
              "4      2022-11-29                    2900                3.0  "
            ],
            "text/html": [
              "\n",
              "  <div id=\"df-84ab0175-9651-4742-a582-93b1e8648aa2\">\n",
              "    <div class=\"colab-df-container\">\n",
              "      <div>\n",
              "<style scoped>\n",
              "    .dataframe tbody tr th:only-of-type {\n",
              "        vertical-align: middle;\n",
              "    }\n",
              "\n",
              "    .dataframe tbody tr th {\n",
              "        vertical-align: top;\n",
              "    }\n",
              "\n",
              "    .dataframe thead th {\n",
              "        text-align: right;\n",
              "    }\n",
              "</style>\n",
              "<table border=\"1\" class=\"dataframe\">\n",
              "  <thead>\n",
              "    <tr style=\"text-align: right;\">\n",
              "      <th></th>\n",
              "      <th>user_id</th>\n",
              "      <th>app_id</th>\n",
              "      <th>signed_up_on</th>\n",
              "      <th>last_login_date</th>\n",
              "      <th>total_revenue_in_paise</th>\n",
              "      <th>days_since_signup</th>\n",
              "    </tr>\n",
              "  </thead>\n",
              "  <tbody>\n",
              "    <tr>\n",
              "      <th>0</th>\n",
              "      <td>c925ccad-98e7-4500-833e-a49aa066aeec</td>\n",
              "      <td>sikka</td>\n",
              "      <td>2022-11-26</td>\n",
              "      <td>2022-11-26</td>\n",
              "      <td>0</td>\n",
              "      <td>0.0</td>\n",
              "    </tr>\n",
              "    <tr>\n",
              "      <th>1</th>\n",
              "      <td>f55000a3-dd68-44d8-b461-41c85d963ce2</td>\n",
              "      <td>sikka</td>\n",
              "      <td>2022-11-26</td>\n",
              "      <td>2022-11-27</td>\n",
              "      <td>100</td>\n",
              "      <td>1.0</td>\n",
              "    </tr>\n",
              "    <tr>\n",
              "      <th>2</th>\n",
              "      <td>55e70808-0ed9-44fd-9d87-819ba9dc4d3e</td>\n",
              "      <td>sikka</td>\n",
              "      <td>2022-11-26</td>\n",
              "      <td>2022-11-29</td>\n",
              "      <td>2700</td>\n",
              "      <td>3.0</td>\n",
              "    </tr>\n",
              "    <tr>\n",
              "      <th>3</th>\n",
              "      <td>44f9c9f1-1ce1-4b04-8042-ddb1c548c589</td>\n",
              "      <td>sikka</td>\n",
              "      <td>2022-11-26</td>\n",
              "      <td>2022-11-29</td>\n",
              "      <td>5723</td>\n",
              "      <td>3.0</td>\n",
              "    </tr>\n",
              "    <tr>\n",
              "      <th>4</th>\n",
              "      <td>4960fecc-a53a-4d08-99e6-5ef807d9f270</td>\n",
              "      <td>sikka_pro</td>\n",
              "      <td>2022-11-26</td>\n",
              "      <td>2022-11-29</td>\n",
              "      <td>2900</td>\n",
              "      <td>3.0</td>\n",
              "    </tr>\n",
              "  </tbody>\n",
              "</table>\n",
              "</div>\n",
              "      <button class=\"colab-df-convert\" onclick=\"convertToInteractive('df-84ab0175-9651-4742-a582-93b1e8648aa2')\"\n",
              "              title=\"Convert this dataframe to an interactive table.\"\n",
              "              style=\"display:none;\">\n",
              "        \n",
              "  <svg xmlns=\"http://www.w3.org/2000/svg\" height=\"24px\"viewBox=\"0 0 24 24\"\n",
              "       width=\"24px\">\n",
              "    <path d=\"M0 0h24v24H0V0z\" fill=\"none\"/>\n",
              "    <path d=\"M18.56 5.44l.94 2.06.94-2.06 2.06-.94-2.06-.94-.94-2.06-.94 2.06-2.06.94zm-11 1L8.5 8.5l.94-2.06 2.06-.94-2.06-.94L8.5 2.5l-.94 2.06-2.06.94zm10 10l.94 2.06.94-2.06 2.06-.94-2.06-.94-.94-2.06-.94 2.06-2.06.94z\"/><path d=\"M17.41 7.96l-1.37-1.37c-.4-.4-.92-.59-1.43-.59-.52 0-1.04.2-1.43.59L10.3 9.45l-7.72 7.72c-.78.78-.78 2.05 0 2.83L4 21.41c.39.39.9.59 1.41.59.51 0 1.02-.2 1.41-.59l7.78-7.78 2.81-2.81c.8-.78.8-2.07 0-2.86zM5.41 20L4 18.59l7.72-7.72 1.47 1.35L5.41 20z\"/>\n",
              "  </svg>\n",
              "      </button>\n",
              "      \n",
              "  <style>\n",
              "    .colab-df-container {\n",
              "      display:flex;\n",
              "      flex-wrap:wrap;\n",
              "      gap: 12px;\n",
              "    }\n",
              "\n",
              "    .colab-df-convert {\n",
              "      background-color: #E8F0FE;\n",
              "      border: none;\n",
              "      border-radius: 50%;\n",
              "      cursor: pointer;\n",
              "      display: none;\n",
              "      fill: #1967D2;\n",
              "      height: 32px;\n",
              "      padding: 0 0 0 0;\n",
              "      width: 32px;\n",
              "    }\n",
              "\n",
              "    .colab-df-convert:hover {\n",
              "      background-color: #E2EBFA;\n",
              "      box-shadow: 0px 1px 2px rgba(60, 64, 67, 0.3), 0px 1px 3px 1px rgba(60, 64, 67, 0.15);\n",
              "      fill: #174EA6;\n",
              "    }\n",
              "\n",
              "    [theme=dark] .colab-df-convert {\n",
              "      background-color: #3B4455;\n",
              "      fill: #D2E3FC;\n",
              "    }\n",
              "\n",
              "    [theme=dark] .colab-df-convert:hover {\n",
              "      background-color: #434B5C;\n",
              "      box-shadow: 0px 1px 3px 1px rgba(0, 0, 0, 0.15);\n",
              "      filter: drop-shadow(0px 1px 2px rgba(0, 0, 0, 0.3));\n",
              "      fill: #FFFFFF;\n",
              "    }\n",
              "  </style>\n",
              "\n",
              "      <script>\n",
              "        const buttonEl =\n",
              "          document.querySelector('#df-84ab0175-9651-4742-a582-93b1e8648aa2 button.colab-df-convert');\n",
              "        buttonEl.style.display =\n",
              "          google.colab.kernel.accessAllowed ? 'block' : 'none';\n",
              "\n",
              "        async function convertToInteractive(key) {\n",
              "          const element = document.querySelector('#df-84ab0175-9651-4742-a582-93b1e8648aa2');\n",
              "          const dataTable =\n",
              "            await google.colab.kernel.invokeFunction('convertToInteractive',\n",
              "                                                     [key], {});\n",
              "          if (!dataTable) return;\n",
              "\n",
              "          const docLinkHtml = 'Like what you see? Visit the ' +\n",
              "            '<a target=\"_blank\" href=https://colab.research.google.com/notebooks/data_table.ipynb>data table notebook</a>'\n",
              "            + ' to learn more about interactive tables.';\n",
              "          element.innerHTML = '';\n",
              "          dataTable['output_type'] = 'display_data';\n",
              "          await google.colab.output.renderOutput(dataTable, element);\n",
              "          const docLink = document.createElement('div');\n",
              "          docLink.innerHTML = docLinkHtml;\n",
              "          element.appendChild(docLink);\n",
              "        }\n",
              "      </script>\n",
              "    </div>\n",
              "  </div>\n",
              "  "
            ]
          },
          "metadata": {},
          "execution_count": 25
        }
      ]
    },
    {
      "cell_type": "code",
      "source": [
        "user_data['LTV'] = user_data['total_revenue_in_paise'] / user_data['days_since_signup']"
      ],
      "metadata": {
        "id": "k8CIhyDgD6hb"
      },
      "execution_count": 26,
      "outputs": []
    },
    {
      "cell_type": "code",
      "source": [
        "user_data.head()"
      ],
      "metadata": {
        "colab": {
          "base_uri": "https://localhost:8080/",
          "height": 206
        },
        "id": "43phiPHyD_lg",
        "outputId": "8b964460-63b2-4a25-9f5d-638296dae883"
      },
      "execution_count": 27,
      "outputs": [
        {
          "output_type": "execute_result",
          "data": {
            "text/plain": [
              "                                user_id     app_id signed_up_on  \\\n",
              "0  c925ccad-98e7-4500-833e-a49aa066aeec      sikka   2022-11-26   \n",
              "1  f55000a3-dd68-44d8-b461-41c85d963ce2      sikka   2022-11-26   \n",
              "2  55e70808-0ed9-44fd-9d87-819ba9dc4d3e      sikka   2022-11-26   \n",
              "3  44f9c9f1-1ce1-4b04-8042-ddb1c548c589      sikka   2022-11-26   \n",
              "4  4960fecc-a53a-4d08-99e6-5ef807d9f270  sikka_pro   2022-11-26   \n",
              "\n",
              "  last_login_date  total_revenue_in_paise  days_since_signup          LTV  \n",
              "0      2022-11-26                       0                0.0          NaN  \n",
              "1      2022-11-27                     100                1.0   100.000000  \n",
              "2      2022-11-29                    2700                3.0   900.000000  \n",
              "3      2022-11-29                    5723                3.0  1907.666667  \n",
              "4      2022-11-29                    2900                3.0   966.666667  "
            ],
            "text/html": [
              "\n",
              "  <div id=\"df-ab442741-3bea-4a91-9898-52f1eefc7201\">\n",
              "    <div class=\"colab-df-container\">\n",
              "      <div>\n",
              "<style scoped>\n",
              "    .dataframe tbody tr th:only-of-type {\n",
              "        vertical-align: middle;\n",
              "    }\n",
              "\n",
              "    .dataframe tbody tr th {\n",
              "        vertical-align: top;\n",
              "    }\n",
              "\n",
              "    .dataframe thead th {\n",
              "        text-align: right;\n",
              "    }\n",
              "</style>\n",
              "<table border=\"1\" class=\"dataframe\">\n",
              "  <thead>\n",
              "    <tr style=\"text-align: right;\">\n",
              "      <th></th>\n",
              "      <th>user_id</th>\n",
              "      <th>app_id</th>\n",
              "      <th>signed_up_on</th>\n",
              "      <th>last_login_date</th>\n",
              "      <th>total_revenue_in_paise</th>\n",
              "      <th>days_since_signup</th>\n",
              "      <th>LTV</th>\n",
              "    </tr>\n",
              "  </thead>\n",
              "  <tbody>\n",
              "    <tr>\n",
              "      <th>0</th>\n",
              "      <td>c925ccad-98e7-4500-833e-a49aa066aeec</td>\n",
              "      <td>sikka</td>\n",
              "      <td>2022-11-26</td>\n",
              "      <td>2022-11-26</td>\n",
              "      <td>0</td>\n",
              "      <td>0.0</td>\n",
              "      <td>NaN</td>\n",
              "    </tr>\n",
              "    <tr>\n",
              "      <th>1</th>\n",
              "      <td>f55000a3-dd68-44d8-b461-41c85d963ce2</td>\n",
              "      <td>sikka</td>\n",
              "      <td>2022-11-26</td>\n",
              "      <td>2022-11-27</td>\n",
              "      <td>100</td>\n",
              "      <td>1.0</td>\n",
              "      <td>100.000000</td>\n",
              "    </tr>\n",
              "    <tr>\n",
              "      <th>2</th>\n",
              "      <td>55e70808-0ed9-44fd-9d87-819ba9dc4d3e</td>\n",
              "      <td>sikka</td>\n",
              "      <td>2022-11-26</td>\n",
              "      <td>2022-11-29</td>\n",
              "      <td>2700</td>\n",
              "      <td>3.0</td>\n",
              "      <td>900.000000</td>\n",
              "    </tr>\n",
              "    <tr>\n",
              "      <th>3</th>\n",
              "      <td>44f9c9f1-1ce1-4b04-8042-ddb1c548c589</td>\n",
              "      <td>sikka</td>\n",
              "      <td>2022-11-26</td>\n",
              "      <td>2022-11-29</td>\n",
              "      <td>5723</td>\n",
              "      <td>3.0</td>\n",
              "      <td>1907.666667</td>\n",
              "    </tr>\n",
              "    <tr>\n",
              "      <th>4</th>\n",
              "      <td>4960fecc-a53a-4d08-99e6-5ef807d9f270</td>\n",
              "      <td>sikka_pro</td>\n",
              "      <td>2022-11-26</td>\n",
              "      <td>2022-11-29</td>\n",
              "      <td>2900</td>\n",
              "      <td>3.0</td>\n",
              "      <td>966.666667</td>\n",
              "    </tr>\n",
              "  </tbody>\n",
              "</table>\n",
              "</div>\n",
              "      <button class=\"colab-df-convert\" onclick=\"convertToInteractive('df-ab442741-3bea-4a91-9898-52f1eefc7201')\"\n",
              "              title=\"Convert this dataframe to an interactive table.\"\n",
              "              style=\"display:none;\">\n",
              "        \n",
              "  <svg xmlns=\"http://www.w3.org/2000/svg\" height=\"24px\"viewBox=\"0 0 24 24\"\n",
              "       width=\"24px\">\n",
              "    <path d=\"M0 0h24v24H0V0z\" fill=\"none\"/>\n",
              "    <path d=\"M18.56 5.44l.94 2.06.94-2.06 2.06-.94-2.06-.94-.94-2.06-.94 2.06-2.06.94zm-11 1L8.5 8.5l.94-2.06 2.06-.94-2.06-.94L8.5 2.5l-.94 2.06-2.06.94zm10 10l.94 2.06.94-2.06 2.06-.94-2.06-.94-.94-2.06-.94 2.06-2.06.94z\"/><path d=\"M17.41 7.96l-1.37-1.37c-.4-.4-.92-.59-1.43-.59-.52 0-1.04.2-1.43.59L10.3 9.45l-7.72 7.72c-.78.78-.78 2.05 0 2.83L4 21.41c.39.39.9.59 1.41.59.51 0 1.02-.2 1.41-.59l7.78-7.78 2.81-2.81c.8-.78.8-2.07 0-2.86zM5.41 20L4 18.59l7.72-7.72 1.47 1.35L5.41 20z\"/>\n",
              "  </svg>\n",
              "      </button>\n",
              "      \n",
              "  <style>\n",
              "    .colab-df-container {\n",
              "      display:flex;\n",
              "      flex-wrap:wrap;\n",
              "      gap: 12px;\n",
              "    }\n",
              "\n",
              "    .colab-df-convert {\n",
              "      background-color: #E8F0FE;\n",
              "      border: none;\n",
              "      border-radius: 50%;\n",
              "      cursor: pointer;\n",
              "      display: none;\n",
              "      fill: #1967D2;\n",
              "      height: 32px;\n",
              "      padding: 0 0 0 0;\n",
              "      width: 32px;\n",
              "    }\n",
              "\n",
              "    .colab-df-convert:hover {\n",
              "      background-color: #E2EBFA;\n",
              "      box-shadow: 0px 1px 2px rgba(60, 64, 67, 0.3), 0px 1px 3px 1px rgba(60, 64, 67, 0.15);\n",
              "      fill: #174EA6;\n",
              "    }\n",
              "\n",
              "    [theme=dark] .colab-df-convert {\n",
              "      background-color: #3B4455;\n",
              "      fill: #D2E3FC;\n",
              "    }\n",
              "\n",
              "    [theme=dark] .colab-df-convert:hover {\n",
              "      background-color: #434B5C;\n",
              "      box-shadow: 0px 1px 3px 1px rgba(0, 0, 0, 0.15);\n",
              "      filter: drop-shadow(0px 1px 2px rgba(0, 0, 0, 0.3));\n",
              "      fill: #FFFFFF;\n",
              "    }\n",
              "  </style>\n",
              "\n",
              "      <script>\n",
              "        const buttonEl =\n",
              "          document.querySelector('#df-ab442741-3bea-4a91-9898-52f1eefc7201 button.colab-df-convert');\n",
              "        buttonEl.style.display =\n",
              "          google.colab.kernel.accessAllowed ? 'block' : 'none';\n",
              "\n",
              "        async function convertToInteractive(key) {\n",
              "          const element = document.querySelector('#df-ab442741-3bea-4a91-9898-52f1eefc7201');\n",
              "          const dataTable =\n",
              "            await google.colab.kernel.invokeFunction('convertToInteractive',\n",
              "                                                     [key], {});\n",
              "          if (!dataTable) return;\n",
              "\n",
              "          const docLinkHtml = 'Like what you see? Visit the ' +\n",
              "            '<a target=\"_blank\" href=https://colab.research.google.com/notebooks/data_table.ipynb>data table notebook</a>'\n",
              "            + ' to learn more about interactive tables.';\n",
              "          element.innerHTML = '';\n",
              "          dataTable['output_type'] = 'display_data';\n",
              "          await google.colab.output.renderOutput(dataTable, element);\n",
              "          const docLink = document.createElement('div');\n",
              "          docLink.innerHTML = docLinkHtml;\n",
              "          element.appendChild(docLink);\n",
              "        }\n",
              "      </script>\n",
              "    </div>\n",
              "  </div>\n",
              "  "
            ]
          },
          "metadata": {},
          "execution_count": 27
        }
      ]
    },
    {
      "cell_type": "markdown",
      "source": [
        "channel_LTV = user_data.groupby('utm_source')['LTV'].mean()\n",
        "\n",
        "print(channel_LTV)"
      ],
      "metadata": {
        "id": "mi2IkVGjGJZm"
      }
    },
    {
      "cell_type": "markdown",
      "source": [
        "SQL QUERRY FOR QUESTION 1\n",
        "1)\n",
        "We will be calculating below metrics for each of the marketing source-\n",
        "\n",
        "Avg days User sticks to the platform \n",
        "Avg Revenue they generate per day\n",
        "Formula considered-\n",
        "LTV of a user (from google) = Avg. days they stick X Avg. revenue they create per day\n",
        "\n",
        "Query-\n",
        "\n",
        "Utm_source, avg(days_played)*avg(user_total_revenue)*30 as Monthly_LTV\n",
        "(Select x.User_id, utm_source, count(created_at) as days_played, \n",
        "\n",
        "sum(total_revenue_in paisa/100) as user_total_revenue\n",
        "From User_offer_completion  x \n",
        "\n",
        "Left join User_sign up y on x.user_id = y.user_id \n",
        "\n",
        "Left join Rewards z on x.rewards_id = z.reward_id\n",
        "\n",
        "Group by 1,2)\n",
        "\n",
        "Group by 1;\n"
      ],
      "metadata": {
        "id": "C7OIiTo7Gi8M"
      }
    },
    {
      "cell_type": "markdown",
      "source": [
        "### **QUESTION 2**"
      ],
      "metadata": {
        "id": "AzIQyAYYHgSc"
      }
    },
    {
      "cell_type": "code",
      "source": [
        "user_offer_complition_data.head()"
      ],
      "metadata": {
        "colab": {
          "base_uri": "https://localhost:8080/",
          "height": 206
        },
        "id": "zBNtvGKsJu0i",
        "outputId": "e4be69dc-dc83-4f17-b147-1f32ae60bf8b"
      },
      "execution_count": 28,
      "outputs": [
        {
          "output_type": "execute_result",
          "data": {
            "text/plain": [
              "   Unnamed: 0_x  reward_id                               user_id        date  \\\n",
              "0             0       3712  4cb29e43-9f23-42fe-bab8-2422f42e7a91  2022-11-29   \n",
              "1             1        935  4cb29e43-9f23-42fe-bab8-2422f42e7a91  2022-11-29   \n",
              "2            16        935  c925ccad-98e7-4500-833e-a49aa066aeec  2022-11-26   \n",
              "3            32        935  3db62aad-421b-474e-9b1e-8a88ff370d4f  2022-11-26   \n",
              "4            37        935  805763d6-87b3-40c7-bb84-dd663669c836  2022-11-27   \n",
              "\n",
              "      app_id  Unnamed: 0_y  offer_id       label_in_english  \\\n",
              "0      sikka          2678      3520  Complete Registration   \n",
              "1      sikka           441       792  Complete Registration   \n",
              "2      sikka           441       792  Complete Registration   \n",
              "3      sikka           441       792  Complete Registration   \n",
              "4  sikka_pro           441       792  Complete Registration   \n",
              "\n",
              "   total_payout_in_paise  total_revenue_in_paise  \n",
              "0                    500                    1758  \n",
              "1                    200                       0  \n",
              "2                    200                       0  \n",
              "3                    200                       0  \n",
              "4                    200                       0  "
            ],
            "text/html": [
              "\n",
              "  <div id=\"df-2bd2beec-3ebe-4d1c-b2c8-c7981a98f8b6\">\n",
              "    <div class=\"colab-df-container\">\n",
              "      <div>\n",
              "<style scoped>\n",
              "    .dataframe tbody tr th:only-of-type {\n",
              "        vertical-align: middle;\n",
              "    }\n",
              "\n",
              "    .dataframe tbody tr th {\n",
              "        vertical-align: top;\n",
              "    }\n",
              "\n",
              "    .dataframe thead th {\n",
              "        text-align: right;\n",
              "    }\n",
              "</style>\n",
              "<table border=\"1\" class=\"dataframe\">\n",
              "  <thead>\n",
              "    <tr style=\"text-align: right;\">\n",
              "      <th></th>\n",
              "      <th>Unnamed: 0_x</th>\n",
              "      <th>reward_id</th>\n",
              "      <th>user_id</th>\n",
              "      <th>date</th>\n",
              "      <th>app_id</th>\n",
              "      <th>Unnamed: 0_y</th>\n",
              "      <th>offer_id</th>\n",
              "      <th>label_in_english</th>\n",
              "      <th>total_payout_in_paise</th>\n",
              "      <th>total_revenue_in_paise</th>\n",
              "    </tr>\n",
              "  </thead>\n",
              "  <tbody>\n",
              "    <tr>\n",
              "      <th>0</th>\n",
              "      <td>0</td>\n",
              "      <td>3712</td>\n",
              "      <td>4cb29e43-9f23-42fe-bab8-2422f42e7a91</td>\n",
              "      <td>2022-11-29</td>\n",
              "      <td>sikka</td>\n",
              "      <td>2678</td>\n",
              "      <td>3520</td>\n",
              "      <td>Complete Registration</td>\n",
              "      <td>500</td>\n",
              "      <td>1758</td>\n",
              "    </tr>\n",
              "    <tr>\n",
              "      <th>1</th>\n",
              "      <td>1</td>\n",
              "      <td>935</td>\n",
              "      <td>4cb29e43-9f23-42fe-bab8-2422f42e7a91</td>\n",
              "      <td>2022-11-29</td>\n",
              "      <td>sikka</td>\n",
              "      <td>441</td>\n",
              "      <td>792</td>\n",
              "      <td>Complete Registration</td>\n",
              "      <td>200</td>\n",
              "      <td>0</td>\n",
              "    </tr>\n",
              "    <tr>\n",
              "      <th>2</th>\n",
              "      <td>16</td>\n",
              "      <td>935</td>\n",
              "      <td>c925ccad-98e7-4500-833e-a49aa066aeec</td>\n",
              "      <td>2022-11-26</td>\n",
              "      <td>sikka</td>\n",
              "      <td>441</td>\n",
              "      <td>792</td>\n",
              "      <td>Complete Registration</td>\n",
              "      <td>200</td>\n",
              "      <td>0</td>\n",
              "    </tr>\n",
              "    <tr>\n",
              "      <th>3</th>\n",
              "      <td>32</td>\n",
              "      <td>935</td>\n",
              "      <td>3db62aad-421b-474e-9b1e-8a88ff370d4f</td>\n",
              "      <td>2022-11-26</td>\n",
              "      <td>sikka</td>\n",
              "      <td>441</td>\n",
              "      <td>792</td>\n",
              "      <td>Complete Registration</td>\n",
              "      <td>200</td>\n",
              "      <td>0</td>\n",
              "    </tr>\n",
              "    <tr>\n",
              "      <th>4</th>\n",
              "      <td>37</td>\n",
              "      <td>935</td>\n",
              "      <td>805763d6-87b3-40c7-bb84-dd663669c836</td>\n",
              "      <td>2022-11-27</td>\n",
              "      <td>sikka_pro</td>\n",
              "      <td>441</td>\n",
              "      <td>792</td>\n",
              "      <td>Complete Registration</td>\n",
              "      <td>200</td>\n",
              "      <td>0</td>\n",
              "    </tr>\n",
              "  </tbody>\n",
              "</table>\n",
              "</div>\n",
              "      <button class=\"colab-df-convert\" onclick=\"convertToInteractive('df-2bd2beec-3ebe-4d1c-b2c8-c7981a98f8b6')\"\n",
              "              title=\"Convert this dataframe to an interactive table.\"\n",
              "              style=\"display:none;\">\n",
              "        \n",
              "  <svg xmlns=\"http://www.w3.org/2000/svg\" height=\"24px\"viewBox=\"0 0 24 24\"\n",
              "       width=\"24px\">\n",
              "    <path d=\"M0 0h24v24H0V0z\" fill=\"none\"/>\n",
              "    <path d=\"M18.56 5.44l.94 2.06.94-2.06 2.06-.94-2.06-.94-.94-2.06-.94 2.06-2.06.94zm-11 1L8.5 8.5l.94-2.06 2.06-.94-2.06-.94L8.5 2.5l-.94 2.06-2.06.94zm10 10l.94 2.06.94-2.06 2.06-.94-2.06-.94-.94-2.06-.94 2.06-2.06.94z\"/><path d=\"M17.41 7.96l-1.37-1.37c-.4-.4-.92-.59-1.43-.59-.52 0-1.04.2-1.43.59L10.3 9.45l-7.72 7.72c-.78.78-.78 2.05 0 2.83L4 21.41c.39.39.9.59 1.41.59.51 0 1.02-.2 1.41-.59l7.78-7.78 2.81-2.81c.8-.78.8-2.07 0-2.86zM5.41 20L4 18.59l7.72-7.72 1.47 1.35L5.41 20z\"/>\n",
              "  </svg>\n",
              "      </button>\n",
              "      \n",
              "  <style>\n",
              "    .colab-df-container {\n",
              "      display:flex;\n",
              "      flex-wrap:wrap;\n",
              "      gap: 12px;\n",
              "    }\n",
              "\n",
              "    .colab-df-convert {\n",
              "      background-color: #E8F0FE;\n",
              "      border: none;\n",
              "      border-radius: 50%;\n",
              "      cursor: pointer;\n",
              "      display: none;\n",
              "      fill: #1967D2;\n",
              "      height: 32px;\n",
              "      padding: 0 0 0 0;\n",
              "      width: 32px;\n",
              "    }\n",
              "\n",
              "    .colab-df-convert:hover {\n",
              "      background-color: #E2EBFA;\n",
              "      box-shadow: 0px 1px 2px rgba(60, 64, 67, 0.3), 0px 1px 3px 1px rgba(60, 64, 67, 0.15);\n",
              "      fill: #174EA6;\n",
              "    }\n",
              "\n",
              "    [theme=dark] .colab-df-convert {\n",
              "      background-color: #3B4455;\n",
              "      fill: #D2E3FC;\n",
              "    }\n",
              "\n",
              "    [theme=dark] .colab-df-convert:hover {\n",
              "      background-color: #434B5C;\n",
              "      box-shadow: 0px 1px 3px 1px rgba(0, 0, 0, 0.15);\n",
              "      filter: drop-shadow(0px 1px 2px rgba(0, 0, 0, 0.3));\n",
              "      fill: #FFFFFF;\n",
              "    }\n",
              "  </style>\n",
              "\n",
              "      <script>\n",
              "        const buttonEl =\n",
              "          document.querySelector('#df-2bd2beec-3ebe-4d1c-b2c8-c7981a98f8b6 button.colab-df-convert');\n",
              "        buttonEl.style.display =\n",
              "          google.colab.kernel.accessAllowed ? 'block' : 'none';\n",
              "\n",
              "        async function convertToInteractive(key) {\n",
              "          const element = document.querySelector('#df-2bd2beec-3ebe-4d1c-b2c8-c7981a98f8b6');\n",
              "          const dataTable =\n",
              "            await google.colab.kernel.invokeFunction('convertToInteractive',\n",
              "                                                     [key], {});\n",
              "          if (!dataTable) return;\n",
              "\n",
              "          const docLinkHtml = 'Like what you see? Visit the ' +\n",
              "            '<a target=\"_blank\" href=https://colab.research.google.com/notebooks/data_table.ipynb>data table notebook</a>'\n",
              "            + ' to learn more about interactive tables.';\n",
              "          element.innerHTML = '';\n",
              "          dataTable['output_type'] = 'display_data';\n",
              "          await google.colab.output.renderOutput(dataTable, element);\n",
              "          const docLink = document.createElement('div');\n",
              "          docLink.innerHTML = docLinkHtml;\n",
              "          element.appendChild(docLink);\n",
              "        }\n",
              "      </script>\n",
              "    </div>\n",
              "  </div>\n",
              "  "
            ]
          },
          "metadata": {},
          "execution_count": 28
        }
      ]
    },
    {
      "cell_type": "code",
      "source": [
        "user_signup.shape"
      ],
      "metadata": {
        "colab": {
          "base_uri": "https://localhost:8080/"
        },
        "id": "WNH-7UoINVqV",
        "outputId": "3f230117-dabc-45bb-ccc9-1571afd202c8"
      },
      "execution_count": 29,
      "outputs": [
        {
          "output_type": "execute_result",
          "data": {
            "text/plain": [
              "(100, 4)"
            ]
          },
          "metadata": {},
          "execution_count": 29
        }
      ]
    },
    {
      "cell_type": "code",
      "source": [
        "# Calculate the number of users for each app\n",
        "sikka_users = user_signup[user_signup[\"app_id\"] == \"sikka\"].shape[0]\n",
        "sikka_pro_users = user_signup[user_signup[\"app_id\"] == \"sikka_pro\"].shape[0]"
      ],
      "metadata": {
        "id": "dljNEbECHmqT"
      },
      "execution_count": 30,
      "outputs": []
    },
    {
      "cell_type": "code",
      "source": [
        "sikka_users"
      ],
      "metadata": {
        "colab": {
          "base_uri": "https://localhost:8080/"
        },
        "id": "Ne0A0eeLNLRt",
        "outputId": "3da3766d-c953-4afa-9f6e-a35eee0e3645"
      },
      "execution_count": 31,
      "outputs": [
        {
          "output_type": "execute_result",
          "data": {
            "text/plain": [
              "64"
            ]
          },
          "metadata": {},
          "execution_count": 31
        }
      ]
    },
    {
      "cell_type": "code",
      "source": [
        "sikka_pro_users"
      ],
      "metadata": {
        "colab": {
          "base_uri": "https://localhost:8080/"
        },
        "id": "S8qi_LraN3Ze",
        "outputId": "89e3d2bf-6076-474b-8709-d36b565a2d18"
      },
      "execution_count": 32,
      "outputs": [
        {
          "output_type": "execute_result",
          "data": {
            "text/plain": [
              "36"
            ]
          },
          "metadata": {},
          "execution_count": 32
        }
      ]
    },
    {
      "cell_type": "code",
      "source": [
        "import matplotlib.pyplot as plt"
      ],
      "metadata": {
        "id": "wcgA4W3TRebx"
      },
      "execution_count": 33,
      "outputs": []
    },
    {
      "cell_type": "code",
      "source": [
        "activities=[\"sikka_users\",\"sikka_pro_users\"]"
      ],
      "metadata": {
        "id": "oyWmpd3FS_kp"
      },
      "execution_count": 34,
      "outputs": []
    },
    {
      "cell_type": "code",
      "source": [
        "slices = [64, 36]"
      ],
      "metadata": {
        "id": "wnqHHVzdTVxw"
      },
      "execution_count": 35,
      "outputs": []
    },
    {
      "cell_type": "code",
      "source": [
        "colors = ['g', 'b']"
      ],
      "metadata": {
        "id": "zMG6rfLnTdEI"
      },
      "execution_count": 36,
      "outputs": []
    },
    {
      "cell_type": "code",
      "source": [
        "plt.pie(slices, labels = activities, colors=colors, \n",
        "        startangle=90, shadow = True, explode = (0, 0),\n",
        "        radius = 1.2, autopct = '%1.1f%%')\n",
        "plt.legend()\n",
        "  \n",
        "# showing the plot\n",
        "plt.show()"
      ],
      "metadata": {
        "colab": {
          "base_uri": "https://localhost:8080/",
          "height": 248
        },
        "id": "F5PfoUSISLSo",
        "outputId": "26b9c1e1-cc47-40b0-c5ce-5ccc0078ea73"
      },
      "execution_count": 37,
      "outputs": [
        {
          "output_type": "display_data",
          "data": {
            "text/plain": [
              "<Figure size 432x288 with 1 Axes>"
            ],
            "image/png": "[encoded data removed]"
          },
          "metadata": {}
        }
      ]
    },
    {
      "cell_type": "code",
      "source": [
        "# Calculate the offer initiation rate for each app\n",
        "sikka_offer_initiation = user_data[user_data[\"app_id\"] == \"sikka\"].shape[0] / sikka_users if sikka_users != 0 else 0\n",
        "sikka_pro_offer_initiation = user_data[user_data[\"app_id\"] == \"sikka_pro\"].shape[0] / sikka_pro_users if sikka_pro_users != 0 else 0"
      ],
      "metadata": {
        "id": "ew6aWZdqH6qJ"
      },
      "execution_count": 38,
      "outputs": []
    },
    {
      "cell_type": "code",
      "source": [
        "sikka_offer_initiation"
      ],
      "metadata": {
        "colab": {
          "base_uri": "https://localhost:8080/"
        },
        "id": "QVA1tnZXOmhk",
        "outputId": "9ae67825-aad1-4db7-bfdc-db50fe00ca92"
      },
      "execution_count": 39,
      "outputs": [
        {
          "output_type": "execute_result",
          "data": {
            "text/plain": [
              "0.203125"
            ]
          },
          "metadata": {},
          "execution_count": 39
        }
      ]
    },
    {
      "cell_type": "code",
      "source": [
        "sikka_pro_offer_initiation"
      ],
      "metadata": {
        "colab": {
          "base_uri": "https://localhost:8080/"
        },
        "id": "k0hNhUhKOqQE",
        "outputId": "e7eef531-c8c9-4a1c-c9c1-3872d60da4d7"
      },
      "execution_count": 40,
      "outputs": [
        {
          "output_type": "execute_result",
          "data": {
            "text/plain": [
              "0.4166666666666667"
            ]
          },
          "metadata": {},
          "execution_count": 40
        }
      ]
    },
    {
      "cell_type": "code",
      "source": [
        "left = [1, 2]\n",
        "  \n",
        "# heights of bars\n",
        "height = [0.203125, 0.4166666666666667]\n",
        "  \n",
        "# labels for bars\n",
        "tick_label = ['sikka_offer_initiation', 'sikka_pro_offer_initiation']\n",
        "  \n",
        "# plotting a bar chart\n",
        "plt.bar(left, height, tick_label = tick_label,\n",
        "        width = 0.8, color = ['Blue', 'green'])\n",
        "  \n",
        "# naming the x-axis\n",
        "plt.xlabel('x - axis')\n",
        "# naming the y-axis\n",
        "plt.ylabel('y - axis')\n",
        "# plot title\n",
        "plt.title('My bar chart!')\n",
        "  \n",
        "# function to show the plot\n",
        "plt.show()"
      ],
      "metadata": {
        "colab": {
          "base_uri": "https://localhost:8080/",
          "height": 296
        },
        "id": "7uY1oNOWUAjl",
        "outputId": "223c4db9-b16b-479f-9b94-9ec5baf24c8d"
      },
      "execution_count": 41,
      "outputs": [
        {
          "output_type": "display_data",
          "data": {
            "text/plain": [
              "<Figure size 432x288 with 1 Axes>"
            ],
            "image/png": "[encoded data removed]"
          },
          "metadata": {
            "needs_background": "light"
          }
        }
      ]
    },
    {
      "cell_type": "code",
      "source": [
        "# Calculate the offer completion rate for each app\n",
        "sikka_offer_completion =user_offer_complition_data[user_offer_complition_data[\"app_id\"] == \"sikka\"].shape[0] / sikka_offer_initiation if sikka_offer_initiation != 0 else 0\n",
        "sikka_pro_offer_completion = user_offer_complition_data[user_offer_complition_data[\"app_id\"] == \"sikka_pro\"].shape[0] / sikka_pro_offer_initiation if sikka_pro_offer_initiation != 0 else 0"
      ],
      "metadata": {
        "id": "9G3v-6jdJKK0"
      },
      "execution_count": 42,
      "outputs": []
    },
    {
      "cell_type": "code",
      "source": [
        "sikka_offer_completion"
      ],
      "metadata": {
        "colab": {
          "base_uri": "https://localhost:8080/"
        },
        "id": "BmtWT8b0Ow_3",
        "outputId": "80b363f2-d6c1-4e4a-988f-f25675924614"
      },
      "execution_count": 43,
      "outputs": [
        {
          "output_type": "execute_result",
          "data": {
            "text/plain": [
              "132.92307692307693"
            ]
          },
          "metadata": {},
          "execution_count": 43
        }
      ]
    },
    {
      "cell_type": "code",
      "source": [
        "sikka_pro_offer_completion"
      ],
      "metadata": {
        "colab": {
          "base_uri": "https://localhost:8080/"
        },
        "id": "diidTpqXO3r2",
        "outputId": "f1293ba4-fc48-4198-b53f-91b22a399b10"
      },
      "execution_count": 44,
      "outputs": [
        {
          "output_type": "execute_result",
          "data": {
            "text/plain": [
              "103.19999999999999"
            ]
          },
          "metadata": {},
          "execution_count": 44
        }
      ]
    },
    {
      "cell_type": "code",
      "source": [
        "left = [1, 2]\n",
        "  \n",
        "# heights of bars\n",
        "height = [132.92307692307693, 103.19999999999999]\n",
        "  \n",
        "# labels for bars\n",
        "tick_label = ['sikka_offer_completion', 'sikka_pro_offer_completion']\n",
        "  \n",
        "# plotting a bar chart\n",
        "plt.bar(left, height, tick_label = tick_label,\n",
        "        width = 0.8, color = ['Blue', 'green'])\n",
        "  \n",
        "# naming the x-axis\n",
        "plt.xlabel('x - axis')\n",
        "# naming the y-axis\n",
        "plt.ylabel('y - axis')\n",
        "# plot title\n",
        "plt.title('My bar chart!')\n",
        "  \n",
        "# function to show the plot\n",
        "plt.show()"
      ],
      "metadata": {
        "colab": {
          "base_uri": "https://localhost:8080/",
          "height": 296
        },
        "id": "YYqPuaRrXg-V",
        "outputId": "cfd1ecd8-708c-4509-f724-a1c32fa9eaea"
      },
      "execution_count": 45,
      "outputs": [
        {
          "output_type": "display_data",
          "data": {
            "text/plain": [
              "<Figure size 432x288 with 1 Axes>"
            ],
            "image/png": "[encoded data removed]"
          },
          "metadata": {
            "needs_background": "light"
          }
        }
      ]
    },
    {
      "cell_type": "code",
      "source": [
        "# Calculate the user retention rate for each app\n",
        "sikka_user_retention = user_signup[user_signup[\"app_id\"] == \"sikka\"].shape[0] / user_offer_complition_data[user_offer_complition_data[\"app_id\"] == \"sikka\"].shape[0] if user_offer_complition_data[user_offer_complition_data[\"app_id\"] == \"sikka\"].shape[0] !=0 else 0\n",
        "sikka_pro_user_retention = user_signup[user_signup[\"app_id\"] == \"sikka_pro\"].shape[0] / user_offer_complition_data[user_offer_complition_data[\"app_id\"] == \"sikka_pro\"].shape[0] if user_offer_complition_data[user_offer_complition_data[\"app_id\"] == \"sikka_pro\"].shape[0] !=0 else 0"
      ],
      "metadata": {
        "id": "xz4mCe5GKPul"
      },
      "execution_count": 46,
      "outputs": []
    },
    {
      "cell_type": "code",
      "source": [
        "sikka_user_retention"
      ],
      "metadata": {
        "colab": {
          "base_uri": "https://localhost:8080/"
        },
        "id": "3LOUvSd_PGnU",
        "outputId": "4e0f5784-c21b-4a2e-8834-1420faffe7c4"
      },
      "execution_count": 47,
      "outputs": [
        {
          "output_type": "execute_result",
          "data": {
            "text/plain": [
              "2.3703703703703702"
            ]
          },
          "metadata": {},
          "execution_count": 47
        }
      ]
    },
    {
      "cell_type": "code",
      "source": [
        "sikka_pro_user_retention "
      ],
      "metadata": {
        "colab": {
          "base_uri": "https://localhost:8080/"
        },
        "id": "GFxRgdQvPKqn",
        "outputId": "4aa6d5da-c859-40c2-be25-9a07ca42913a"
      },
      "execution_count": 48,
      "outputs": [
        {
          "output_type": "execute_result",
          "data": {
            "text/plain": [
              "0.8372093023255814"
            ]
          },
          "metadata": {},
          "execution_count": 48
        }
      ]
    },
    {
      "cell_type": "code",
      "source": [
        "left = [1, 2]\n",
        "  \n",
        "# heights of bars\n",
        "height = [2.3703703703703702, 0.8372093023255814]\n",
        "  \n",
        "# labels for bars\n",
        "tick_label = ['sikka_user_retention', 'sikka_pro_user_retention ']\n",
        "  \n",
        "# plotting a bar chart\n",
        "plt.bar(left, height, tick_label = tick_label,\n",
        "        width = 0.8, color = ['Blue', 'green'])\n",
        "  \n",
        "# naming the x-axis\n",
        "plt.xlabel('x - axis')\n",
        "# naming the y-axis\n",
        "plt.ylabel('y - axis')\n",
        "# plot title\n",
        "plt.title('My bar chart!')\n",
        "  \n",
        "# function to show the plot\n",
        "plt.show()"
      ],
      "metadata": {
        "colab": {
          "base_uri": "https://localhost:8080/",
          "height": 296
        },
        "id": "CFBEC4ZXZqDD",
        "outputId": "b120d4d7-7afa-42b6-99d3-f2fcc5c2497f"
      },
      "execution_count": 49,
      "outputs": [
        {
          "output_type": "display_data",
          "data": {
            "text/plain": [
              "<Figure size 432x288 with 1 Axes>"
            ],
            "image/png": "[encoded data removed]"
          },
          "metadata": {
            "needs_background": "light"
          }
        }
      ]
    },
    {
      "cell_type": "code",
      "source": [
        "# Calculate the total revenue generated by each app\n",
        "sikka_revenue = user_offer_complition_data[user_offer_complition_data[\"app_id\"] == \"sikka\"][\"total_revenue_in_paise\"].sum()\n",
        "sikka_pro_revenue = user_offer_complition_data[user_offer_complition_data[\"app_id\"] == \"sikka_pro\"][\"total_revenue_in_paise\"].sum()"
      ],
      "metadata": {
        "id": "AXSOY34oLNXS"
      },
      "execution_count": 50,
      "outputs": []
    },
    {
      "cell_type": "code",
      "source": [
        "sikka_revenue"
      ],
      "metadata": {
        "colab": {
          "base_uri": "https://localhost:8080/"
        },
        "id": "XaHAwkN3MCZg",
        "outputId": "b864887b-9bfe-47e6-d554-d2cc6dea5439"
      },
      "execution_count": 51,
      "outputs": [
        {
          "output_type": "execute_result",
          "data": {
            "text/plain": [
              "39687"
            ]
          },
          "metadata": {},
          "execution_count": 51
        }
      ]
    },
    {
      "cell_type": "code",
      "source": [
        "sikka_pro_revenue"
      ],
      "metadata": {
        "colab": {
          "base_uri": "https://localhost:8080/"
        },
        "id": "HJCRKzbJMF_X",
        "outputId": "7515d7f6-9fd9-455f-cbb9-9088e1feced8"
      },
      "execution_count": 52,
      "outputs": [
        {
          "output_type": "execute_result",
          "data": {
            "text/plain": [
              "40457"
            ]
          },
          "metadata": {},
          "execution_count": 52
        }
      ]
    },
    {
      "cell_type": "code",
      "source": [
        "left = [1, 2]\n",
        "  \n",
        "# heights of bars\n",
        "height = [39687, 40457]\n",
        "  \n",
        "# labels for bars\n",
        "tick_label = ['sikka_revenue', 'sikka_pro_revenue']\n",
        "  \n",
        "# plotting a bar chart\n",
        "plt.bar(left, height, tick_label = tick_label,\n",
        "        width = 0.8, color = ['Blue', 'green'])\n",
        "  \n",
        "# naming the x-axis\n",
        "plt.xlabel('x - axis')\n",
        "# naming the y-axis\n",
        "plt.ylabel('y - axis')\n",
        "# plot title\n",
        "plt.title('My bar chart!')\n",
        "  \n",
        "# function to show the plot\n",
        "plt.show()"
      ],
      "metadata": {
        "colab": {
          "base_uri": "https://localhost:8080/",
          "height": 296
        },
        "id": "cDi9-ogUaVMl",
        "outputId": "9000033d-27f2-4240-e0bb-d4ed051b6eec"
      },
      "execution_count": 53,
      "outputs": [
        {
          "output_type": "display_data",
          "data": {
            "text/plain": [
              "<Figure size 432x288 with 1 Axes>"
            ],
            "image/png": "[encoded data removed]"
          },
          "metadata": {
            "needs_background": "light"
          }
        }
      ]
    },
    {
      "cell_type": "markdown",
      "source": [
        "### **QUESTION 3**"
      ],
      "metadata": {
        "id": "RgpPvwYArNYr"
      }
    },
    {
      "cell_type": "code",
      "source": [
        "from sklearn.linear_model import LinearRegression"
      ],
      "metadata": {
        "id": "o_RRS-Cfk9k5"
      },
      "execution_count": 54,
      "outputs": []
    },
    {
      "cell_type": "code",
      "source": [
        "sikka_data.head()"
      ],
      "metadata": {
        "colab": {
          "base_uri": "https://localhost:8080/",
          "height": 206
        },
        "id": "VBcpMgY7lK4b",
        "outputId": "a2975ed2-ff2f-4605-ff21-4a896e557a4f"
      },
      "execution_count": 55,
      "outputs": [
        {
          "output_type": "execute_result",
          "data": {
            "text/plain": [
              "         Date    DAU  Installs  Uninstalls  Signups  Referrals\n",
              "0  2022-10-01  24071      6630        6994     3511      962.0\n",
              "1  2022-10-02  23548      6366        6669     3387      941.0\n",
              "2  2022-10-03  24572      6936        6899     3654      940.0\n",
              "3  2022-10-04  24212      6561        6766     3532      960.0\n",
              "4  2022-10-05  23247      6059        6402     3315      923.0"
            ],
            "text/html": [
              "\n",
              "  <div id=\"df-0bdf6007-9aa0-4879-a013-6c40c391db5a\">\n",
              "    <div class=\"colab-df-container\">\n",
              "      <div>\n",
              "<style scoped>\n",
              "    .dataframe tbody tr th:only-of-type {\n",
              "        vertical-align: middle;\n",
              "    }\n",
              "\n",
              "    .dataframe tbody tr th {\n",
              "        vertical-align: top;\n",
              "    }\n",
              "\n",
              "    .dataframe thead th {\n",
              "        text-align: right;\n",
              "    }\n",
              "</style>\n",
              "<table border=\"1\" class=\"dataframe\">\n",
              "  <thead>\n",
              "    <tr style=\"text-align: right;\">\n",
              "      <th></th>\n",
              "      <th>Date</th>\n",
              "      <th>DAU</th>\n",
              "      <th>Installs</th>\n",
              "      <th>Uninstalls</th>\n",
              "      <th>Signups</th>\n",
              "      <th>Referrals</th>\n",
              "    </tr>\n",
              "  </thead>\n",
              "  <tbody>\n",
              "    <tr>\n",
              "      <th>0</th>\n",
              "      <td>2022-10-01</td>\n",
              "      <td>24071</td>\n",
              "      <td>6630</td>\n",
              "      <td>6994</td>\n",
              "      <td>3511</td>\n",
              "      <td>962.0</td>\n",
              "    </tr>\n",
              "    <tr>\n",
              "      <th>1</th>\n",
              "      <td>2022-10-02</td>\n",
              "      <td>23548</td>\n",
              "      <td>6366</td>\n",
              "      <td>6669</td>\n",
              "      <td>3387</td>\n",
              "      <td>941.0</td>\n",
              "    </tr>\n",
              "    <tr>\n",
              "      <th>2</th>\n",
              "      <td>2022-10-03</td>\n",
              "      <td>24572</td>\n",
              "      <td>6936</td>\n",
              "      <td>6899</td>\n",
              "      <td>3654</td>\n",
              "      <td>940.0</td>\n",
              "    </tr>\n",
              "    <tr>\n",
              "      <th>3</th>\n",
              "      <td>2022-10-04</td>\n",
              "      <td>24212</td>\n",
              "      <td>6561</td>\n",
              "      <td>6766</td>\n",
              "      <td>3532</td>\n",
              "      <td>960.0</td>\n",
              "    </tr>\n",
              "    <tr>\n",
              "      <th>4</th>\n",
              "      <td>2022-10-05</td>\n",
              "      <td>23247</td>\n",
              "      <td>6059</td>\n",
              "      <td>6402</td>\n",
              "      <td>3315</td>\n",
              "      <td>923.0</td>\n",
              "    </tr>\n",
              "  </tbody>\n",
              "</table>\n",
              "</div>\n",
              "      <button class=\"colab-df-convert\" onclick=\"convertToInteractive('df-0bdf6007-9aa0-4879-a013-6c40c391db5a')\"\n",
              "              title=\"Convert this dataframe to an interactive table.\"\n",
              "              style=\"display:none;\">\n",
              "        \n",
              "  <svg xmlns=\"http://www.w3.org/2000/svg\" height=\"24px\"viewBox=\"0 0 24 24\"\n",
              "       width=\"24px\">\n",
              "    <path d=\"M0 0h24v24H0V0z\" fill=\"none\"/>\n",
              "    <path d=\"M18.56 5.44l.94 2.06.94-2.06 2.06-.94-2.06-.94-.94-2.06-.94 2.06-2.06.94zm-11 1L8.5 8.5l.94-2.06 2.06-.94-2.06-.94L8.5 2.5l-.94 2.06-2.06.94zm10 10l.94 2.06.94-2.06 2.06-.94-2.06-.94-.94-2.06-.94 2.06-2.06.94z\"/><path d=\"M17.41 7.96l-1.37-1.37c-.4-.4-.92-.59-1.43-.59-.52 0-1.04.2-1.43.59L10.3 9.45l-7.72 7.72c-.78.78-.78 2.05 0 2.83L4 21.41c.39.39.9.59 1.41.59.51 0 1.02-.2 1.41-.59l7.78-7.78 2.81-2.81c.8-.78.8-2.07 0-2.86zM5.41 20L4 18.59l7.72-7.72 1.47 1.35L5.41 20z\"/>\n",
              "  </svg>\n",
              "      </button>\n",
              "      \n",
              "  <style>\n",
              "    .colab-df-container {\n",
              "      display:flex;\n",
              "      flex-wrap:wrap;\n",
              "      gap: 12px;\n",
              "    }\n",
              "\n",
              "    .colab-df-convert {\n",
              "      background-color: #E8F0FE;\n",
              "      border: none;\n",
              "      border-radius: 50%;\n",
              "      cursor: pointer;\n",
              "      display: none;\n",
              "      fill: #1967D2;\n",
              "      height: 32px;\n",
              "      padding: 0 0 0 0;\n",
              "      width: 32px;\n",
              "    }\n",
              "\n",
              "    .colab-df-convert:hover {\n",
              "      background-color: #E2EBFA;\n",
              "      box-shadow: 0px 1px 2px rgba(60, 64, 67, 0.3), 0px 1px 3px 1px rgba(60, 64, 67, 0.15);\n",
              "      fill: #174EA6;\n",
              "    }\n",
              "\n",
              "    [theme=dark] .colab-df-convert {\n",
              "      background-color: #3B4455;\n",
              "      fill: #D2E3FC;\n",
              "    }\n",
              "\n",
              "    [theme=dark] .colab-df-convert:hover {\n",
              "      background-color: #434B5C;\n",
              "      box-shadow: 0px 1px 3px 1px rgba(0, 0, 0, 0.15);\n",
              "      filter: drop-shadow(0px 1px 2px rgba(0, 0, 0, 0.3));\n",
              "      fill: #FFFFFF;\n",
              "    }\n",
              "  </style>\n",
              "\n",
              "      <script>\n",
              "        const buttonEl =\n",
              "          document.querySelector('#df-0bdf6007-9aa0-4879-a013-6c40c391db5a button.colab-df-convert');\n",
              "        buttonEl.style.display =\n",
              "          google.colab.kernel.accessAllowed ? 'block' : 'none';\n",
              "\n",
              "        async function convertToInteractive(key) {\n",
              "          const element = document.querySelector('#df-0bdf6007-9aa0-4879-a013-6c40c391db5a');\n",
              "          const dataTable =\n",
              "            await google.colab.kernel.invokeFunction('convertToInteractive',\n",
              "                                                     [key], {});\n",
              "          if (!dataTable) return;\n",
              "\n",
              "          const docLinkHtml = 'Like what you see? Visit the ' +\n",
              "            '<a target=\"_blank\" href=https://colab.research.google.com/notebooks/data_table.ipynb>data table notebook</a>'\n",
              "            + ' to learn more about interactive tables.';\n",
              "          element.innerHTML = '';\n",
              "          dataTable['output_type'] = 'display_data';\n",
              "          await google.colab.output.renderOutput(dataTable, element);\n",
              "          const docLink = document.createElement('div');\n",
              "          docLink.innerHTML = docLinkHtml;\n",
              "          element.appendChild(docLink);\n",
              "        }\n",
              "      </script>\n",
              "    </div>\n",
              "  </div>\n",
              "  "
            ]
          },
          "metadata": {},
          "execution_count": 55
        }
      ]
    },
    {
      "cell_type": "code",
      "source": [
        "split_date ='2022-11-01'\n",
        "df_October = sikka_data.loc[sikka_data['Date'] < split_date]\n",
        "df_November = sikka_data.loc[sikka_data['Date'] >= split_date]"
      ],
      "metadata": {
        "id": "FpCXBW4hoHk-"
      },
      "execution_count": 61,
      "outputs": []
    },
    {
      "cell_type": "code",
      "source": [
        "df_October.head()"
      ],
      "metadata": {
        "colab": {
          "base_uri": "https://localhost:8080/",
          "height": 206
        },
        "id": "CWQeJryZo0nC",
        "outputId": "9874e8ff-de40-4b9a-9ce8-00c1809c49ed"
      },
      "execution_count": 63,
      "outputs": [
        {
          "output_type": "execute_result",
          "data": {
            "text/plain": [
              "         Date    DAU  Installs  Uninstalls  Signups  Referrals\n",
              "0  2022-10-01  24071      6630        6994     3511      962.0\n",
              "1  2022-10-02  23548      6366        6669     3387      941.0\n",
              "2  2022-10-03  24572      6936        6899     3654      940.0\n",
              "3  2022-10-04  24212      6561        6766     3532      960.0\n",
              "4  2022-10-05  23247      6059        6402     3315      923.0"
            ],
            "text/html": [
              "\n",
              "  <div id=\"df-f7e39547-3634-44f8-a08a-19c589a32a19\">\n",
              "    <div class=\"colab-df-container\">\n",
              "      <div>\n",
              "<style scoped>\n",
              "    .dataframe tbody tr th:only-of-type {\n",
              "        vertical-align: middle;\n",
              "    }\n",
              "\n",
              "    .dataframe tbody tr th {\n",
              "        vertical-align: top;\n",
              "    }\n",
              "\n",
              "    .dataframe thead th {\n",
              "        text-align: right;\n",
              "    }\n",
              "</style>\n",
              "<table border=\"1\" class=\"dataframe\">\n",
              "  <thead>\n",
              "    <tr style=\"text-align: right;\">\n",
              "      <th></th>\n",
              "      <th>Date</th>\n",
              "      <th>DAU</th>\n",
              "      <th>Installs</th>\n",
              "      <th>Uninstalls</th>\n",
              "      <th>Signups</th>\n",
              "      <th>Referrals</th>\n",
              "    </tr>\n",
              "  </thead>\n",
              "  <tbody>\n",
              "    <tr>\n",
              "      <th>0</th>\n",
              "      <td>2022-10-01</td>\n",
              "      <td>24071</td>\n",
              "      <td>6630</td>\n",
              "      <td>6994</td>\n",
              "      <td>3511</td>\n",
              "      <td>962.0</td>\n",
              "    </tr>\n",
              "    <tr>\n",
              "      <th>1</th>\n",
              "      <td>2022-10-02</td>\n",
              "      <td>23548</td>\n",
              "      <td>6366</td>\n",
              "      <td>6669</td>\n",
              "      <td>3387</td>\n",
              "      <td>941.0</td>\n",
              "    </tr>\n",
              "    <tr>\n",
              "      <th>2</th>\n",
              "      <td>2022-10-03</td>\n",
              "      <td>24572</td>\n",
              "      <td>6936</td>\n",
              "      <td>6899</td>\n",
              "      <td>3654</td>\n",
              "      <td>940.0</td>\n",
              "    </tr>\n",
              "    <tr>\n",
              "      <th>3</th>\n",
              "      <td>2022-10-04</td>\n",
              "      <td>24212</td>\n",
              "      <td>6561</td>\n",
              "      <td>6766</td>\n",
              "      <td>3532</td>\n",
              "      <td>960.0</td>\n",
              "    </tr>\n",
              "    <tr>\n",
              "      <th>4</th>\n",
              "      <td>2022-10-05</td>\n",
              "      <td>23247</td>\n",
              "      <td>6059</td>\n",
              "      <td>6402</td>\n",
              "      <td>3315</td>\n",
              "      <td>923.0</td>\n",
              "    </tr>\n",
              "  </tbody>\n",
              "</table>\n",
              "</div>\n",
              "      <button class=\"colab-df-convert\" onclick=\"convertToInteractive('df-f7e39547-3634-44f8-a08a-19c589a32a19')\"\n",
              "              title=\"Convert this dataframe to an interactive table.\"\n",
              "              style=\"display:none;\">\n",
              "        \n",
              "  <svg xmlns=\"http://www.w3.org/2000/svg\" height=\"24px\"viewBox=\"0 0 24 24\"\n",
              "       width=\"24px\">\n",
              "    <path d=\"M0 0h24v24H0V0z\" fill=\"none\"/>\n",
              "    <path d=\"M18.56 5.44l.94 2.06.94-2.06 2.06-.94-2.06-.94-.94-2.06-.94 2.06-2.06.94zm-11 1L8.5 8.5l.94-2.06 2.06-.94-2.06-.94L8.5 2.5l-.94 2.06-2.06.94zm10 10l.94 2.06.94-2.06 2.06-.94-2.06-.94-.94-2.06-.94 2.06-2.06.94z\"/><path d=\"M17.41 7.96l-1.37-1.37c-.4-.4-.92-.59-1.43-.59-.52 0-1.04.2-1.43.59L10.3 9.45l-7.72 7.72c-.78.78-.78 2.05 0 2.83L4 21.41c.39.39.9.59 1.41.59.51 0 1.02-.2 1.41-.59l7.78-7.78 2.81-2.81c.8-.78.8-2.07 0-2.86zM5.41 20L4 18.59l7.72-7.72 1.47 1.35L5.41 20z\"/>\n",
              "  </svg>\n",
              "      </button>\n",
              "      \n",
              "  <style>\n",
              "    .colab-df-container {\n",
              "      display:flex;\n",
              "      flex-wrap:wrap;\n",
              "      gap: 12px;\n",
              "    }\n",
              "\n",
              "    .colab-df-convert {\n",
              "      background-color: #E8F0FE;\n",
              "      border: none;\n",
              "      border-radius: 50%;\n",
              "      cursor: pointer;\n",
              "      display: none;\n",
              "      fill: #1967D2;\n",
              "      height: 32px;\n",
              "      padding: 0 0 0 0;\n",
              "      width: 32px;\n",
              "    }\n",
              "\n",
              "    .colab-df-convert:hover {\n",
              "      background-color: #E2EBFA;\n",
              "      box-shadow: 0px 1px 2px rgba(60, 64, 67, 0.3), 0px 1px 3px 1px rgba(60, 64, 67, 0.15);\n",
              "      fill: #174EA6;\n",
              "    }\n",
              "\n",
              "    [theme=dark] .colab-df-convert {\n",
              "      background-color: #3B4455;\n",
              "      fill: #D2E3FC;\n",
              "    }\n",
              "\n",
              "    [theme=dark] .colab-df-convert:hover {\n",
              "      background-color: #434B5C;\n",
              "      box-shadow: 0px 1px 3px 1px rgba(0, 0, 0, 0.15);\n",
              "      filter: drop-shadow(0px 1px 2px rgba(0, 0, 0, 0.3));\n",
              "      fill: #FFFFFF;\n",
              "    }\n",
              "  </style>\n",
              "\n",
              "      <script>\n",
              "        const buttonEl =\n",
              "          document.querySelector('#df-f7e39547-3634-44f8-a08a-19c589a32a19 button.colab-df-convert');\n",
              "        buttonEl.style.display =\n",
              "          google.colab.kernel.accessAllowed ? 'block' : 'none';\n",
              "\n",
              "        async function convertToInteractive(key) {\n",
              "          const element = document.querySelector('#df-f7e39547-3634-44f8-a08a-19c589a32a19');\n",
              "          const dataTable =\n",
              "            await google.colab.kernel.invokeFunction('convertToInteractive',\n",
              "                                                     [key], {});\n",
              "          if (!dataTable) return;\n",
              "\n",
              "          const docLinkHtml = 'Like what you see? Visit the ' +\n",
              "            '<a target=\"_blank\" href=https://colab.research.google.com/notebooks/data_table.ipynb>data table notebook</a>'\n",
              "            + ' to learn more about interactive tables.';\n",
              "          element.innerHTML = '';\n",
              "          dataTable['output_type'] = 'display_data';\n",
              "          await google.colab.output.renderOutput(dataTable, element);\n",
              "          const docLink = document.createElement('div');\n",
              "          docLink.innerHTML = docLinkHtml;\n",
              "          element.appendChild(docLink);\n",
              "        }\n",
              "      </script>\n",
              "    </div>\n",
              "  </div>\n",
              "  "
            ]
          },
          "metadata": {},
          "execution_count": 63
        }
      ]
    },
    {
      "cell_type": "code",
      "source": [
        "df_November.head()"
      ],
      "metadata": {
        "colab": {
          "base_uri": "https://localhost:8080/",
          "height": 206
        },
        "id": "xpn35VjNo_0x",
        "outputId": "c32122af-9f27-47a8-c3cc-8868d28a358e"
      },
      "execution_count": 64,
      "outputs": [
        {
          "output_type": "execute_result",
          "data": {
            "text/plain": [
              "          Date    DAU  Installs  Uninstalls  Signups  Referrals\n",
              "31  2022-11-01  12816      3763        4149     1806        NaN\n",
              "32  2022-11-02  12812      3087        3868     1550        NaN\n",
              "33  2022-11-03  12042      3176        3815     1410        NaN\n",
              "34  2022-11-04  12595      3172        3878     1629        NaN\n",
              "35  2022-11-05  12361      3390        4021     1578        NaN"
            ],
            "text/html": [
              "\n",
              "  <div id=\"df-4484bcf7-cdb6-4a02-a286-1c32ad3bd2df\">\n",
              "    <div class=\"colab-df-container\">\n",
              "      <div>\n",
              "<style scoped>\n",
              "    .dataframe tbody tr th:only-of-type {\n",
              "        vertical-align: middle;\n",
              "    }\n",
              "\n",
              "    .dataframe tbody tr th {\n",
              "        vertical-align: top;\n",
              "    }\n",
              "\n",
              "    .dataframe thead th {\n",
              "        text-align: right;\n",
              "    }\n",
              "</style>\n",
              "<table border=\"1\" class=\"dataframe\">\n",
              "  <thead>\n",
              "    <tr style=\"text-align: right;\">\n",
              "      <th></th>\n",
              "      <th>Date</th>\n",
              "      <th>DAU</th>\n",
              "      <th>Installs</th>\n",
              "      <th>Uninstalls</th>\n",
              "      <th>Signups</th>\n",
              "      <th>Referrals</th>\n",
              "    </tr>\n",
              "  </thead>\n",
              "  <tbody>\n",
              "    <tr>\n",
              "      <th>31</th>\n",
              "      <td>2022-11-01</td>\n",
              "      <td>12816</td>\n",
              "      <td>3763</td>\n",
              "      <td>4149</td>\n",
              "      <td>1806</td>\n",
              "      <td>NaN</td>\n",
              "    </tr>\n",
              "    <tr>\n",
              "      <th>32</th>\n",
              "      <td>2022-11-02</td>\n",
              "      <td>12812</td>\n",
              "      <td>3087</td>\n",
              "      <td>3868</td>\n",
              "      <td>1550</td>\n",
              "      <td>NaN</td>\n",
              "    </tr>\n",
              "    <tr>\n",
              "      <th>33</th>\n",
              "      <td>2022-11-03</td>\n",
              "      <td>12042</td>\n",
              "      <td>3176</td>\n",
              "      <td>3815</td>\n",
              "      <td>1410</td>\n",
              "      <td>NaN</td>\n",
              "    </tr>\n",
              "    <tr>\n",
              "      <th>34</th>\n",
              "      <td>2022-11-04</td>\n",
              "      <td>12595</td>\n",
              "      <td>3172</td>\n",
              "      <td>3878</td>\n",
              "      <td>1629</td>\n",
              "      <td>NaN</td>\n",
              "    </tr>\n",
              "    <tr>\n",
              "      <th>35</th>\n",
              "      <td>2022-11-05</td>\n",
              "      <td>12361</td>\n",
              "      <td>3390</td>\n",
              "      <td>4021</td>\n",
              "      <td>1578</td>\n",
              "      <td>NaN</td>\n",
              "    </tr>\n",
              "  </tbody>\n",
              "</table>\n",
              "</div>\n",
              "      <button class=\"colab-df-convert\" onclick=\"convertToInteractive('df-4484bcf7-cdb6-4a02-a286-1c32ad3bd2df')\"\n",
              "              title=\"Convert this dataframe to an interactive table.\"\n",
              "              style=\"display:none;\">\n",
              "        \n",
              "  <svg xmlns=\"http://www.w3.org/2000/svg\" height=\"24px\"viewBox=\"0 0 24 24\"\n",
              "       width=\"24px\">\n",
              "    <path d=\"M0 0h24v24H0V0z\" fill=\"none\"/>\n",
              "    <path d=\"M18.56 5.44l.94 2.06.94-2.06 2.06-.94-2.06-.94-.94-2.06-.94 2.06-2.06.94zm-11 1L8.5 8.5l.94-2.06 2.06-.94-2.06-.94L8.5 2.5l-.94 2.06-2.06.94zm10 10l.94 2.06.94-2.06 2.06-.94-2.06-.94-.94-2.06-.94 2.06-2.06.94z\"/><path d=\"M17.41 7.96l-1.37-1.37c-.4-.4-.92-.59-1.43-.59-.52 0-1.04.2-1.43.59L10.3 9.45l-7.72 7.72c-.78.78-.78 2.05 0 2.83L4 21.41c.39.39.9.59 1.41.59.51 0 1.02-.2 1.41-.59l7.78-7.78 2.81-2.81c.8-.78.8-2.07 0-2.86zM5.41 20L4 18.59l7.72-7.72 1.47 1.35L5.41 20z\"/>\n",
              "  </svg>\n",
              "      </button>\n",
              "      \n",
              "  <style>\n",
              "    .colab-df-container {\n",
              "      display:flex;\n",
              "      flex-wrap:wrap;\n",
              "      gap: 12px;\n",
              "    }\n",
              "\n",
              "    .colab-df-convert {\n",
              "      background-color: #E8F0FE;\n",
              "      border: none;\n",
              "      border-radius: 50%;\n",
              "      cursor: pointer;\n",
              "      display: none;\n",
              "      fill: #1967D2;\n",
              "      height: 32px;\n",
              "      padding: 0 0 0 0;\n",
              "      width: 32px;\n",
              "    }\n",
              "\n",
              "    .colab-df-convert:hover {\n",
              "      background-color: #E2EBFA;\n",
              "      box-shadow: 0px 1px 2px rgba(60, 64, 67, 0.3), 0px 1px 3px 1px rgba(60, 64, 67, 0.15);\n",
              "      fill: #174EA6;\n",
              "    }\n",
              "\n",
              "    [theme=dark] .colab-df-convert {\n",
              "      background-color: #3B4455;\n",
              "      fill: #D2E3FC;\n",
              "    }\n",
              "\n",
              "    [theme=dark] .colab-df-convert:hover {\n",
              "      background-color: #434B5C;\n",
              "      box-shadow: 0px 1px 3px 1px rgba(0, 0, 0, 0.15);\n",
              "      filter: drop-shadow(0px 1px 2px rgba(0, 0, 0, 0.3));\n",
              "      fill: #FFFFFF;\n",
              "    }\n",
              "  </style>\n",
              "\n",
              "      <script>\n",
              "        const buttonEl =\n",
              "          document.querySelector('#df-4484bcf7-cdb6-4a02-a286-1c32ad3bd2df button.colab-df-convert');\n",
              "        buttonEl.style.display =\n",
              "          google.colab.kernel.accessAllowed ? 'block' : 'none';\n",
              "\n",
              "        async function convertToInteractive(key) {\n",
              "          const element = document.querySelector('#df-4484bcf7-cdb6-4a02-a286-1c32ad3bd2df');\n",
              "          const dataTable =\n",
              "            await google.colab.kernel.invokeFunction('convertToInteractive',\n",
              "                                                     [key], {});\n",
              "          if (!dataTable) return;\n",
              "\n",
              "          const docLinkHtml = 'Like what you see? Visit the ' +\n",
              "            '<a target=\"_blank\" href=https://colab.research.google.com/notebooks/data_table.ipynb>data table notebook</a>'\n",
              "            + ' to learn more about interactive tables.';\n",
              "          element.innerHTML = '';\n",
              "          dataTable['output_type'] = 'display_data';\n",
              "          await google.colab.output.renderOutput(dataTable, element);\n",
              "          const docLink = document.createElement('div');\n",
              "          docLink.innerHTML = docLinkHtml;\n",
              "          element.appendChild(docLink);\n",
              "        }\n",
              "      </script>\n",
              "    </div>\n",
              "  </div>\n",
              "  "
            ]
          },
          "metadata": {},
          "execution_count": 64
        }
      ]
    },
    {
      "cell_type": "code",
      "source": [
        "X = df_October[['Installs', 'DAU']]\n",
        "y = df_October['Referrals']"
      ],
      "metadata": {
        "id": "3Qe3rxhMoxkl"
      },
      "execution_count": 66,
      "outputs": []
    },
    {
      "cell_type": "code",
      "source": [
        "model = LinearRegression()\n",
        "model.fit(X, y)"
      ],
      "metadata": {
        "colab": {
          "base_uri": "https://localhost:8080/"
        },
        "id": "v7_bekn7pSbm",
        "outputId": "c45c03c0-c608-4fcc-bc28-0c3d71f8ff3d"
      },
      "execution_count": 67,
      "outputs": [
        {
          "output_type": "execute_result",
          "data": {
            "text/plain": [
              "LinearRegression()"
            ]
          },
          "metadata": {},
          "execution_count": 67
        }
      ]
    },
    {
      "cell_type": "code",
      "source": [
        "X_november = df_November[['Installs', 'DAU']]\n",
        "y_pred = model.predict(X_november)\n"
      ],
      "metadata": {
        "id": "RcguvSrMpcaG"
      },
      "execution_count": 68,
      "outputs": []
    },
    {
      "cell_type": "code",
      "source": [
        "print(y_pred)"
      ],
      "metadata": {
        "colab": {
          "base_uri": "https://localhost:8080/"
        },
        "id": "J9Z-Imi8plIf",
        "outputId": "b970aa50-0250-4265-e4dc-6ded9ec0e7d8"
      },
      "execution_count": 71,
      "outputs": [
        {
          "output_type": "stream",
          "name": "stdout",
          "text": [
            "[449.79294125 399.50866027 386.61360252 400.32263469 410.57932278\n",
            " 434.75375769 421.53642602 506.48502111 508.29373895 500.9706446\n",
            " 513.30763991 532.79394699 513.43953101 501.35839665 575.06865527]\n"
          ]
        }
      ]
    },
    {
      "cell_type": "code",
      "source": [
        "# x-axis values\n",
        "x = [1,2,3,4,5,6,7,8,9,10,11,12,13,14,15]\n",
        "# y-axis values\n",
        "y = [449.79294125, 399.50866027, 386.61360252, 400.32263469, 410.57932278,\n",
        " 434.75375769, 421.53642602, 506.48502111, 508.29373895, 500.9706446,\n",
        " 513.30763991, 532.79394699, 513.43953101, 501.35839665, 575.06865527]\n",
        "  \n",
        "# plotting points as a scatter plot\n",
        "plt.scatter(x, y, label= \"stars\", color= \"green\", \n",
        "            marker= \"*\", s=30)\n",
        "  \n",
        "# x-axis label\n",
        "plt.xlabel('x - axis')\n",
        "# frequency label\n",
        "plt.ylabel('y - axis')\n",
        "# plot title\n",
        "plt.title('My scatter plot!')\n",
        "# showing legend\n",
        "plt.legend()\n",
        "  \n",
        "# function to show the plot\n",
        "plt.show()"
      ],
      "metadata": {
        "colab": {
          "base_uri": "https://localhost:8080/",
          "height": 295
        },
        "id": "tR2YeV-AqFAq",
        "outputId": "dba8488b-1cb7-4a11-e539-facd2e212488"
      },
      "execution_count": 74,
      "outputs": [
        {
          "output_type": "display_data",
          "data": {
            "text/plain": [
              "<Figure size 432x288 with 1 Axes>"
            ],
            "image/png": "[encoded data removed]"
          },
          "metadata": {
            "needs_background": "light"
          }
        }
      ]
    },
    {
      "cell_type": "markdown",
      "source": [
        "### **QUESTION 4**"
      ],
      "metadata": {
        "id": "PaOwY31VrVN3"
      }
    },
    {
      "cell_type": "code",
      "source": [
        "ADX_sample_data=pd.read_csv(\"/content/drive/MyDrive/greedygame data/Q4_ADX_Sample_data.csv\")"
      ],
      "metadata": {
        "id": "oOxaBrOds09W"
      },
      "execution_count": 80,
      "outputs": []
    },
    {
      "cell_type": "code",
      "source": [
        "ADX_sample_data.head()"
      ],
      "metadata": {
        "colab": {
          "base_uri": "https://localhost:8080/",
          "height": 206
        },
        "id": "HAif2AX7tZ67",
        "outputId": "f29e46c0-3e01-4182-e529-ce589442d423"
      },
      "execution_count": 82,
      "outputs": [
        {
          "output_type": "execute_result",
          "data": {
            "text/plain": [
              "         date  pub_id    app_id  ad_unit_code   country  requests  \\\n",
              "0  2022-10-20    1987  16243270   22832846443  Tanzania        36   \n",
              "1  2022-10-20    1987  16243270   22832846593  Tanzania        24   \n",
              "2  2022-10-20    1987  16243270   22832846443  Thailand       949   \n",
              "3  2022-10-20    1987  16243270   22832846593  Thailand      1006   \n",
              "4  2022-10-20    1987  16243270   22832827729  Thailand       373   \n",
              "\n",
              "   ae_responses  ae_impressions  ae_clicks  ae_revenue  \n",
              "0            36              34          0    0.035738  \n",
              "1            24              23          0    0.064384  \n",
              "2           949             876         20    4.943878  \n",
              "3           907             688        134   24.226836  \n",
              "4           287             156         20    2.759392  "
            ],
            "text/html": [
              "\n",
              "  <div id=\"df-34218d93-fa5d-4519-8462-567d523ce412\">\n",
              "    <div class=\"colab-df-container\">\n",
              "      <div>\n",
              "<style scoped>\n",
              "    .dataframe tbody tr th:only-of-type {\n",
              "        vertical-align: middle;\n",
              "    }\n",
              "\n",
              "    .dataframe tbody tr th {\n",
              "        vertical-align: top;\n",
              "    }\n",
              "\n",
              "    .dataframe thead th {\n",
              "        text-align: right;\n",
              "    }\n",
              "</style>\n",
              "<table border=\"1\" class=\"dataframe\">\n",
              "  <thead>\n",
              "    <tr style=\"text-align: right;\">\n",
              "      <th></th>\n",
              "      <th>date</th>\n",
              "      <th>pub_id</th>\n",
              "      <th>app_id</th>\n",
              "      <th>ad_unit_code</th>\n",
              "      <th>country</th>\n",
              "      <th>requests</th>\n",
              "      <th>ae_responses</th>\n",
              "      <th>ae_impressions</th>\n",
              "      <th>ae_clicks</th>\n",
              "      <th>ae_revenue</th>\n",
              "    </tr>\n",
              "  </thead>\n",
              "  <tbody>\n",
              "    <tr>\n",
              "      <th>0</th>\n",
              "      <td>2022-10-20</td>\n",
              "      <td>1987</td>\n",
              "      <td>16243270</td>\n",
              "      <td>22832846443</td>\n",
              "      <td>Tanzania</td>\n",
              "      <td>36</td>\n",
              "      <td>36</td>\n",
              "      <td>34</td>\n",
              "      <td>0</td>\n",
              "      <td>0.035738</td>\n",
              "    </tr>\n",
              "    <tr>\n",
              "      <th>1</th>\n",
              "      <td>2022-10-20</td>\n",
              "      <td>1987</td>\n",
              "      <td>16243270</td>\n",
              "      <td>22832846593</td>\n",
              "      <td>Tanzania</td>\n",
              "      <td>24</td>\n",
              "      <td>24</td>\n",
              "      <td>23</td>\n",
              "      <td>0</td>\n",
              "      <td>0.064384</td>\n",
              "    </tr>\n",
              "    <tr>\n",
              "      <th>2</th>\n",
              "      <td>2022-10-20</td>\n",
              "      <td>1987</td>\n",
              "      <td>16243270</td>\n",
              "      <td>22832846443</td>\n",
              "      <td>Thailand</td>\n",
              "      <td>949</td>\n",
              "      <td>949</td>\n",
              "      <td>876</td>\n",
              "      <td>20</td>\n",
              "      <td>4.943878</td>\n",
              "    </tr>\n",
              "    <tr>\n",
              "      <th>3</th>\n",
              "      <td>2022-10-20</td>\n",
              "      <td>1987</td>\n",
              "      <td>16243270</td>\n",
              "      <td>22832846593</td>\n",
              "      <td>Thailand</td>\n",
              "      <td>1006</td>\n",
              "      <td>907</td>\n",
              "      <td>688</td>\n",
              "      <td>134</td>\n",
              "      <td>24.226836</td>\n",
              "    </tr>\n",
              "    <tr>\n",
              "      <th>4</th>\n",
              "      <td>2022-10-20</td>\n",
              "      <td>1987</td>\n",
              "      <td>16243270</td>\n",
              "      <td>22832827729</td>\n",
              "      <td>Thailand</td>\n",
              "      <td>373</td>\n",
              "      <td>287</td>\n",
              "      <td>156</td>\n",
              "      <td>20</td>\n",
              "      <td>2.759392</td>\n",
              "    </tr>\n",
              "  </tbody>\n",
              "</table>\n",
              "</div>\n",
              "      <button class=\"colab-df-convert\" onclick=\"convertToInteractive('df-34218d93-fa5d-4519-8462-567d523ce412')\"\n",
              "              title=\"Convert this dataframe to an interactive table.\"\n",
              "              style=\"display:none;\">\n",
              "        \n",
              "  <svg xmlns=\"http://www.w3.org/2000/svg\" height=\"24px\"viewBox=\"0 0 24 24\"\n",
              "       width=\"24px\">\n",
              "    <path d=\"M0 0h24v24H0V0z\" fill=\"none\"/>\n",
              "    <path d=\"M18.56 5.44l.94 2.06.94-2.06 2.06-.94-2.06-.94-.94-2.06-.94 2.06-2.06.94zm-11 1L8.5 8.5l.94-2.06 2.06-.94-2.06-.94L8.5 2.5l-.94 2.06-2.06.94zm10 10l.94 2.06.94-2.06 2.06-.94-2.06-.94-.94-2.06-.94 2.06-2.06.94z\"/><path d=\"M17.41 7.96l-1.37-1.37c-.4-.4-.92-.59-1.43-.59-.52 0-1.04.2-1.43.59L10.3 9.45l-7.72 7.72c-.78.78-.78 2.05 0 2.83L4 21.41c.39.39.9.59 1.41.59.51 0 1.02-.2 1.41-.59l7.78-7.78 2.81-2.81c.8-.78.8-2.07 0-2.86zM5.41 20L4 18.59l7.72-7.72 1.47 1.35L5.41 20z\"/>\n",
              "  </svg>\n",
              "      </button>\n",
              "      \n",
              "  <style>\n",
              "    .colab-df-container {\n",
              "      display:flex;\n",
              "      flex-wrap:wrap;\n",
              "      gap: 12px;\n",
              "    }\n",
              "\n",
              "    .colab-df-convert {\n",
              "      background-color: #E8F0FE;\n",
              "      border: none;\n",
              "      border-radius: 50%;\n",
              "      cursor: pointer;\n",
              "      display: none;\n",
              "      fill: #1967D2;\n",
              "      height: 32px;\n",
              "      padding: 0 0 0 0;\n",
              "      width: 32px;\n",
              "    }\n",
              "\n",
              "    .colab-df-convert:hover {\n",
              "      background-color: #E2EBFA;\n",
              "      box-shadow: 0px 1px 2px rgba(60, 64, 67, 0.3), 0px 1px 3px 1px rgba(60, 64, 67, 0.15);\n",
              "      fill: #174EA6;\n",
              "    }\n",
              "\n",
              "    [theme=dark] .colab-df-convert {\n",
              "      background-color: #3B4455;\n",
              "      fill: #D2E3FC;\n",
              "    }\n",
              "\n",
              "    [theme=dark] .colab-df-convert:hover {\n",
              "      background-color: #434B5C;\n",
              "      box-shadow: 0px 1px 3px 1px rgba(0, 0, 0, 0.15);\n",
              "      filter: drop-shadow(0px 1px 2px rgba(0, 0, 0, 0.3));\n",
              "      fill: #FFFFFF;\n",
              "    }\n",
              "  </style>\n",
              "\n",
              "      <script>\n",
              "        const buttonEl =\n",
              "          document.querySelector('#df-34218d93-fa5d-4519-8462-567d523ce412 button.colab-df-convert');\n",
              "        buttonEl.style.display =\n",
              "          google.colab.kernel.accessAllowed ? 'block' : 'none';\n",
              "\n",
              "        async function convertToInteractive(key) {\n",
              "          const element = document.querySelector('#df-34218d93-fa5d-4519-8462-567d523ce412');\n",
              "          const dataTable =\n",
              "            await google.colab.kernel.invokeFunction('convertToInteractive',\n",
              "                                                     [key], {});\n",
              "          if (!dataTable) return;\n",
              "\n",
              "          const docLinkHtml = 'Like what you see? Visit the ' +\n",
              "            '<a target=\"_blank\" href=https://colab.research.google.com/notebooks/data_table.ipynb>data table notebook</a>'\n",
              "            + ' to learn more about interactive tables.';\n",
              "          element.innerHTML = '';\n",
              "          dataTable['output_type'] = 'display_data';\n",
              "          await google.colab.output.renderOutput(dataTable, element);\n",
              "          const docLink = document.createElement('div');\n",
              "          docLink.innerHTML = docLinkHtml;\n",
              "          element.appendChild(docLink);\n",
              "        }\n",
              "      </script>\n",
              "    </div>\n",
              "  </div>\n",
              "  "
            ]
          },
          "metadata": {},
          "execution_count": 82
        }
      ]
    },
    {
      "cell_type": "code",
      "source": [
        "# group the data by app_id to analyze each app separately\n",
        "grouped_df = ADX_sample_data.groupby('app_id')\n"
      ],
      "metadata": {
        "id": "PRM7Uzr4trtV"
      },
      "execution_count": 119,
      "outputs": []
    },
    {
      "cell_type": "code",
      "source": [
        "# Define a function to calculate the z-score for a given metric\n",
        "def calculate_zscore(metric):\n",
        "    mean = ADX_sample_data[metric].mean()\n",
        "    std = ADX_sample_data[metric].std()\n",
        "    zscore = (ADX_sample_data[metric] - mean) / std\n",
        "    return zscore"
      ],
      "metadata": {
        "id": "qC2lLE4F-uQn"
      },
      "execution_count": 122,
      "outputs": []
    },
    {
      "cell_type": "code",
      "source": [
        "# Calculate the z-score for each metric\n",
        "zscore_requests = calculate_zscore('requests')\n",
        "zscore_impressions = calculate_zscore('ae_impressions')\n",
        "zscore_clicks = calculate_zscore('ae_clicks')\n",
        "zscore_revenue = calculate_zscore('ae_revenue')\n",
        "zscore_show_rate = calculate_zscore('ae_impressions') / calculate_zscore('ae_responses')\n",
        "zscore_click_rate = calculate_zscore('ae_clicks') / calculate_zscore('ae_impressions')"
      ],
      "metadata": {
        "id": "Iul1xJrZ-zEl"
      },
      "execution_count": 123,
      "outputs": []
    },
    {
      "cell_type": "code",
      "source": [
        "# Set a threshold for identifying anomalies (e.g. 3 standard deviations)\n",
        "threshold = 3\n",
        "\n",
        "# Identify any anomalies in the requests metric\n",
        "anomaly_requests = zscore_requests[zscore_requests.abs() > threshold]\n",
        "print(\"Anomalies in requests:\")\n",
        "print(anomaly_requests)"
      ],
      "metadata": {
        "colab": {
          "base_uri": "https://localhost:8080/"
        },
        "id": "OfN9CUV5ANoQ",
        "outputId": "96d24f18-5ae7-4346-9beb-0ae321be0947"
      },
      "execution_count": 124,
      "outputs": [
        {
          "output_type": "stream",
          "name": "stdout",
          "text": [
            "Anomalies in requests:\n",
            "675       4.230247\n",
            "694       3.378258\n",
            "842       4.589954\n",
            "844       6.943917\n",
            "905       3.184189\n",
            "           ...    \n",
            "36909    20.522845\n",
            "36910    14.458746\n",
            "36917     7.291391\n",
            "36918    10.160779\n",
            "36919     6.752492\n",
            "Name: requests, Length: 420, dtype: float64\n"
          ]
        }
      ]
    },
    {
      "cell_type": "code",
      "source": [
        "# Identify any anomalies in the impressions metric\n",
        "anomaly_impressions = zscore_impressions[zscore_impressions.abs() > threshold]\n",
        "print(\"Anomalies in ae_impressions:\")\n",
        "print(anomaly_impressions)\n"
      ],
      "metadata": {
        "colab": {
          "base_uri": "https://localhost:8080/"
        },
        "id": "IRJRgBY-AZko",
        "outputId": "4318dab6-2182-4a0e-fcc3-227e816fe2cd"
      },
      "execution_count": 125,
      "outputs": [
        {
          "output_type": "stream",
          "name": "stdout",
          "text": [
            "Anomalies in ae_impressions:\n",
            "842      3.516107\n",
            "844      3.204745\n",
            "1180     3.151435\n",
            "1550     3.758707\n",
            "1552     3.172295\n",
            "           ...   \n",
            "46411    3.033225\n",
            "46828    3.251874\n",
            "47238    3.375492\n",
            "47397    3.691489\n",
            "47780    3.151435\n",
            "Name: ae_impressions, Length: 377, dtype: float64\n"
          ]
        }
      ]
    },
    {
      "cell_type": "code",
      "source": [
        "# Identify any anomalies in the clicks metric\n",
        "anomaly_clicks = zscore_clicks[zscore_clicks.abs() > threshold]\n",
        "print(\"Anomalies in ae_clicks:\")\n",
        "print(anomaly_clicks)"
      ],
      "metadata": {
        "colab": {
          "base_uri": "https://localhost:8080/"
        },
        "id": "m0fIWyiIAkUW",
        "outputId": "518bebf9-530b-4be9-fab3-5e98c2d8d734"
      },
      "execution_count": 127,
      "outputs": [
        {
          "output_type": "stream",
          "name": "stdout",
          "text": [
            "Anomalies in ae_clicks:\n",
            "61       4.376146\n",
            "503      4.646698\n",
            "692      5.093109\n",
            "710      3.713294\n",
            "747      4.741392\n",
            "           ...   \n",
            "41552    5.931821\n",
            "41730    6.905808\n",
            "41731    3.212772\n",
            "41732    3.429214\n",
            "41735    3.293938\n",
            "Name: ae_clicks, Length: 364, dtype: float64\n"
          ]
        }
      ]
    },
    {
      "cell_type": "code",
      "source": [
        "anomaly_revenue = zscore_revenue[zscore_revenue.abs() > threshold]\n",
        "print(\"Anomalies in ae_revenue:\")\n",
        "print(anomaly_revenue)\n"
      ],
      "metadata": {
        "colab": {
          "base_uri": "https://localhost:8080/"
        },
        "id": "bU8wvjXEApMw",
        "outputId": "247ab0f0-aa6f-435c-e3f2-7f6e2ad081da"
      },
      "execution_count": 128,
      "outputs": [
        {
          "output_type": "stream",
          "name": "stdout",
          "text": [
            "Anomalies in ae_revenue:\n",
            "42       3.065929\n",
            "62       3.426301\n",
            "125      7.070236\n",
            "171      3.530886\n",
            "182      6.689194\n",
            "           ...   \n",
            "36450    3.261175\n",
            "36473    3.891731\n",
            "36495    3.379432\n",
            "36559    3.506805\n",
            "36596    4.015201\n",
            "Name: ae_revenue, Length: 122, dtype: float64\n"
          ]
        }
      ]
    },
    {
      "cell_type": "code",
      "source": [
        "# Identify any anomalies in the show-rate metric\n",
        "anomaly_show_rate = zscore_show_rate[zscore_show_rate.abs() > threshold]\n",
        "print(\"Anomalies in show-rate:\")\n",
        "print(anomaly_show_rate)"
      ],
      "metadata": {
        "colab": {
          "base_uri": "https://localhost:8080/"
        },
        "id": "ItFIcBAtAxP-",
        "outputId": "b01e39db-1351-44de-d812-20d8f46a65b5"
      },
      "execution_count": 129,
      "outputs": [
        {
          "output_type": "stream",
          "name": "stdout",
          "text": [
            "Anomalies in show-rate:\n",
            "34       -6.907944\n",
            "42       17.839823\n",
            "43       19.866737\n",
            "121       5.321054\n",
            "150      -4.971984\n",
            "           ...    \n",
            "47800    -5.237222\n",
            "47805     3.242891\n",
            "47860     3.976080\n",
            "47868    15.056843\n",
            "47896    -9.021284\n",
            "Length: 1662, dtype: float64\n"
          ]
        }
      ]
    },
    {
      "cell_type": "code",
      "source": [
        "# Identify any anomalies in the click-rate metric\n",
        "anomaly_click_rate = zscore_click_rate[zscore_click_rate.abs() > threshold]\n",
        "print(\"Anomalies in click-rate:\")\n",
        "print(anomaly_click_rate)"
      ],
      "metadata": {
        "colab": {
          "base_uri": "https://localhost:8080/"
        },
        "id": "8Kzr6NiyA148",
        "outputId": "3e5c8fff-9b12-41f8-8ad7-82fa7d9b1781"
      },
      "execution_count": 130,
      "outputs": [
        {
          "output_type": "stream",
          "name": "stdout",
          "text": [
            "Anomalies in click-rate:\n",
            "3         4.895721\n",
            "5         4.470014\n",
            "12      -29.756965\n",
            "13        4.630582\n",
            "14        4.217544\n",
            "           ...    \n",
            "47811    -4.390244\n",
            "47849    22.241196\n",
            "47896    -3.084245\n",
            "47898     4.825408\n",
            "47900     9.971264\n",
            "Length: 4088, dtype: float64\n"
          ]
        }
      ]
    }
  ]
}