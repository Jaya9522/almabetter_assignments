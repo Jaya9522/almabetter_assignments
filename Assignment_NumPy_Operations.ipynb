{
  "nbformat": 4,
  "nbformat_minor": 0,
  "metadata": {
    "colab": {
      "provenance": [],
      "collapsed_sections": [],
      "include_colab_link": true
    },
    "kernelspec": {
      "name": "python3",
      "display_name": "Python 3"
    }
  },
  "cells": [
    {
      "cell_type": "markdown",
      "metadata": {
        "id": "view-in-github",
        "colab_type": "text"
      },
      "source": [
        "<a href=\"https://colab.research.google.com/github/Jaya9522/almabetter_assignments/blob/main/Assignment_NumPy_Operations.ipynb\" target=\"_parent\"><img src=\"https://colab.research.google.com/assets/colab-badge.svg\" alt=\"Open In Colab\"/></a>"
      ]
    },
    {
      "cell_type": "markdown",
      "metadata": {
        "id": "MKXTc2Tas23T"
      },
      "source": [
        "# <u> Use only those concepts which have been taught till now </u>"
      ]
    },
    {
      "cell_type": "code",
      "metadata": {
        "id": "0V3Xtuh9siNn"
      },
      "source": [
        "import numpy as np"
      ],
      "execution_count": 1,
      "outputs": []
    },
    {
      "cell_type": "markdown",
      "metadata": {
        "id": "Ase3qjp9cJUC"
      },
      "source": [
        "# <u>**Problem 1**</u>\n",
        "\n",
        "### What is the average value of the first 5 rows of the third and fourth columns?\n",
        "\n"
      ]
    },
    {
      "cell_type": "code",
      "metadata": {
        "id": "xj0SaK7smcPu",
        "outputId": "f8d62351-1507-45e7-8001-fafd1546205d",
        "colab": {
          "base_uri": "https://localhost:8080/"
        }
      },
      "source": [
        "np.random.seed(21) # This guarantees the code will generate the same set of random numbers whenever executed\n",
        "random_integers = np.random.randint(1,high=500000, size=(20, 5))\n",
        "random_integers"
      ],
      "execution_count": 2,
      "outputs": [
        {
          "output_type": "execute_result",
          "data": {
            "text/plain": [
              "array([[ 80842, 333008, 202553, 140037,  81969],\n",
              "       [ 63857,  42105, 261540, 481981, 176739],\n",
              "       [489984, 326386, 110795, 394863,  25024],\n",
              "       [ 38317,  49982, 408830, 485118,  16119],\n",
              "       [407675, 231729, 265455, 109413, 103399],\n",
              "       [174677, 343356, 301717, 224120, 401101],\n",
              "       [140473, 254634, 112262,  25063, 108262],\n",
              "       [375059, 406983, 208947, 115641, 296685],\n",
              "       [444899, 129585, 171318, 313094, 425041],\n",
              "       [188411, 335140, 141681,  59641, 211420],\n",
              "       [287650,   8973, 477425, 382803, 465168],\n",
              "       [  3975,  32213, 160603, 275485, 388234],\n",
              "       [246225,  56174, 244097,   9350, 496966],\n",
              "       [225516, 273338,  73335, 283013, 212813],\n",
              "       [ 38175, 282399, 318413, 337639, 379802],\n",
              "       [198049, 101115, 419547, 260219, 325793],\n",
              "       [148593, 425024, 348570, 117968, 107007],\n",
              "       [ 52547, 180346, 178760, 305186, 262153],\n",
              "       [ 11835, 449971, 494184, 472031, 353049],\n",
              "       [476442,  35455, 191553, 384154,  29917]])"
            ]
          },
          "metadata": {},
          "execution_count": 2
        }
      ]
    },
    {
      "cell_type": "code",
      "metadata": {
        "id": "N1hhYCZw3V1c",
        "outputId": "082b74a3-bba6-46e3-a840-8dc2bc3225cb",
        "colab": {
          "base_uri": "https://localhost:8080/"
        }
      },
      "source": [
        "# Your code here\n",
        "random_integers[:5,2:4].mean()"
      ],
      "execution_count": 3,
      "outputs": [
        {
          "output_type": "execute_result",
          "data": {
            "text/plain": [
              "286058.5"
            ]
          },
          "metadata": {},
          "execution_count": 3
        }
      ]
    },
    {
      "cell_type": "markdown",
      "metadata": {
        "id": "POAj5sBgd3gd"
      },
      "source": [
        "#<u>**Problem 2**</u>\n",
        "\n",
        "### In this problem, we are going to calculate distances between some pairs of points :\n",
        "\n",
        "### <u> Measures of distances </u>\n",
        "* ### Euclidean Distance : The distance between two points $(x_{1},y_{1})$ , $(x_{2},y_{2})$ is defined as :\n",
        "${\\displaystyle d(x,y)={\\sqrt {(x_{1}-x_{2})^{2}+(y_{1}-y_{2})^{2}}}.}$\n",
        "\n",
        "* ### Manhattan Distance : The distance between two points $(x_{1},y_{1})$ , $(x_{2},y_{2})$ is defined as :\n",
        "${\\displaystyle d(x,y)=|x_{1}-x_{2}|+|y_{1}-y_{2}|}$\n"
      ]
    },
    {
      "cell_type": "markdown",
      "metadata": {
        "id": "lw7TLsfd-eXc"
      },
      "source": [
        "### Create a 2-D array of 10 points where the x-coordinates and the y-coordinates can take random integral values between 5 and 20.\n",
        "\n",
        "\n",
        "### Next, create two 1-D arrays(one for  Euclidean distance and the other for  Manhattan distance) for these points\n"
      ]
    },
    {
      "cell_type": "code",
      "metadata": {
        "id": "TOEq4PEP5y8X",
        "outputId": "85bd2463-2cba-4c73-daa3-550cf9a7e9be",
        "colab": {
          "base_uri": "https://localhost:8080/"
        }
      },
      "source": [
        "# Create the 10 points\n",
        "points=np.random.randint(5,20,size=(10,2))\n",
        "points"
      ],
      "execution_count": 4,
      "outputs": [
        {
          "output_type": "execute_result",
          "data": {
            "text/plain": [
              "array([[19, 12],\n",
              "       [10, 16],\n",
              "       [ 7, 12],\n",
              "       [10, 19],\n",
              "       [ 5,  9],\n",
              "       [ 7,  7],\n",
              "       [ 5, 14],\n",
              "       [16,  6],\n",
              "       [ 5,  8],\n",
              "       [ 6,  8]])"
            ]
          },
          "metadata": {},
          "execution_count": 4
        }
      ]
    },
    {
      "cell_type": "code",
      "metadata": {
        "id": "n86qvsfF6PO2",
        "outputId": "ab20e192-6e2c-4a52-f675-d370bc621711",
        "colab": {
          "base_uri": "https://localhost:8080/"
        }
      },
      "source": [
        "# Calculate Euclidean distances between these pairs of points (total 10*10 = 100 pairs including self pairs). This should give you a 10*10 2-D array where each value corresponds to the distance between a pair\n",
        "def eucledian_distance(point1,point2):\n",
        "    \"\"\"Calculates and returns Eucledian Distance\"\"\"\n",
        "    x1,y1=point1\n",
        "    x2,y2=point2\n",
        "    return round(((x2-x1)**2+(y2-y1)**2)**0.5,2)                                # calculating eucledian distance \n",
        "    \n",
        "euclidean_distances=[]\n",
        "for i in range(10):\n",
        "    inner_llist=[]\n",
        "    for j in range(10):\n",
        "        inner_llist.append(eucledian_distance(points[i],points[j]))\n",
        "    euclidean_distances.append(np.asarray(inner_llist))\n",
        "euclidean_distances = np.asarray(euclidean_distances)\n",
        "print(euclidean_distances)\n",
        "\n",
        "\n"
      ],
      "execution_count": 5,
      "outputs": [
        {
          "output_type": "stream",
          "name": "stdout",
          "text": [
            "[[ 0.    9.85 12.   11.4  14.32 13.   14.14  6.71 14.56 13.6 ]\n",
            " [ 9.85  0.    5.    3.    8.6   9.49  5.39 11.66  9.43  8.94]\n",
            " [12.    5.    0.    7.62  3.61  5.    2.83 10.82  4.47  4.12]\n",
            " [11.4   3.    7.62  0.   11.18 12.37  7.07 14.32 12.08 11.7 ]\n",
            " [14.32  8.6   3.61 11.18  0.    2.83  5.   11.4   1.    1.41]\n",
            " [13.    9.49  5.   12.37  2.83  0.    7.28  9.06  2.24  1.41]\n",
            " [14.14  5.39  2.83  7.07  5.    7.28  0.   13.6   6.    6.08]\n",
            " [ 6.71 11.66 10.82 14.32 11.4   9.06 13.6   0.   11.18 10.2 ]\n",
            " [14.56  9.43  4.47 12.08  1.    2.24  6.   11.18  0.    1.  ]\n",
            " [13.6   8.94  4.12 11.7   1.41  1.41  6.08 10.2   1.    0.  ]]\n"
          ]
        }
      ]
    },
    {
      "cell_type": "code",
      "metadata": {
        "id": "-FIU9Wp97V3P",
        "outputId": "f56ff707-fb7b-49d3-83f0-b13ef33cc302",
        "colab": {
          "base_uri": "https://localhost:8080/"
        }
      },
      "source": [
        "# Calculate Manhattan distances between these pairs of points (total 10*10 = 100 pairs inlcuding self pairs).This should give you a 10*10 2-D array where each value corresponds to the distance between a pair.\n",
        "def manhattan_distance(point1,point2):\n",
        "    \"\"\"Calclates and returns Manhattan Distance\"\"\"\n",
        "    x1,y1=point1\n",
        "    x2,y2=point2\n",
        "    return round((abs(x2-x1)+abs(y2-y1)),2)                                     # The manhattan distance            \n",
        "\n",
        "manhattan_distances=[]\n",
        "for i in range(10):\n",
        "    inner_llist=[]\n",
        "    for j in range(10):\n",
        "        inner_llist.append(manhattan_distance(points[i],points[j]))             \n",
        "    manhattan_distances.append(np.asarray(inner_llist))\n",
        "manhattan_distances=np.asarray(manhattan_distances)\n",
        "print(manhattan_distances)\n",
        "\n",
        "\n"
      ],
      "execution_count": 6,
      "outputs": [
        {
          "output_type": "stream",
          "name": "stdout",
          "text": [
            "[[ 0 13 12 16 17 17 16  9 18 17]\n",
            " [13  0  7  3 12 12  7 16 13 12]\n",
            " [12  7  0 10  5  5  4 15  6  5]\n",
            " [16  3 10  0 15 15 10 19 16 15]\n",
            " [17 12  5 15  0  4  5 14  1  2]\n",
            " [17 12  5 15  4  0  9 10  3  2]\n",
            " [16  7  4 10  5  9  0 19  6  7]\n",
            " [ 9 16 15 19 14 10 19  0 13 12]\n",
            " [18 13  6 16  1  3  6 13  0  1]\n",
            " [17 12  5 15  2  2  7 12  1  0]]\n"
          ]
        }
      ]
    },
    {
      "cell_type": "markdown",
      "metadata": {
        "id": "5ZaKtQlZBLoQ"
      },
      "source": [
        "## Find the closest pairs (excluding self pairs) on the basis of both the distance measures"
      ]
    },
    {
      "cell_type": "code",
      "metadata": {
        "id": "AeKJGamV6qnu",
        "outputId": "9b375ad0-f585-4b2b-e21b-0969ead11f33",
        "colab": {
          "base_uri": "https://localhost:8080/"
        }
      },
      "source": [
        "# Your code here\n",
        "nearest_points_manhattan=[]\n",
        "for ind,arr in enumerate(manhattan_distances+np.identity(10)*1000):\n",
        "    nearest_points_manhattan.append((points[ind],points[arr.argmin()]))         # index of the value with min distance is stored and the corrosponding points accesed\n",
        "    \n",
        "print(nearest_points_manhattan)\n",
        "\n",
        "nearest_points_euclidean=[]\n",
        "for ind,arr in enumerate(euclidean_distances+np.identity(10)*1000):\n",
        "    nearest_points_euclidean.append((points[ind],points[arr.argmin()]))         # index of the value with min distance is stored and the corrosponding points accesed\n",
        "\n",
        "print(nearest_points_euclidean)\n",
        "\n",
        "\n"
      ],
      "execution_count": 8,
      "outputs": [
        {
          "output_type": "stream",
          "name": "stdout",
          "text": [
            "[(array([19, 12]), array([16,  6])), (array([10, 16]), array([10, 19])), (array([ 7, 12]), array([ 5, 14])), (array([10, 19]), array([10, 16])), (array([5, 9]), array([5, 8])), (array([7, 7]), array([6, 8])), (array([ 5, 14]), array([ 7, 12])), (array([16,  6]), array([19, 12])), (array([5, 8]), array([5, 9])), (array([6, 8]), array([5, 8]))]\n",
            "[(array([19, 12]), array([16,  6])), (array([10, 16]), array([10, 19])), (array([ 7, 12]), array([ 5, 14])), (array([10, 19]), array([10, 16])), (array([5, 9]), array([5, 8])), (array([7, 7]), array([6, 8])), (array([ 5, 14]), array([ 7, 12])), (array([16,  6]), array([19, 12])), (array([5, 8]), array([5, 9])), (array([6, 8]), array([5, 8]))]\n"
          ]
        }
      ]
    },
    {
      "cell_type": "markdown",
      "metadata": {
        "id": "rnEIpxdzfIhF"
      },
      "source": [
        "# <u>**Problem 3**</u>\n",
        "\n",
        "## Extract all the contiguous 3x3 blocks from a random 10x10 matrix. For example, the first matrix corresponds to [:3,:3], then the second matrix corresponds to [:3,1:4],.... Once you have covered the first three rows, then the next set of matrices would be [1:4,:3],[1:4,1:4],.... and so on and so forth. The last matrix would be [7:10,7:10]"
      ]
    },
    {
      "cell_type": "code",
      "metadata": {
        "id": "NuQh8LLBma-0",
        "outputId": "c2cdef29-28a7-4198-9179-8f26cef1d3dc",
        "colab": {
          "base_uri": "https://localhost:8080/"
        }
      },
      "source": [
        "# Your code below ..\n",
        "contiguous_list=[]\n",
        "big_matrix=np.random.randint(1,100,size=(10,10))\n",
        "print(big_matrix)\n",
        "for row in range(0,8):      # for accessing rows one by one\n",
        "    for col in range(0,8):  # for accessing rows one by one\n",
        "        contiguous_list.append(big_matrix[row:row+3,col:col+3])\n",
        "\n",
        "contiguous_array=np.asarray(contiguous_list)\n",
        "\n",
        "print(contiguous_array)\n"
      ],
      "execution_count": 10,
      "outputs": [
        {
          "output_type": "stream",
          "name": "stdout",
          "text": [
            "[[70 44 66 91 86 81 14 80 43 24]\n",
            " [ 3 80 76 29 50 84 83 88 91 81]\n",
            " [79  8 98 46 11 32 23 65 18  2]\n",
            " [70 55 87 22 75 12 16 78 84 40]\n",
            " [74 33 19 68 68 74 63 26 55 57]\n",
            " [47 27 67  2 89 76 86 31 76 55]\n",
            " [39 34 99 76  6  2 57 72 99 78]\n",
            " [21 78 93  4 57 41 65 80 38 55]\n",
            " [61  4 29 74 48 18 45 71  2 50]\n",
            " [31 39 84 47 87 98 50 23 77 88]]\n",
            "[[[70 44 66]\n",
            "  [ 3 80 76]\n",
            "  [79  8 98]]\n",
            "\n",
            " [[44 66 91]\n",
            "  [80 76 29]\n",
            "  [ 8 98 46]]\n",
            "\n",
            " [[66 91 86]\n",
            "  [76 29 50]\n",
            "  [98 46 11]]\n",
            "\n",
            " [[91 86 81]\n",
            "  [29 50 84]\n",
            "  [46 11 32]]\n",
            "\n",
            " [[86 81 14]\n",
            "  [50 84 83]\n",
            "  [11 32 23]]\n",
            "\n",
            " [[81 14 80]\n",
            "  [84 83 88]\n",
            "  [32 23 65]]\n",
            "\n",
            " [[14 80 43]\n",
            "  [83 88 91]\n",
            "  [23 65 18]]\n",
            "\n",
            " [[80 43 24]\n",
            "  [88 91 81]\n",
            "  [65 18  2]]\n",
            "\n",
            " [[ 3 80 76]\n",
            "  [79  8 98]\n",
            "  [70 55 87]]\n",
            "\n",
            " [[80 76 29]\n",
            "  [ 8 98 46]\n",
            "  [55 87 22]]\n",
            "\n",
            " [[76 29 50]\n",
            "  [98 46 11]\n",
            "  [87 22 75]]\n",
            "\n",
            " [[29 50 84]\n",
            "  [46 11 32]\n",
            "  [22 75 12]]\n",
            "\n",
            " [[50 84 83]\n",
            "  [11 32 23]\n",
            "  [75 12 16]]\n",
            "\n",
            " [[84 83 88]\n",
            "  [32 23 65]\n",
            "  [12 16 78]]\n",
            "\n",
            " [[83 88 91]\n",
            "  [23 65 18]\n",
            "  [16 78 84]]\n",
            "\n",
            " [[88 91 81]\n",
            "  [65 18  2]\n",
            "  [78 84 40]]\n",
            "\n",
            " [[79  8 98]\n",
            "  [70 55 87]\n",
            "  [74 33 19]]\n",
            "\n",
            " [[ 8 98 46]\n",
            "  [55 87 22]\n",
            "  [33 19 68]]\n",
            "\n",
            " [[98 46 11]\n",
            "  [87 22 75]\n",
            "  [19 68 68]]\n",
            "\n",
            " [[46 11 32]\n",
            "  [22 75 12]\n",
            "  [68 68 74]]\n",
            "\n",
            " [[11 32 23]\n",
            "  [75 12 16]\n",
            "  [68 74 63]]\n",
            "\n",
            " [[32 23 65]\n",
            "  [12 16 78]\n",
            "  [74 63 26]]\n",
            "\n",
            " [[23 65 18]\n",
            "  [16 78 84]\n",
            "  [63 26 55]]\n",
            "\n",
            " [[65 18  2]\n",
            "  [78 84 40]\n",
            "  [26 55 57]]\n",
            "\n",
            " [[70 55 87]\n",
            "  [74 33 19]\n",
            "  [47 27 67]]\n",
            "\n",
            " [[55 87 22]\n",
            "  [33 19 68]\n",
            "  [27 67  2]]\n",
            "\n",
            " [[87 22 75]\n",
            "  [19 68 68]\n",
            "  [67  2 89]]\n",
            "\n",
            " [[22 75 12]\n",
            "  [68 68 74]\n",
            "  [ 2 89 76]]\n",
            "\n",
            " [[75 12 16]\n",
            "  [68 74 63]\n",
            "  [89 76 86]]\n",
            "\n",
            " [[12 16 78]\n",
            "  [74 63 26]\n",
            "  [76 86 31]]\n",
            "\n",
            " [[16 78 84]\n",
            "  [63 26 55]\n",
            "  [86 31 76]]\n",
            "\n",
            " [[78 84 40]\n",
            "  [26 55 57]\n",
            "  [31 76 55]]\n",
            "\n",
            " [[74 33 19]\n",
            "  [47 27 67]\n",
            "  [39 34 99]]\n",
            "\n",
            " [[33 19 68]\n",
            "  [27 67  2]\n",
            "  [34 99 76]]\n",
            "\n",
            " [[19 68 68]\n",
            "  [67  2 89]\n",
            "  [99 76  6]]\n",
            "\n",
            " [[68 68 74]\n",
            "  [ 2 89 76]\n",
            "  [76  6  2]]\n",
            "\n",
            " [[68 74 63]\n",
            "  [89 76 86]\n",
            "  [ 6  2 57]]\n",
            "\n",
            " [[74 63 26]\n",
            "  [76 86 31]\n",
            "  [ 2 57 72]]\n",
            "\n",
            " [[63 26 55]\n",
            "  [86 31 76]\n",
            "  [57 72 99]]\n",
            "\n",
            " [[26 55 57]\n",
            "  [31 76 55]\n",
            "  [72 99 78]]\n",
            "\n",
            " [[47 27 67]\n",
            "  [39 34 99]\n",
            "  [21 78 93]]\n",
            "\n",
            " [[27 67  2]\n",
            "  [34 99 76]\n",
            "  [78 93  4]]\n",
            "\n",
            " [[67  2 89]\n",
            "  [99 76  6]\n",
            "  [93  4 57]]\n",
            "\n",
            " [[ 2 89 76]\n",
            "  [76  6  2]\n",
            "  [ 4 57 41]]\n",
            "\n",
            " [[89 76 86]\n",
            "  [ 6  2 57]\n",
            "  [57 41 65]]\n",
            "\n",
            " [[76 86 31]\n",
            "  [ 2 57 72]\n",
            "  [41 65 80]]\n",
            "\n",
            " [[86 31 76]\n",
            "  [57 72 99]\n",
            "  [65 80 38]]\n",
            "\n",
            " [[31 76 55]\n",
            "  [72 99 78]\n",
            "  [80 38 55]]\n",
            "\n",
            " [[39 34 99]\n",
            "  [21 78 93]\n",
            "  [61  4 29]]\n",
            "\n",
            " [[34 99 76]\n",
            "  [78 93  4]\n",
            "  [ 4 29 74]]\n",
            "\n",
            " [[99 76  6]\n",
            "  [93  4 57]\n",
            "  [29 74 48]]\n",
            "\n",
            " [[76  6  2]\n",
            "  [ 4 57 41]\n",
            "  [74 48 18]]\n",
            "\n",
            " [[ 6  2 57]\n",
            "  [57 41 65]\n",
            "  [48 18 45]]\n",
            "\n",
            " [[ 2 57 72]\n",
            "  [41 65 80]\n",
            "  [18 45 71]]\n",
            "\n",
            " [[57 72 99]\n",
            "  [65 80 38]\n",
            "  [45 71  2]]\n",
            "\n",
            " [[72 99 78]\n",
            "  [80 38 55]\n",
            "  [71  2 50]]\n",
            "\n",
            " [[21 78 93]\n",
            "  [61  4 29]\n",
            "  [31 39 84]]\n",
            "\n",
            " [[78 93  4]\n",
            "  [ 4 29 74]\n",
            "  [39 84 47]]\n",
            "\n",
            " [[93  4 57]\n",
            "  [29 74 48]\n",
            "  [84 47 87]]\n",
            "\n",
            " [[ 4 57 41]\n",
            "  [74 48 18]\n",
            "  [47 87 98]]\n",
            "\n",
            " [[57 41 65]\n",
            "  [48 18 45]\n",
            "  [87 98 50]]\n",
            "\n",
            " [[41 65 80]\n",
            "  [18 45 71]\n",
            "  [98 50 23]]\n",
            "\n",
            " [[65 80 38]\n",
            "  [45 71  2]\n",
            "  [50 23 77]]\n",
            "\n",
            " [[80 38 55]\n",
            "  [71  2 50]\n",
            "  [23 77 88]]]\n"
          ]
        }
      ]
    },
    {
      "cell_type": "markdown",
      "metadata": {
        "id": "UtGDDH9Qq_2M"
      },
      "source": [
        "#<u>**Problem 4**</u>\n",
        "\n",
        "### Write a function which finds the nearest value from a given value in an array of random N elements. Suppose you created an 1-D array with 15 elements taking values between 10 and 500. Your function would take any input from these values and return the nearest value. (You can use np.abs() function)"
      ]
    },
    {
      "cell_type": "code",
      "metadata": {
        "id": "oknMAmKWFNSX",
        "outputId": "13d973f4-212c-4402-fc81-27ed1821aa32",
        "colab": {
          "base_uri": "https://localhost:8080/"
        }
      },
      "source": [
        "# Your function below\n",
        "def get_nearest_value(elem,array):\n",
        "    \"\"\"Return the nearest value in the given array for given input\"\"\"\n",
        "    nearest_value = array.flat[np.abs(array - elem).argmin()]                   # flatern and then findind the value with min difrence for given input\n",
        "    return nearest_value\n",
        "array=np.random.randint(10,500, size=(1, 15))\n",
        "print(array)\n",
        "\n",
        "\n",
        "\n"
      ],
      "execution_count": 11,
      "outputs": [
        {
          "output_type": "stream",
          "name": "stdout",
          "text": [
            "[[368  63 465 310  28  70 195 295 105 499 420  31 246 324 249]]\n"
          ]
        }
      ]
    },
    {
      "cell_type": "code",
      "source": [
        "ele=int(input(\"Enter the element for which you want to find the nearest value for \"))\n",
        "print(f\"Nearest point to {ele} is {get_nearest_value(ele,array)}\")"
      ],
      "metadata": {
        "id": "fzeKCYgQq8nD",
        "outputId": "90f04bb9-a9a2-4e95-f690-3bb838458755",
        "colab": {
          "base_uri": "https://localhost:8080/"
        }
      },
      "execution_count": 12,
      "outputs": [
        {
          "output_type": "stream",
          "name": "stdout",
          "text": [
            "Enter the element for which you want to find the nearest value for 12\n",
            "Nearest point to 12 is 28\n"
          ]
        }
      ]
    },
    {
      "cell_type": "code",
      "source": [],
      "metadata": {
        "id": "MJBVGzj2rB3q"
      },
      "execution_count": null,
      "outputs": []
    }
  ]
}